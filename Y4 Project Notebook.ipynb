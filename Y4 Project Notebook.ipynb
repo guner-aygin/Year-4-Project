{
 "cells": [
  {
   "cell_type": "markdown",
   "id": "8d4f0260-82f6-4c14-ae18-9794c91164fa",
   "metadata": {},
   "source": [
    "# Year 4 Project Notebook\n",
    "\n",
    "### ~ *Guner Aygin*\n",
    "\n",
    "## Introduction\n",
    "**Stellar Activity Prediction using Probabilistic Machine Learning**. The aim of this project is to learn big data methods to analyse astronomical data sets, namely the solar cycle data.  \n",
    "\n",
    "A key aspect of this project is the use of **Probability & Statistics** - nothing will work without a solid understanding of these topics (see *Notes on Statistics & Modelling*).\n",
    "Some of the topics I will be covering include:\n",
    "\n",
    "* Linear Regression\n",
    "    * $y = mx + c$ for *simple linear regression* where we only have one variable. \n",
    "    * $y = b \\cdot x + \\epsilon$ for *multiple linear regression* where we are using matrices of multiple variables (I think).\n",
    "* Non-linear Regression - fitting a *polynomial* model.\n",
    "* Bayes Theorem - $ P(\\theta|D) = P(D|\\theta) \\frac{P(\\theta)}{P(D)} \\propto P(D|\\theta)P(\\theta) $\n",
    "    * $P(\\theta|D)$ - posterior\n",
    "    * $P(\\theta)$ - prior\n",
    "    * $P(D|\\theta)$ - likelihood, requires the likelihood & model.\n",
    "    * $P(D)$ - evidence, the probability of the data.\n",
    "\n",
    "For a sufficiently large sample size, the posterior distribution becomes independent of the prior. https://brunomaga.github.io/Bayesian-Linear-Regression\n",
    "\n",
    "* Machine Learning (ML) - there are two types of ML model approach; ***Supervised*** & ***Unsupervised*** learning.\n",
    "   \n",
    "   https://www.seldon.io/supervised-vs-unsupervised-learning-explained\n",
    "    * **Supervised** machine learning requires labelled input and output data during the training phase of the machine learning lifecycle. It is used to classify unseen data into established categories and forecast trends and future change as a predictive model.\n",
    "        * **Classification** - Categorizing a given set of data into classes.\n",
    "        * **Regression** - Predicting outcomes for continuously changing data.\n",
    "    * **Unsupervised** machine learning is the training of models on raw and unlabelled training data. It is used to identify patterns and trends in raw datasets, or to cluster similar data into a specific number of groups.\n",
    "        *  **Clustering** - Grouping N data points into M groups. \n",
    "\n",
    "As well as the differences between Supervised and Unsupervised ML models, we also have Generative and Discriminative models. \n",
    "* **Generative** models can generate new data. They capture the *joint probability* $P(X,Y)$. Includes the distribution of the data.\n",
    "\n",
    "    https://developers.google.com/machine-learning/gan/generative\n",
    "    \n",
    "* **Discriminative** models discriminate between different kinds of data instances, i.e. Dead/Alive, Yes/No, Pass/Fail. They study the *conditional probability* $P(Y|X)$. Ignores how likely an instance is, just tells you how to label it. Discriminative methods can lead to incorrect results if somewhere down the *decision tree* there is something which pushes a True to a False, then the final conclusion will be incorrect. These errors need to be accounted for.\n",
    "\n",
    "    https://en.wikipedia.org/wiki/Discriminative_model \n",
    "\n",
    "The **LIKELIHOOD** all comes from statistics and probability, whereas the **MODEL** comes from the regression/ML/generative models.\n",
    "\n",
    "The other aspects of this project which I will be working on include: *optimization*, *MCMC*, *nested samples* (more information on these at a later stage).\n",
    "\n",
    "#### Future Work\n",
    "In this project, in order to learn the different techniques, I will be attempting a series of mini-projects (what they are is currently unknown) which centre around the themes discussed above. The eventual goal is to model the *Solar Activity Cycles* using ML and comparing it with the traditional techniques, (hopefully) concluding that ML is superior.\n",
    "\n",
    "Below I will create a weekly log, summarising the key achievements of that week. For daily updates see GitHub commits."
   ]
  },
  {
   "cell_type": "markdown",
   "id": "df94a294-d286-468e-a799-3354a564f292",
   "metadata": {},
   "source": [
    "\n"
   ]
  },
  {
   "cell_type": "markdown",
   "id": "9df31b01-b10e-4e84-a1a0-8e8dd1c56920",
   "metadata": {},
   "source": [
    "## Project Week 1 ~ 26/09/2022\n",
    "\n",
    "The first week of the project has been spent deciding which of the three main types of Machine Learning techniques I want to include: **Traditional**, **Probabilistic**, or **Deep Learning**.\n",
    "\n",
    "I concluded that **Probabilistic** techniques best suited my future career goals, and so that will be the main focus of the project, although there will be some overlap with some traditional techniques.\n",
    "\n",
    "For more information on the different ML techniques see the following:\n",
    "* Traditional: https://scikit-learn.org/stable/\n",
    "* Probabilistic: https://www.tensorflow.org/probability\n",
    "* Deep Learning: https://www.tensorflow.org/"
   ]
  },
  {
   "cell_type": "markdown",
   "id": "49ecd837-7e22-4932-a3d5-7794ea736349",
   "metadata": {},
   "source": [
    "## Project Week 2 ~ 03/10/2022\n",
    "\n",
    "This week has been spent devising a plan for how to proceed with the project, and learning the essential statistics necessary to go with it (as well as the creation of this notebook).\n",
    "\n",
    "It has been decided that the physical phenomenon being investigated using the probabilistic methods is the **Solar Acticity Cycles**. This is measured by counting the number of sun-spots on the sun, and there is data stretching back hundreds of years which I can analyse. Predictig solar activity cycles from a physical point of view has proven to be very difficult, which is why I will be training model to predict future cycles for me. Week 3's task will be to read a paper on Solar Cycles, to understand more about it. \n",
    "\n",
    "'Notes on Statistics & Modelling' contains exactly what the title suggests, and is taken mostly from *Numerical Recipes Second Edition* and *LM Inference from Scientific Data*. See GitHub commits to for when these notes have been updates."
   ]
  },
  {
   "cell_type": "markdown",
   "id": "425d83fa-a3d8-4491-bd1a-02bd5917ffd4",
   "metadata": {},
   "source": [
    "## Project Week 3 ~ 10/10/2022\n",
    "\n",
    "This week I have been tasked with reading through a numbe of papers:\n",
    "* Bayesian workflow: https://arxiv.org/abs/2011.01808\n",
    "* The Solar Cycle: https://link.springer.com/article/10.12942/lrsp-2010-1\n",
    "\n",
    "On top of this I need to find and plot *real* solar cycle data & create a linear regression model using fake data.\n",
    "I have also tasked myself with trying to learn more about the basics of machine learning through various textbooks and online courses. \n",
    "\n",
    "Created a set of fake linear data and fitted the points with a least-squares model, gradient descent model, and maximum liklihood model. The gradient descent is a robut method of creating a linear regression algorithm from scratch, but I also used the built-in Scikit Linear Regression module to prove that the GD is optimized. Need to understand and implement MCMC https://prappleizer.github.io/Tutorials/MCMC/MCMC_Tutorial.html\n",
    "\n",
    "Made a start on Solar Cycles notes, and have plotted the raw sunspot data."
   ]
  }
 ],
 "metadata": {
  "kernelspec": {
   "display_name": "Python 3 (ipykernel)",
   "language": "python",
   "name": "python3"
  },
  "language_info": {
   "codemirror_mode": {
    "name": "ipython",
    "version": 3
   },
   "file_extension": ".py",
   "mimetype": "text/x-python",
   "name": "python",
   "nbconvert_exporter": "python",
   "pygments_lexer": "ipython3",
   "version": "3.8.13"
  }
 },
 "nbformat": 4,
 "nbformat_minor": 5
}
