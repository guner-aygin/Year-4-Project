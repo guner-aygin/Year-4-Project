{
 "cells": [
  {
   "cell_type": "markdown",
   "id": "8d4f0260-82f6-4c14-ae18-9794c91164fa",
   "metadata": {},
   "source": [
    "# Year 4 Project Notebook\n",
    "\n",
    "### ~ *Guner Aygin*\n",
    "\n",
    "## Introduction\n",
    "**Stellar Activity Prediction using Probabilistic Machine Learning**. The aim of this project is to learn big data methods to analyse astronomical data sets, namely the solar cycle data.  \n",
    "\n",
    "A key aspect of this project is the use of **Probability & Statistics** - nothing will work without a solid understanding of these topics (see *Notes on Statistics & Modelling*).\n",
    "Some of the topics I will be covering include:\n",
    "\n",
    "* Linear Regression\n",
    "    * $y = mx + c$ for *simple linear regression* where we only have one variable. \n",
    "    * $y = b \\cdot x + \\epsilon$ for *multiple linear regression* where we are using matrices of multiple variables (I think).\n",
    "* Non-linear Regression - fitting a *polynomial* model.\n",
    "* Bayes Theorem - $ P(A|B) \\propto P(B|A) * P(A)$\n",
    "    * P(A|B) - posterior\n",
    "    * P(A) - prior\n",
    "    * P(B|A) - likelihood, requires the likelihood & model.\n",
    "* Machine Learning (ML) - there are two types of ML model approach; ***Supervised*** & ***Unsupervised*** learning.\n",
    "   \n",
    "   https://www.seldon.io/supervised-vs-unsupervised-learning-explained\n",
    "    * **Supervised** machine learning requires labelled input and output data during the training phase of the machine learning lifecycle. It is used to classify unseen data into established categories and forecast trends and future change as a predictive model.\n",
    "        * **Classification** - Categorizing a given set of data into classes.\n",
    "        * **Regression** - Predicting outcomes for continuously changing data.\n",
    "    * **Unsupervised** machine learning is the training of models on raw and unlabelled training data. It is used to identify patterns and trends in raw datasets, or to cluster similar data into a specific number of groups.\n",
    "        *  **Clustering** - Grouping N data points into M groups. \n",
    "\n",
    "As well as the differences between Supervised and Unsupervised ML models, we also have Generative and Discriminative models. \n",
    "* **Generative** models can generate new data. They capture the *joint probability* $P(X,Y)$. Includes the distribution of the data.\n",
    "\n",
    "    https://developers.google.com/machine-learning/gan/generative\n",
    "    \n",
    "* **Discriminative** models discriminate between different kinds of data instances, i.e. Dead/Alive, Yes/No, Pass/Fail. They study the *conditional probability* $P(Y|X)$. Ignores how likely an instance is, just tells you how to label it. Discriminative methods can lead to incorrect results if somewhere down the *decision tree* there is something which pushes a True to a False, then the final conclusion will be incorrect. These errors need to be accounted for.\n",
    "\n",
    "    https://en.wikipedia.org/wiki/Discriminative_model \n",
    "\n",
    "The **LIKELIHOOD** all comes from statistics and probability, whereas the **MODEL** comes from the regression/ML/generative models.\n",
    "\n",
    "The other aspects of this project which I will be working on include: *optimization*, *MCMC*, *nested samples* (more information on these at a later stage).\n",
    "\n",
    "#### Future Work\n",
    "In this project, in order to learn the different techniques, I will be attempting a series of mini-projects (what they are is currently unknown) which centre around the themes discussed above. The eventual goal is to model the *Solar Activity Cycles* using ML and comparing it with the traditional techniques, (hopefully) concluding that ML is superior."
   ]
  },
  {
   "cell_type": "markdown",
   "id": "df94a294-d286-468e-a799-3354a564f292",
   "metadata": {},
   "source": [
    "## Key Concepts"
   ]
  },
  {
   "cell_type": "code",
   "execution_count": null,
   "id": "b0598184-f732-4db0-acbc-51b8d027bc77",
   "metadata": {},
   "outputs": [],
   "source": []
  }
 ],
 "metadata": {
  "kernelspec": {
   "display_name": "Python 3 (ipykernel)",
   "language": "python",
   "name": "python3"
  },
  "language_info": {
   "codemirror_mode": {
    "name": "ipython",
    "version": 3
   },
   "file_extension": ".py",
   "mimetype": "text/x-python",
   "name": "python",
   "nbconvert_exporter": "python",
   "pygments_lexer": "ipython3",
   "version": "3.8.13"
  }
 },
 "nbformat": 4,
 "nbformat_minor": 5
}
