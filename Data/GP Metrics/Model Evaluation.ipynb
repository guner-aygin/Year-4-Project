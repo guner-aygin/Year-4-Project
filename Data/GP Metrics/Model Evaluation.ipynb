{
 "cells": [
  {
   "cell_type": "code",
   "execution_count": 7,
   "id": "5dff0588-f171-4f78-be0c-b29aa7d18846",
   "metadata": {},
   "outputs": [],
   "source": [
    "import numpy as np\n",
    "import pandas as pd\n",
    "import matplotlib.pyplot as plt\n",
    "import os"
   ]
  },
  {
   "cell_type": "code",
   "execution_count": 13,
   "id": "bc7e782f-c3d2-4e62-9eb4-b94769165c8d",
   "metadata": {},
   "outputs": [
    {
     "name": "stdout",
     "output_type": "stream",
     "text": [
      "['SE_Cos_errors.csv', 'SE_plus_Per_errors.csv', 'Rat_plus_Per_errors.csv', 'Matern_Per_errors.csv', 'SE_Per_errors.csv', 'RatPer_errors.csv', 'NS_kernel_errors.csv']\n"
     ]
    }
   ],
   "source": [
    "# define the number of splits\n",
    "num_splits = 3\n",
    "\n",
    "# create a dictionary to store the variables for each split\n",
    "data = {}\n",
    "for i in range(1, num_splits + 1):\n",
    "    folder_path = f\"Split {i}\"\n",
    "    file_names = [f for f in os.listdir(folder_path) if os.path.isfile(os.path.join(folder_path, f))]\n",
    "    sorted_file_names = sorted(file_names, key=lambda name: -float(pd.read_csv(os.path.join(folder_path, name)).iloc[0, 1]))\n",
    "    model_names = ['Matern * Periodic', \n",
    "                   'SE * Periodic',\n",
    "                   'Rational * Periodic',\n",
    "                   'SE * Cosine',\n",
    "                   'Rational + Periodic',\n",
    "                   'Non-Stationary',\n",
    "                   'SE + Periodic',\n",
    "                  ]\n",
    "    sorted_model_names_split = [model_names[file_names.index(name)] for name in sorted_file_names]\n",
    "    data[i] = {'folder_path': folder_path,\n",
    "               'file_names': file_names,\n",
    "               'sorted_file_names': sorted_file_names,\n",
    "               'sorted_model_names': sorted_model_names_split\n",
    "              }\n",
    "\n",
    "# sort the file names based on Split 3\n",
    "split_3_folder_path = data[3]['folder_path']\n",
    "split_3_filenames = data[3]['sorted_file_names']\n",
    "split_3_sorted_file_names = sorted(split_3_filenames, key=lambda name: -float(pd.read_csv(os.path.join(split_3_folder_path, name)).iloc[0, 1]))\n",
    "\n",
    "# print the sorted file names for Split 3\n",
    "print(split_3_sorted_file_names)"
   ]
  },
  {
   "cell_type": "code",
   "execution_count": 31,
   "id": "483bb1f3-3796-4dc2-ac3f-97745209576a",
   "metadata": {},
   "outputs": [
    {
     "name": "stdout",
     "output_type": "stream",
     "text": [
      "['Non-Stationary', 'Rational * Periodic', 'SE * Periodic', 'Matern * Periodic', 'Rational + Periodic', 'SE + Periodic', 'SE * Cosine']\n"
     ]
    }
   ],
   "source": [
    "# define the number of splits\n",
    "num_splits = 3\n",
    "\n",
    "# create a dictionary to store the variables for each split\n",
    "data = {}\n",
    "for i in range(1, num_splits + 1):\n",
    "    folder_path = f\"Split {i}\"\n",
    "    file_names = [f for f in os.listdir(folder_path) if os.path.isfile(os.path.join(folder_path, f))]\n",
    "    sorted_file_names = sorted(file_names, key=lambda name: float(pd.read_csv(os.path.join(folder_path, name)).iloc[0, 1]))\n",
    "    model_names = ['Matern * Periodic', \n",
    "                   'SE * Periodic',\n",
    "                   'Rational * Periodic',\n",
    "                   'SE * Cosine',\n",
    "                   'Rational + Periodic',\n",
    "                   'Non-Stationary',\n",
    "                   'SE + Periodic',\n",
    "                  ]\n",
    "    sorted_model_names_split = [model_names[file_names.index(name)] for name in sorted_file_names]\n",
    "    data[i] = {'folder_path': folder_path,\n",
    "               'file_names': file_names,\n",
    "               'sorted_file_names': sorted_file_names,\n",
    "               'sorted_model_names': sorted_model_names_split\n",
    "              }\n",
    "\n",
    "# sort the file names based on Split 3\n",
    "split_3_folder_path = data[3]['folder_path']\n",
    "split_3_filenames = data[3]['sorted_file_names']\n",
    "split_3_sorted_file_names = sorted(split_3_filenames, key=lambda name: -float(pd.read_csv(os.path.join(split_3_folder_path, name)).iloc[0, 1]))\n",
    "\n",
    "# print the sorted file names for Split 3\n",
    "print(sorted_model_names_split)"
   ]
  },
  {
   "cell_type": "code",
   "execution_count": 34,
   "id": "cfc4bbae-a0f8-4d63-9acb-337c3276c029",
   "metadata": {},
   "outputs": [],
   "source": [
    "def plot_errors(splits):\n",
    "    \n",
    "    # create empty lists to store all the error values for all splits\n",
    "    all_mse_values = []\n",
    "    all_mae_values = []\n",
    "    \n",
    "    # create empty lists to store the model names and file names for all splits\n",
    "    all_sorted_model_names = []\n",
    "    all_sorted_file_names = []\n",
    "    \n",
    "    # loop over all specified splits\n",
    "    for split in splits:\n",
    "        \n",
    "        # get the variables for the specified split from the data dictionary\n",
    "        folder_path = data[split]['folder_path']\n",
    "        filenames = data[split]['sorted_file_names']\n",
    "        sorted_model_names = data[split]['sorted_model_names']\n",
    "\n",
    "        mse_values_all = []\n",
    "        mae_values_all = []\n",
    "\n",
    "        for i, filename in enumerate(filenames):\n",
    "            # Reading the CSV file\n",
    "            df = pd.read_csv(os.path.join(folder_path, filename))\n",
    "\n",
    "            # Extracting the RMSE and MAE values\n",
    "            mse_value = np.sqrt(df[df['Metric'] == 'MSE']['Value'].values[0])\n",
    "            mae_value = df[df['Metric'] == 'MAE']['Value'].values[0]\n",
    "\n",
    "            # Append the RMSE and MAE values to the corresponding lists\n",
    "            mse_values_all.append(mse_value)\n",
    "            mae_values_all.append(mae_value)\n",
    "\n",
    "        # Append the model names and file names to the corresponding lists\n",
    "        all_sorted_model_names.extend(sorted_model_names)\n",
    "        all_sorted_file_names.extend(filenames)\n",
    "        \n",
    "        # Append the error values to the corresponding lists\n",
    "        all_mse_values.extend(mse_values_all)\n",
    "        all_mae_values.extend(mae_values_all)\n",
    "\n",
    "    # Creating the bar chart\n",
    "    num_models = len(model_names)\n",
    "    num_splits = len(splits)\n",
    "    bar_width = 0.15  # define the width of each bar\n",
    "    bar_spacing = 0.02  # define the spacing between bars within a group\n",
    "    group_spacing = 0.1  # define the spacing between groups of bars for different models\n",
    "\n",
    "    fig, ax = plt.subplots(figsize=(12, 8))\n",
    "\n",
    "    # plot the bars for each model and split\n",
    "    for model_idx in range(num_models):\n",
    "        for split_idx, split in enumerate(splits):\n",
    "            split = int(split)\n",
    "            base_pos = model_idx * (num_splits * (bar_width + bar_spacing) + group_spacing)  # base position for each model\n",
    "\n",
    "            mse_pos = base_pos + split_idx * (bar_width + bar_spacing)\n",
    "            mae_pos = base_pos + bar_width + split_idx * (bar_width + bar_spacing)\n",
    "\n",
    "            mse_value = all_mse_values[model_idx + split_idx * num_models]\n",
    "            mae_value = all_mae_values[model_idx + split_idx * num_models]\n",
    "\n",
    "            # plot the MSE and MAE bars\n",
    "            ax.bar(mse_pos, mse_value, bar_width, color='tab:orange', label='RMSE' if model_idx == 0 else None)\n",
    "            ax.bar(mse_pos, mae_value, bar_width, alpha=0.7, color='tab:blue', bottom=mse_value, label='MAE' if model_idx == 0 else None)\n",
    "\n",
    "    x_pos = np.arange(0, num_models * (len(splits) * (bar_width + bar_spacing) + group_spacing), len(splits) * (bar_width + bar_spacing) + group_spacing) + bar_width / 2\n",
    "    plt.xticks(x_pos, sorted_model_names_split, rotation='vertical')\n",
    "    plt.xlabel('Model')\n",
    "    plt.ylabel('Error')\n",
    "    #plt.legend()\n",
    "    plt.show()"
   ]
  },
  {
   "cell_type": "code",
   "execution_count": 35,
   "id": "01489f07-b07a-4e66-b7e3-e6a2343c6363",
   "metadata": {},
   "outputs": [
    {
     "data": {
      "image/png": "[encoded data removed]",
      "text/plain": [
       "<Figure size 1200x800 with 1 Axes>"
      ]
     },
     "metadata": {},
     "output_type": "display_data"
    }
   ],
   "source": [
    "plot_errors([1,2,3])"
   ]
  },
  {
   "cell_type": "markdown",
   "id": "060c1353-7581-4f69-9958-22ad8e209bcd",
   "metadata": {},
   "source": [
    "## Qualitative Model Evaluation"
   ]
  },
  {
   "cell_type": "code",
   "execution_count": 5,
   "id": "d8ecc2be-011c-4297-ba06-190713d69fb6",
   "metadata": {},
   "outputs": [],
   "source": [
    "df = pd.read_csv('../../../../Data/Savitzky-Golay Data/SVG_poly1.csv') # importing data for SVG polyorder = 1\n",
    "X = ((df.Year).values).reshape(-1,1)\n",
    "y = (df.Sunspot_Number).values"
   ]
  },
  {
   "cell_type": "code",
   "execution_count": 6,
   "id": "b22c5d52-33ed-4bce-a741-eb65a854c5e9",
   "metadata": {},
   "outputs": [],
   "source": [
    "# load the data from the CSV file\n",
    "model = pd.read_csv(\"../GP Model Data/Split 2/SE_plus_Per.csv\", index_col=0)"
   ]
  },
  {
   "cell_type": "code",
   "execution_count": 7,
   "id": "b4dea339-9c7e-4532-b82c-66e73d2d0c12",
   "metadata": {},
   "outputs": [],
   "source": [
    "import pymc3\n",
    "from pymc3.gp.util import plot_gp_dist\n",
    "\n",
    "X_new = np.linspace(1818, 2023, 1000)[:, None]\n",
    "\n",
    "fig = plt.figure(figsize=(14, 5))\n",
    "ax = fig.gca()\n",
    "ax.set_ylim(0,300)\n",
    "plot_gp_dist(ax, model.values, X_new, palette=\"Blues\")\n",
    "plt.plot(X, y, color='r');"
   ]
  }
 ],
 "metadata": {
  "kernelspec": {
   "display_name": "Python 3 (ipykernel)",
   "language": "python",
   "name": "python3"
  },
  "language_info": {
   "codemirror_mode": {
    "name": "ipython",
    "version": 3
   },
   "file_extension": ".py",
   "mimetype": "text/x-python",
   "name": "python",
   "nbconvert_exporter": "python",
   "pygments_lexer": "ipython3",
   "version": "3.9.13"
  }
 },
 "nbformat": 4,
 "nbformat_minor": 5
}
