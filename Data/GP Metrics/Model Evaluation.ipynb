{
 "cells": [
  {
   "cell_type": "code",
   "execution_count": 1,
   "id": "5dff0588-f171-4f78-be0c-b29aa7d18846",
   "metadata": {},
   "outputs": [],
   "source": [
    "import numpy as np\n",
    "import pandas as pd\n",
    "import matplotlib.pyplot as plt\n",
    "import os\n",
    "import csv"
   ]
  },
  {
   "cell_type": "code",
   "execution_count": 2,
   "id": "6d6f2546-e8ff-4d31-8fe7-166cb3404121",
   "metadata": {},
   "outputs": [],
   "source": [
    "folder_path = 'Skips-200/Split 1'\n",
    "file_names = [f for f in os.listdir(folder_path) if os.path.isfile(os.path.join(folder_path, f))]\n",
    "\n",
    "#print(file_names)"
   ]
  },
  {
   "cell_type": "code",
   "execution_count": 3,
   "id": "8c16c0f1-6a25-4192-ac01-855b45fa2086",
   "metadata": {},
   "outputs": [
    {
     "name": "stdout",
     "output_type": "stream",
     "text": [
      "File Split 1/Matern_Per_errors.csv not found\n",
      "File Split 2/Matern_Per_errors.csv not found\n",
      "File Split 3/Matern_Per_errors.csv not found\n",
      "File Split 1/SE_Per_errors.csv not found\n",
      "File Split 2/SE_Per_errors.csv not found\n",
      "File Split 3/SE_Per_errors.csv not found\n",
      "File Split 1/RatPer_errors.csv not found\n",
      "File Split 2/RatPer_errors.csv not found\n",
      "File Split 3/RatPer_errors.csv not found\n",
      "File Split 1/SE_Cos_errors.csv not found\n",
      "File Split 2/SE_Cos_errors.csv not found\n",
      "File Split 3/SE_Cos_errors.csv not found\n",
      "File Split 1/NS2_kernel_errors.csv not found\n",
      "File Split 2/NS2_kernel_errors.csv not found\n",
      "File Split 3/NS2_kernel_errors.csv not found\n",
      "File Split 1/Rat_plus_Per_errors.csv not found\n",
      "File Split 2/Rat_plus_Per_errors.csv not found\n",
      "File Split 3/Rat_plus_Per_errors.csv not found\n",
      "File Split 1/NS_kernel_errors.csv not found\n",
      "File Split 2/NS_kernel_errors.csv not found\n",
      "File Split 3/NS_kernel_errors.csv not found\n",
      "File Split 1/SE_plus_Per_errors.csv not found\n",
      "File Split 2/SE_plus_Per_errors.csv not found\n",
      "File Split 3/SE_plus_Per_errors.csv not found\n"
     ]
    }
   ],
   "source": [
    "model_names = ['Matern * Periodic', \n",
    "                   'SE * Periodic',\n",
    "                   'Rational * Periodic',\n",
    "                   'SE * Cosine',\n",
    "                   'Non-Stationary 2',\n",
    "                   'Rational + Periodic',\n",
    "                   'Non-Stationary',\n",
    "                   'SE + Periodic',\n",
    "                  ]\n",
    "\n",
    "splits = ['Split 1', 'Split 2', 'Split 3']\n",
    "\n",
    "data = []\n",
    "for file in file_names:\n",
    "    model_data = []\n",
    "    for split in splits:\n",
    "        filename = f'{split}/{file}'\n",
    "        try:\n",
    "            with open(filename, newline='') as csvfile:\n",
    "                reader = csv.DictReader(csvfile)\n",
    "                \n",
    "                row = next(reader)\n",
    "                if row['Metric'] == 'MSE':\n",
    "                    rmse = np.sqrt(float(row['Value']))\n",
    "                elif row['Metric'] == 'MAE':\n",
    "                    mae = float(row['Value'])\n",
    "\n",
    "                row = next(reader)\n",
    "                if row['Metric'] == 'MSE':\n",
    "                    rmse = np.sqrt(float(row['Value']))\n",
    "                elif row['Metric'] == 'MAE':\n",
    "                    mae = float(row['Value'])\n",
    "\n",
    "                model_data.append([rmse, mae])\n",
    "            #print(filename)\n",
    "        except FileNotFoundError:\n",
    "            print(f\"File {filename} not found\")\n",
    "        \n",
    "    data.append(model_data)\n",
    "\n",
    "#print(data)"
   ]
  },
  {
   "cell_type": "code",
   "execution_count": 4,
   "id": "2ceddf23-4d48-4f15-a751-14b57ca0c3e7",
   "metadata": {},
   "outputs": [
    {
     "ename": "IndexError",
     "evalue": "list index out of range",
     "output_type": "error",
     "traceback": [
      "\u001b[0;31m---------------------------------------------------------------------------\u001b[0m",
      "\u001b[0;31mIndexError\u001b[0m                                Traceback (most recent call last)",
      "\u001b[0;32m/var/folders/f6/ysbvf32j6ks_1h83gmlfzghw0000gn/T/ipykernel_83215/1797324769.py\u001b[0m in \u001b[0;36m<module>\u001b[0;34m\u001b[0m\n\u001b[1;32m     10\u001b[0m \u001b[0mopacity\u001b[0m \u001b[0;34m=\u001b[0m \u001b[0;36m0.8\u001b[0m\u001b[0;34m\u001b[0m\u001b[0;34m\u001b[0m\u001b[0m\n\u001b[1;32m     11\u001b[0m \u001b[0;34m\u001b[0m\u001b[0m\n\u001b[0;32m---> 12\u001b[0;31m \u001b[0mmse_values\u001b[0m \u001b[0;34m=\u001b[0m \u001b[0;34m[\u001b[0m\u001b[0;34m[\u001b[0m\u001b[0mmodel_data\u001b[0m\u001b[0;34m[\u001b[0m\u001b[0msplit\u001b[0m\u001b[0;34m]\u001b[0m\u001b[0;34m[\u001b[0m\u001b[0;36m0\u001b[0m\u001b[0;34m]\u001b[0m \u001b[0;32mfor\u001b[0m \u001b[0mmodel_data\u001b[0m \u001b[0;32min\u001b[0m \u001b[0mdata\u001b[0m\u001b[0;34m]\u001b[0m \u001b[0;32mfor\u001b[0m \u001b[0msplit\u001b[0m \u001b[0;32min\u001b[0m \u001b[0mrange\u001b[0m\u001b[0;34m(\u001b[0m\u001b[0mn_splits\u001b[0m\u001b[0;34m)\u001b[0m\u001b[0;34m]\u001b[0m\u001b[0;34m\u001b[0m\u001b[0;34m\u001b[0m\u001b[0m\n\u001b[0m\u001b[1;32m     13\u001b[0m \u001b[0mmae_values\u001b[0m \u001b[0;34m=\u001b[0m \u001b[0;34m[\u001b[0m\u001b[0;34m[\u001b[0m\u001b[0mmodel_data\u001b[0m\u001b[0;34m[\u001b[0m\u001b[0msplit\u001b[0m\u001b[0;34m]\u001b[0m\u001b[0;34m[\u001b[0m\u001b[0;36m1\u001b[0m\u001b[0;34m]\u001b[0m \u001b[0;32mfor\u001b[0m \u001b[0mmodel_data\u001b[0m \u001b[0;32min\u001b[0m \u001b[0mdata\u001b[0m\u001b[0;34m]\u001b[0m \u001b[0;32mfor\u001b[0m \u001b[0msplit\u001b[0m \u001b[0;32min\u001b[0m \u001b[0mrange\u001b[0m\u001b[0;34m(\u001b[0m\u001b[0mn_splits\u001b[0m\u001b[0;34m)\u001b[0m\u001b[0;34m]\u001b[0m\u001b[0;34m\u001b[0m\u001b[0;34m\u001b[0m\u001b[0m\n\u001b[1;32m     14\u001b[0m \u001b[0;34m\u001b[0m\u001b[0m\n",
      "\u001b[0;32m/var/folders/f6/ysbvf32j6ks_1h83gmlfzghw0000gn/T/ipykernel_83215/1797324769.py\u001b[0m in \u001b[0;36m<listcomp>\u001b[0;34m(.0)\u001b[0m\n\u001b[1;32m     10\u001b[0m \u001b[0mopacity\u001b[0m \u001b[0;34m=\u001b[0m \u001b[0;36m0.8\u001b[0m\u001b[0;34m\u001b[0m\u001b[0;34m\u001b[0m\u001b[0m\n\u001b[1;32m     11\u001b[0m \u001b[0;34m\u001b[0m\u001b[0m\n\u001b[0;32m---> 12\u001b[0;31m \u001b[0mmse_values\u001b[0m \u001b[0;34m=\u001b[0m \u001b[0;34m[\u001b[0m\u001b[0;34m[\u001b[0m\u001b[0mmodel_data\u001b[0m\u001b[0;34m[\u001b[0m\u001b[0msplit\u001b[0m\u001b[0;34m]\u001b[0m\u001b[0;34m[\u001b[0m\u001b[0;36m0\u001b[0m\u001b[0;34m]\u001b[0m \u001b[0;32mfor\u001b[0m \u001b[0mmodel_data\u001b[0m \u001b[0;32min\u001b[0m \u001b[0mdata\u001b[0m\u001b[0;34m]\u001b[0m \u001b[0;32mfor\u001b[0m \u001b[0msplit\u001b[0m \u001b[0;32min\u001b[0m \u001b[0mrange\u001b[0m\u001b[0;34m(\u001b[0m\u001b[0mn_splits\u001b[0m\u001b[0;34m)\u001b[0m\u001b[0;34m]\u001b[0m\u001b[0;34m\u001b[0m\u001b[0;34m\u001b[0m\u001b[0m\n\u001b[0m\u001b[1;32m     13\u001b[0m \u001b[0mmae_values\u001b[0m \u001b[0;34m=\u001b[0m \u001b[0;34m[\u001b[0m\u001b[0;34m[\u001b[0m\u001b[0mmodel_data\u001b[0m\u001b[0;34m[\u001b[0m\u001b[0msplit\u001b[0m\u001b[0;34m]\u001b[0m\u001b[0;34m[\u001b[0m\u001b[0;36m1\u001b[0m\u001b[0;34m]\u001b[0m \u001b[0;32mfor\u001b[0m \u001b[0mmodel_data\u001b[0m \u001b[0;32min\u001b[0m \u001b[0mdata\u001b[0m\u001b[0;34m]\u001b[0m \u001b[0;32mfor\u001b[0m \u001b[0msplit\u001b[0m \u001b[0;32min\u001b[0m \u001b[0mrange\u001b[0m\u001b[0;34m(\u001b[0m\u001b[0mn_splits\u001b[0m\u001b[0;34m)\u001b[0m\u001b[0;34m]\u001b[0m\u001b[0;34m\u001b[0m\u001b[0;34m\u001b[0m\u001b[0m\n\u001b[1;32m     14\u001b[0m \u001b[0;34m\u001b[0m\u001b[0m\n",
      "\u001b[0;32m/var/folders/f6/ysbvf32j6ks_1h83gmlfzghw0000gn/T/ipykernel_83215/1797324769.py\u001b[0m in \u001b[0;36m<listcomp>\u001b[0;34m(.0)\u001b[0m\n\u001b[1;32m     10\u001b[0m \u001b[0mopacity\u001b[0m \u001b[0;34m=\u001b[0m \u001b[0;36m0.8\u001b[0m\u001b[0;34m\u001b[0m\u001b[0;34m\u001b[0m\u001b[0m\n\u001b[1;32m     11\u001b[0m \u001b[0;34m\u001b[0m\u001b[0m\n\u001b[0;32m---> 12\u001b[0;31m \u001b[0mmse_values\u001b[0m \u001b[0;34m=\u001b[0m \u001b[0;34m[\u001b[0m\u001b[0;34m[\u001b[0m\u001b[0mmodel_data\u001b[0m\u001b[0;34m[\u001b[0m\u001b[0msplit\u001b[0m\u001b[0;34m]\u001b[0m\u001b[0;34m[\u001b[0m\u001b[0;36m0\u001b[0m\u001b[0;34m]\u001b[0m \u001b[0;32mfor\u001b[0m \u001b[0mmodel_data\u001b[0m \u001b[0;32min\u001b[0m \u001b[0mdata\u001b[0m\u001b[0;34m]\u001b[0m \u001b[0;32mfor\u001b[0m \u001b[0msplit\u001b[0m \u001b[0;32min\u001b[0m \u001b[0mrange\u001b[0m\u001b[0;34m(\u001b[0m\u001b[0mn_splits\u001b[0m\u001b[0;34m)\u001b[0m\u001b[0;34m]\u001b[0m\u001b[0;34m\u001b[0m\u001b[0;34m\u001b[0m\u001b[0m\n\u001b[0m\u001b[1;32m     13\u001b[0m \u001b[0mmae_values\u001b[0m \u001b[0;34m=\u001b[0m \u001b[0;34m[\u001b[0m\u001b[0;34m[\u001b[0m\u001b[0mmodel_data\u001b[0m\u001b[0;34m[\u001b[0m\u001b[0msplit\u001b[0m\u001b[0;34m]\u001b[0m\u001b[0;34m[\u001b[0m\u001b[0;36m1\u001b[0m\u001b[0;34m]\u001b[0m \u001b[0;32mfor\u001b[0m \u001b[0mmodel_data\u001b[0m \u001b[0;32min\u001b[0m \u001b[0mdata\u001b[0m\u001b[0;34m]\u001b[0m \u001b[0;32mfor\u001b[0m \u001b[0msplit\u001b[0m \u001b[0;32min\u001b[0m \u001b[0mrange\u001b[0m\u001b[0;34m(\u001b[0m\u001b[0mn_splits\u001b[0m\u001b[0;34m)\u001b[0m\u001b[0;34m]\u001b[0m\u001b[0;34m\u001b[0m\u001b[0;34m\u001b[0m\u001b[0m\n\u001b[1;32m     14\u001b[0m \u001b[0;34m\u001b[0m\u001b[0m\n",
      "\u001b[0;31mIndexError\u001b[0m: list index out of range"
     ]
    }
   ],
   "source": [
    "import numpy as np\n",
    "import matplotlib.pyplot as plt\n",
    "\n",
    "# Assuming the 'data' variable is already filled with the MSE and MAE values\n",
    "# Example data format: [[[mse1, mae1], [mse2, mae2], [mse3, mae3]], ...]\n",
    "\n",
    "n_models = len(model_names)\n",
    "n_splits = len(splits)\n",
    "bar_width = 0.25\n",
    "opacity = 0.8\n",
    "\n",
    "mse_values = [[model_data[split][0] for model_data in data] for split in range(n_splits)]\n",
    "mae_values = [[model_data[split][1] for model_data in data] for split in range(n_splits)]\n",
    "\n",
    "index = np.arange(n_models)\n",
    "plt.figure(figsize=(12, 6))\n",
    "\n",
    "for i in range(n_splits):\n",
    "    plt.bar(index + i * bar_width, mse_values[i], bar_width, alpha=opacity, label=f\"MSE Split {i+1}\")\n",
    "    plt.bar(index + i * bar_width, mae_values[i], bar_width, bottom=mse_values[i], alpha=opacity, label=f\"MAE Split {i+1}\")\n",
    "\n",
    "plt.xlabel('Model Names')\n",
    "plt.ylabel('Values')\n",
    "plt.title('MSE and MAE for Different Models and Splits')\n",
    "plt.xticks(index + bar_width, model_names, rotation=45)\n",
    "plt.legend()\n",
    "\n",
    "plt.tight_layout()\n",
    "plt.show()"
   ]
  },
  {
   "cell_type": "code",
   "execution_count": null,
   "id": "9d2242a3-14a9-40dc-8010-8f34f813a661",
   "metadata": {},
   "outputs": [],
   "source": [
    "# Sort the models based on Split 3 MSE values\n",
    "sorted_indices = sorted(range(n_models), key=lambda i: data[i][2][0])  # Indices sorted by Split 3 MSE\n",
    "sorted_model_names = [model_names[i] for i in sorted_indices]\n",
    "sorted_data = [data[i] for i in sorted_indices]\n",
    "\n",
    "mse_values = [[model_data[split][0] for model_data in sorted_data] for split in range(n_splits)]\n",
    "mae_values = [[model_data[split][1] for model_data in sorted_data] for split in range(n_splits)]\n",
    "\n",
    "index = np.arange(n_models)\n",
    "plt.figure(figsize=(12, 6))\n",
    "\n",
    "for i in range(n_splits):\n",
    "    plt.bar(index + i * bar_width, mse_values[i], bar_width, alpha=opacity, label=f\"MSE Split {i+1}\")\n",
    "    plt.bar(index + i * bar_width, mae_values[i], bar_width, bottom=mse_values[i], alpha=opacity, label=f\"MAE Split {i+1}\")\n",
    "\n",
    "plt.xlabel('Model Names')\n",
    "plt.ylabel('Values')\n",
    "plt.title('MSE and MAE for Different Models and Splits (Sorted by Split 3 MSE)')\n",
    "plt.xticks(index + bar_width, sorted_model_names, rotation=45)\n",
    "plt.legend()\n",
    "\n",
    "plt.tight_layout()\n",
    "plt.show()"
   ]
  },
  {
   "cell_type": "markdown",
   "id": "060c1353-7581-4f69-9958-22ad8e209bcd",
   "metadata": {},
   "source": [
    "## Qualitative Model Evaluation"
   ]
  },
  {
   "cell_type": "code",
   "execution_count": null,
   "id": "d8ecc2be-011c-4297-ba06-190713d69fb6",
   "metadata": {},
   "outputs": [],
   "source": [
    "df = pd.read_csv('../Savitzky-Golay Data/SVG_poly1.csv') # importing data for SVG polyorder = 1\n",
    "X = ((df.Year).values).reshape(-1,1)\n",
    "y = (df.Sunspot_Number).values"
   ]
  },
  {
   "cell_type": "code",
   "execution_count": null,
   "id": "b22c5d52-33ed-4bce-a741-eb65a854c5e9",
   "metadata": {},
   "outputs": [],
   "source": [
    "# load the data from the CSV file\n",
    "model = pd.read_csv(\"../GP Model Data/Skips-200/Split 1/NS_kernel.csv\", index_col=0)"
   ]
  },
  {
   "cell_type": "code",
   "execution_count": null,
   "id": "b4dea339-9c7e-4532-b82c-66e73d2d0c12",
   "metadata": {},
   "outputs": [],
   "source": [
    "import pymc3\n",
    "from pymc3.gp.util import plot_gp_dist\n",
    "\n",
    "X_new = np.linspace(1818, 2023, 1000)[:, None]\n",
    "\n",
    "fig = plt.figure(figsize=(14, 5))\n",
    "ax = fig.gca()\n",
    "ax.set_ylim(0,300)\n",
    "plot_gp_dist(ax, model.values, X_new, palette=\"Blues\")\n",
    "plt.plot(X, y, color='r');"
   ]
  }
 ],
 "metadata": {
  "kernelspec": {
   "display_name": "Python 3 (ipykernel)",
   "language": "python",
   "name": "python3"
  },
  "language_info": {
   "codemirror_mode": {
    "name": "ipython",
    "version": 3
   },
   "file_extension": ".py",
   "mimetype": "text/x-python",
   "name": "python",
   "nbconvert_exporter": "python",
   "pygments_lexer": "ipython3",
   "version": "3.9.13"
  }
 },
 "nbformat": 4,
 "nbformat_minor": 5
}
