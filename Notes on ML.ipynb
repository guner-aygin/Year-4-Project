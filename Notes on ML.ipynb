{
 "cells": [
  {
   "cell_type": "markdown",
   "id": "65ec4d1d-0b5b-4e08-bcd0-fb225be19b89",
   "metadata": {},
   "source": [
    "# Notes on Machine Learning"
   ]
  },
  {
   "cell_type": "markdown",
   "id": "5930c9ea-b35a-4b4a-995a-2a983db56cf2",
   "metadata": {},
   "source": [
    "The general procedure of Machine Learning works as follows\n",
    "1. Formulate a Question\n",
    "2. Finding and Understanding the Data\n",
    "3. Cleaning the Data and Feature Engineering\n",
    "4. hoosing a Model\n",
    "5. Tuning and Evaluating\n",
    "6. Using the Model and Presenting Results\n",
    "\n",
    "**Scikit-learn** is a library in Python that provides many unsupervised and supervised learning algorithms.\n",
    "\n",
    "**TensorFlow Probability** is a Python library built on TensorFlow that makes it easy to combine probabilistic models and deep learning on modern hardware."
   ]
  },
  {
   "cell_type": "markdown",
   "id": "6c4c7654-8d14-4890-911c-a4c9f4132d06",
   "metadata": {},
   "source": [
    "## Linear Regression\n",
    "\n",
    "Regression is used to predict outputs that are *continuous*\n",
    "\n",
    "*******************************************************************************************************************************\n",
    "#### Aside: Distance Formula\n",
    "   For two sets of points $[a_1,a_2]$ and $[b_1,b_2]$ \n",
    "* **Euclidean Distance**\n",
    "    $d = \\sqrt{(a_1 - b_1)^2 + (a_2 - b_2)^2}$\n",
    "* **Manhattan Distance**\n",
    "    $d = |a_1 - b_1| + |a_2 - b_2|$\n",
    "* **Hamming Distance**\n",
    "    Hamming distance tells us how many points are equal, for example: the two strings 'there' and typo 'thete' would have a Hamming distance of 1. We can do this for lists too. Note: both objects must have the same dimensions.\n",
    "    \n",
    "There are specific functions in SciPy for calculating these too: distance.euclidean(), distance.cityblock(), distance.hamming()\n",
    "*******************************************************************************************************************************\n",
    "\n",
    "When we plot a linear regression, each data point has a loss from the *true* value, which measures how bad the model's prediction was. The loss is the *squared distance* from the point to the line. We want to *minimise* the losses, see **Least Squares as Maximum Likelihood Estimator** in **Notes on Statistics & Modelling** (that's essentially whats going on).\n",
    "\n",
    "To test out using **Linear Regression** I'm going to create a random set of $x$ values and sort it for our linear fit. To generate our 'fake' data we fit $y = mx + b$ and then 'randomise' it by adding *normally distributed noise*. The notation for this is:\n",
    "$$ D \\sim \\mathcal{N} \\left(M(\\theta), \\sigma_{obi}^2 \\right) $$\n",
    "$$ M(\\theta) = \\alpha (mx + b) $$\n",
    "\n",
    "where $M(\\theta)$ is our model, which in this case is *linear*, $\\alpha$ represents the **activation**(?)."
   ]
  },
  {
   "cell_type": "code",
   "execution_count": 1,
   "id": "5fbd3d1c-ee30-4557-ab3d-09554ea18ebb",
   "metadata": {},
   "outputs": [
    {
     "data": {
      "image/png": "[encoded data removed]",
      "text/plain": [
       "<Figure size 640x480 with 1 Axes>"
      ]
     },
     "metadata": {},
     "output_type": "display_data"
    }
   ],
   "source": [
    "import numpy as np\n",
    "import matplotlib.pyplot as plt\n",
    "\n",
    "'''\n",
    "Linear Regression: y = mx + b\n",
    "'''\n",
    "\n",
    "np.random.seed(101) # --> same set of random numbers appear every time.\n",
    "\n",
    "# Choose the \"true\" parameters --> thick grey line in graph.\n",
    "m_true = -1.45 \n",
    "b_true = 10\n",
    "f_true = 1 # --> determines how spread our y-values are. 0 is perfec \n",
    "\n",
    "# Generate some synthetic data from the model.\n",
    "N = 50\n",
    "x = np.sort(10 * np.random.rand(N)) # --> gives N random variables between 0 and 10\n",
    "yerr = 0.1 + 0.5 * np.random.rand(N) # --> random error values \n",
    "y = m_true * x + b_true # --> 'true' y value\n",
    "y += np.abs(f_true * y) * np.random.randn(N) # --> adds N normally distributed random values\n",
    "y += yerr * np.random.randn(N)\n",
    "\n",
    "plt.errorbar(x, y, yerr=yerr, fmt=\".k\", capsize=0)\n",
    "x0 = np.linspace(0, 10, 50)\n",
    "plt.plot(x0, m_true * x0 + b_true, \"k\", alpha=0.3, lw=3)\n",
    "plt.xlim(0, 10)\n",
    "plt.xlabel(\"x\")\n",
    "plt.ylabel(\"y\");"
   ]
  },
  {
   "cell_type": "code",
   "execution_count": null,
   "id": "b3161f7f-05de-4478-b1b9-7688002c1d54",
   "metadata": {},
   "outputs": [],
   "source": []
  },
  {
   "cell_type": "code",
   "execution_count": null,
   "id": "3043dd69-411e-4df3-9917-beeec88fb843",
   "metadata": {},
   "outputs": [],
   "source": []
  }
 ],
 "metadata": {
  "kernelspec": {
   "display_name": "Python 3 (ipykernel)",
   "language": "python",
   "name": "python3"
  },
  "language_info": {
   "codemirror_mode": {
    "name": "ipython",
    "version": 3
   },
   "file_extension": ".py",
   "mimetype": "text/x-python",
   "name": "python",
   "nbconvert_exporter": "python",
   "pygments_lexer": "ipython3",
   "version": "3.8.2"
  }
 },
 "nbformat": 4,
 "nbformat_minor": 5
}
