{
 "cells": [
  {
   "cell_type": "markdown",
   "id": "77956cba-6137-457d-9ef3-890a0c66e592",
   "metadata": {},
   "source": [
    "# Literature Review"
   ]
  },
  {
   "cell_type": "markdown",
   "id": "db54b9da-667e-4a55-9b6f-1837fe2a834b",
   "metadata": {},
   "source": [
    "https://link.springer.com/chapter/10.1007/978-1-4939-2584-1_1\n",
    "\n",
    "https://www.nature.com/articles/333748a0\n",
    "\n",
    "https://link.springer.com/article/10.1007/s11207-006-0175-5\n",
    "\n",
    "https://arxiv.org/pdf/1204.3991.pdf%3B\n",
    "\n"
   ]
  }
 ],
 "metadata": {
  "kernelspec": {
   "display_name": "Python 3 (ipykernel)",
   "language": "python",
   "name": "python3"
  },
  "language_info": {
   "codemirror_mode": {
    "name": "ipython",
    "version": 3
   },
   "file_extension": ".py",
   "mimetype": "text/x-python",
   "name": "python",
   "nbconvert_exporter": "python",
   "pygments_lexer": "ipython3",
   "version": "3.8.13"
  }
 },
 "nbformat": 4,
 "nbformat_minor": 5
}
