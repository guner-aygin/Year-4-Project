{
 "cells": [
  {
   "cell_type": "markdown",
   "id": "99e16df1-6534-457c-a911-9823a255b61c",
   "metadata": {},
   "source": [
    "# The Solar Cycle: Notes\n",
    "\n",
    "https://link.springer.com/content/pdf/10.12942/lrsp-2010-1.pdf\n",
    "\n",
    "* Solar activity rises and falls with an 11-year cycle. Currently about to enter cycle 25\n",
    "* Motivations for studying:\n",
    "    * Increased solar activity comes with an increase in extreme UV and X-ray emissions, which heats the temperature and density of the atmosphere at high altitudes.\n",
    "    * The increase in atmospheric drag on satellites in low Earth orbit can dramatically shorten their lifetime.\n",
    "    * Increases in the number of solar flares and coronal mass ejections (CMEs)\n",
    "        * Raises the likelihood that sensitive instruments in space will be damaged by energetic particles.\n",
    "        * Increase threat to health of astronauts and airline travelers. \n",
    "    * Affects terrestrial climate - heats and cools the earth during cycles (not significant climate effects)\n",
    "* The solar cycle is magnetic in nature and produced by dynamo processes within the Sun.\n",
    "* *Rudolf Wolf* recognized that it was far easier to identify sunspot groups than to identify each individual sunspot. His “relative” sunspot number, $R$ is given by: $R = k(10g + n)$ where $k$ is a correction factor, $g$ is the number of identified sunspot groups, and $n$ is the number of individual sunspots.\n",
    "    * Wolf reconstructed data from earlier years, using geomagnetic acivity measurements where the data was incomplete, as proxies for the sunspot number\n",
    "    * Sunspot numbers are reliable since 1848, not as reliable before that.\n",
    "* The polar fields are out of phase with the sunspot cycle.\n",
    "\n",
    "#### Sunspot Numbers\n",
    "* **The International Sunspot Number** - the key indicator of solar activity. Sunspot numbers are given as daily numbers, monthly averages, yearly averages, and smoothed numbers.\n",
    "* **Boulder Sunspot Number** - taken from daily data from USAF and NOAA (usually 55% larger than ISN).\n",
    "* **American Sunspot Number** - available from 1944 to the present.\n",
    "\n",
    "#### Cosmic Rays\n",
    "The flux of galactic cosmic rays is anti-correlated with the sunspot number. The reduction in cosmic ray flux lags behind solar activity by 6 to 12 months, but with 'significant differences between the even numbered and odd numbered cycles'- odd cycles lag $\\approx$ 10 to 14 months\n",
    "\n",
    "#### Cycle Periods\n",
    "The period of a sunspot cycle is defined as the elapsed time from the minimum preceding its maximum to the minimum following its maximum. The average period for cycles 1 to 22 of 131.7 months – almost exactly 11 years.\n",
    "\n",
    "#### Cycle Shape\n",
    "Sunspot cycles are asymmetric with respect to their maxima. The elapsed time from minimum up to maximum is almost always shorter than the elapsed time from maximum down to minimum. The average cycle takes about 48 months to rise from minimum up to maximum and about 84 months to fall back to minimum again. One of the functions used to describe the cycle is given by:\n",
    "\n",
    "$$ F(t) = A \\left( \\frac{t-t_0}{b} \\right)^3 \\left[ \\exp{\\left(\\frac{t-t_0}{b} \\right)^2} - c \\right]^{-1} $$\n",
    "\n",
    "with amplitude $A$, a starting time $t_0$, a rise time $b$, and an asymmetry parameter $c$. The average cycle is well fit with $A$ = 193, $b$ = 54, $c$ = 0.8, and $t_0$ = 4 months prior to minimum.\n",
    "\n",
    "#### Rise time vs Amplitude\n",
    "*Waldmeier Effect* (Waldmeier, 1935, 1939) in which the time it takes for the sunspot number to rise from minimum to maximum is inversely proportional to the cycle amplitude. The best fit through the Sunspot Number data gives \n",
    "\n",
    "Rise Time (months) $\\approx 35 + 1800 /$Amplitude (Sunspot Number)\n",
    "\n",
    "#### Period vs Amplitude\n",
    "Negative correlation between cylce periods and amplitudes\n",
    "\n"
   ]
  }
 ],
 "metadata": {
  "kernelspec": {
   "display_name": "Python 3 (ipykernel)",
   "language": "python",
   "name": "python3"
  },
  "language_info": {
   "codemirror_mode": {
    "name": "ipython",
    "version": 3
   },
   "file_extension": ".py",
   "mimetype": "text/x-python",
   "name": "python",
   "nbconvert_exporter": "python",
   "pygments_lexer": "ipython3",
   "version": "3.9.7"
  }
 },
 "nbformat": 4,
 "nbformat_minor": 5
}
