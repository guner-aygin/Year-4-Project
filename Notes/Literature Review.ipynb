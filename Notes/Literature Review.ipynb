{
 "cells": [
  {
   "cell_type": "markdown",
   "id": "77956cba-6137-457d-9ef3-890a0c66e592",
   "metadata": {},
   "source": [
    "# Literature Review"
   ]
  },
  {
   "cell_type": "markdown",
   "id": "db54b9da-667e-4a55-9b6f-1837fe2a834b",
   "metadata": {},
   "source": [
    "### Introduction to the Solar Activity Cycle: Overview of Causes and Consequences\n",
    "\n",
    "https://link.springer.com/chapter/10.1007/978-1-4939-2584-1_1\n",
    "\n",
    "\n",
    "Sun's activity cycle quoted as 11 years. Solar cycle is the result of the evolution of the solar dynamo, which generates the solar magnetic field. Solar Magnetic Fields introduced a **22 year** periodicity, as the poles of the Sun change sign every 11 years.\n",
    "\n",
    "Solar cycles are poorly understood, with most predictions for Cycle 24 proved generally wrong.\n",
    "\n",
    "***"
   ]
  },
  {
   "cell_type": "markdown",
   "id": "6fb7e07f-0376-4e34-b634-a18f1d128347",
   "metadata": {},
   "source": [
    "### The Extended Solar Activity Cycle\n",
    "\n",
    "https://www.nature.com/articles/333748a0\n",
    "\n",
    "Period of the solar cycle defined as the interval between two minima, averaging 11.2 years (as of 1988). Observations have indicated that the activity cucle may begin at higher lattitudes before we observe the first sunspots of the new cycle. \n",
    "\n",
    "Reporting on **Cycle 21**. Data indicates sunspot activity is the *main phase* of a more extended cycle that begins at high lattitudes. May be described by giant convective rolls that generate dynamo waves propagating from pole to equator.\n",
    "\n",
    "***"
   ]
  },
  {
   "cell_type": "markdown",
   "id": "aaa5690e-1dbd-4a65-aa4b-6859a324f051",
   "metadata": {},
   "source": [
    "### Statistical Analysis of Sunspot Number and Area.\n",
    "\n",
    "https://www.researchgate.net/publication/320004076_STATISTICAL_ANALYSIS_OF_SUNSPOT_NUMBER_AND_AREA\n",
    "\n",
    "Analysing cycles 1-23 (1755-2008). Period of approximately 11 years. Sunspot number appeared to be completely random, except from its period. Maximumum and minimum sunpot numbers for the cycles are **different**.\n",
    "***"
   ]
  },
  {
   "cell_type": "markdown",
   "id": "e38f8bf0-8de3-4127-8ecb-048f671e0aab",
   "metadata": {},
   "source": [
    "### The Relationship Between the Amplitude and Descending Time of a Solar Activity Cycle\n",
    "\n",
    "https://link.springer.com/article/10.1007/s11207-006-0175-5\n",
    "\n",
    "Amplitude of solar cycles are well correlated with the *descending time* **three cylces earlier** ($r = -0.811$) for smoothed cycles 8-23. Descending cycles can be used to predict the amplitudes, predicted amplitudes for cycles 24-25 are $114.8 \\pm 17.4$, & $111.6 \\pm 17.4$.\n",
    "\n",
    "Past predictions on amplitude with statistical models tend to be lower than observations.\n",
    "\n",
    "***"
   ]
  },
  {
   "cell_type": "markdown",
   "id": "43039e90-93a6-4893-973c-1d9c44a951b7",
   "metadata": {},
   "source": [
    "### Periodic variation and phase analysis of grouped solar flare with sunspot activity\n",
    "\n",
    "https://arxiv.org/pdf/1910.02671.pdf\n",
    "\n",
    "Statistical analysis of grouped solar flare (GSF) and sunspot number (SN) during the time interval from January 1965 to March 2009. \n",
    "\n",
    "* Significant periodicities of both GSF and SN are related to the differential rotation periodicity, the quasi-biennial oscillation (QBO), and the eleven-year Schwabe cycle (ESC)\n",
    "* The ESC signal of GSF lags behind that of SN with an average of 7.8 months during the considered time inter- val, implying that the systematic phase delays between GSF and SN originate from the inter-solar-cycle signal.\n",
    "***"
   ]
  },
  {
   "cell_type": "markdown",
   "id": "9d43edaa-4f49-4300-89e7-c687302a00ed",
   "metadata": {},
   "source": [
    "### Large-scale dynamical phenomena during solar activity cycles\n",
    "\n",
    "https://adsabs.harvard.edu/pdf/1997A%26A...322..311F\n",
    "\n",
    "Long term behaivour of spots, flares, radio & X-ray fluxes were investigated to identify characteristics of the 11-year cycle maximum.\n",
    "\n",
    "Confirmation that activity maxima occur *at least* **twice** during a cycle: first, near the end of the ris- ingactivityphaseandthenintheearlyyearsofthedeclining phase. Double peak more distinct when long-lasting events are considered.\n",
    "\n",
    "The double maxima are considered to be the result of dynamical effects superimposed on the quasi-periodic 11- year trend. Each peak lasts less than 1 year, which suggests that the double-peaks can not be seen as the result of impulsive activity effects due to localised centres - instead due to large-scale restructuration of the solar magnetic field.\n",
    "\n",
    "Double peak appearance concerns each solar layer.\n",
    "\n",
    "***"
   ]
  },
  {
   "cell_type": "markdown",
   "id": "3186bad0-a2d1-4833-8b9c-2cd474523b2e",
   "metadata": {},
   "source": [
    "### Data assimilation approach for forecast of solar activity cycles\n",
    "\n",
    "https://iopscience.iop.org/article/10.3847/0004-637X/831/1/15/pdf\n",
    "\n",
    "Numerous attempts to predict future solar cycles are mostly based on empirical relations derived from observations of previous cycles - but they seem to yield a wide range of predicted strengths and durations of each cycle. Results obtained with current dynamo models also deviate strongly from each other.\n",
    "\n",
    "'The primary difficulties in modeling future solar activity are shortcomings of both the dynamo models and observations that do not allow us to determine the current and past states of the global solar magnetic structure and its dynamics.'\n",
    "\n",
    "Data assimilation is a new approach to develop physics-based predictions, which estimates uncertainties in situations where physical properties are unknown.\n",
    "\n",
    "Paper involves the use of **Kalman Filter method** for modeling and predicting solar cycles. Prediction for cycle 24 seemed to hold up well, and now trying to predict cycle 25.\n",
    "\n",
    "There is no existing 3D (or 2D) dynamo model that can fully describe the global activity variations and remain in agreement with observations.\n",
    "\n",
    "***"
   ]
  }
 ],
 "metadata": {
  "kernelspec": {
   "display_name": "Python 3 (ipykernel)",
   "language": "python",
   "name": "python3"
  },
  "language_info": {
   "codemirror_mode": {
    "name": "ipython",
    "version": 3
   },
   "file_extension": ".py",
   "mimetype": "text/x-python",
   "name": "python",
   "nbconvert_exporter": "python",
   "pygments_lexer": "ipython3",
   "version": "3.9.7"
  }
 },
 "nbformat": 4,
 "nbformat_minor": 5
}
