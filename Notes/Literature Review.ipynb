{
 "cells": [
  {
   "cell_type": "markdown",
   "id": "77956cba-6137-457d-9ef3-890a0c66e592",
   "metadata": {},
   "source": [
    "# Literature Review"
   ]
  },
  {
   "cell_type": "markdown",
   "id": "db54b9da-667e-4a55-9b6f-1837fe2a834b",
   "metadata": {},
   "source": [
    "### Introduction to the Solar Activity Cycle: Overview of Causes and Consequences\n",
    "\n",
    "https://link.springer.com/chapter/10.1007/978-1-4939-2584-1_1\n",
    "\n",
    "\n",
    "Sun's activity cycle quoted as 11 years. Solar cycle is the result of the evolution of the solar dynamo, which generates the solar magnetic field. Solar Magnetic Fields introduced a **22 year** periodicity, as the poles of the Sun change sign every 11 years.\n",
    "\n",
    "Solar cycles are poorly understood, with most predictions for Cycle 24 proved generally wrong.\n",
    "\n",
    "***"
   ]
  },
  {
   "cell_type": "markdown",
   "id": "6fb7e07f-0376-4e34-b634-a18f1d128347",
   "metadata": {},
   "source": [
    "### The Extended Solar Activity Cycle\n",
    "\n",
    "https://www.nature.com/articles/333748a0\n",
    "\n",
    "Period of the solar cycle defined as the interval between two minima, currently averaging 11.2 years. Observations have indicated that the activity cucle may begin at higher lattitudes before we observe the first sunspots of the new cycle. \n",
    "\n",
    "Reporting on **Cycle 21**. Data indicates sunspot activity is the *main phase* of a more extended cycle that begins at high lattitudes. May be described by giant convective rolls that generate dynamo waves propagating from pole to equator.\n",
    "\n",
    "***"
   ]
  },
  {
   "cell_type": "markdown",
   "id": "e38f8bf0-8de3-4127-8ecb-048f671e0aab",
   "metadata": {},
   "source": [
    "https://www.nature.com/articles/333748a0\n",
    "\n",
    "https://link.springer.com/article/10.1007/s11207-006-0175-5\n",
    "\n",
    "https://arxiv.org/pdf/1204.3991.pdf%3B\n",
    "\n",
    "https://www.researchgate.net/publication/320004076_STATISTICAL_ANALYSIS_OF_SUNSPOT_NUMBER_AND_AREA"
   ]
  }
 ],
 "metadata": {
  "kernelspec": {
   "display_name": "Python 3 (ipykernel)",
   "language": "python",
   "name": "python3"
  },
  "language_info": {
   "codemirror_mode": {
    "name": "ipython",
    "version": 3
   },
   "file_extension": ".py",
   "mimetype": "text/x-python",
   "name": "python",
   "nbconvert_exporter": "python",
   "pygments_lexer": "ipython3",
   "version": "3.9.7"
  }
 },
 "nbformat": 4,
 "nbformat_minor": 5
}
