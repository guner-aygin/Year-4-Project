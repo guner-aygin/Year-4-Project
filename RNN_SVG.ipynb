{
 "cells": [
  {
   "cell_type": "markdown",
   "id": "ec39fb3f-0be8-45db-85a3-b1212b10f18d",
   "metadata": {},
   "source": [
    "# RNN for Smoothed Sunspot Data"
   ]
  },
  {
   "cell_type": "code",
   "execution_count": 1,
   "id": "1e262a69-e869-463a-8a39-d05a937e127c",
   "metadata": {},
   "outputs": [
    {
     "name": "stderr",
     "output_type": "stream",
     "text": [
      "2023-02-11 17:01:35.404595: I tensorflow/core/platform/cpu_feature_guard.cc:193] This TensorFlow binary is optimized with oneAPI Deep Neural Network Library (oneDNN) to use the following CPU instructions in performance-critical operations:  SSE4.1 SSE4.2\n",
      "To enable them in other operations, rebuild TensorFlow with the appropriate compiler flags.\n"
     ]
    }
   ],
   "source": [
    "import pandas as pd\n",
    "import numpy as np\n",
    "import matplotlib.pyplot as plt\n",
    "from tensorflow import keras\n",
    "from keras.callbacks import ModelCheckpoint"
   ]
  },
  {
   "cell_type": "code",
   "execution_count": 2,
   "id": "82445405-11db-4268-890e-ade5526d5fbc",
   "metadata": {},
   "outputs": [],
   "source": [
    "df = pd.read_csv('Data/SVG_poly1.csv') # importing data for SVG polyorder = 1\n",
    "X = ((df.Year).values).reshape(-1,1)\n",
    "y = (df.Sunspot_Number).values\n",
    "yerr = np.zeros(len(X))\n",
    "\n",
    "df.drop(columns=['Unnamed: 0'], inplace=True) \n",
    "# removes the unnecessary column\n",
    "df.set_index(\"Year\", inplace=True)\n",
    "\n",
    "\n",
    "#df.head(), df.tail()"
   ]
  },
  {
   "cell_type": "markdown",
   "id": "788363be-7f60-4c6c-8099-79a2e9a7ee8c",
   "metadata": {},
   "source": [
    "## Data Preprocessing"
   ]
  },
  {
   "cell_type": "code",
   "execution_count": 3,
   "id": "201ade13-5a48-4c1b-bf5f-7d6b57ae90f9",
   "metadata": {},
   "outputs": [],
   "source": [
    "limit = 70000\n",
    "skips = 28 # 1 data point per luna cycle\n",
    "train_data = df.iloc[:limit:skips]\n",
    "validation_data = df.iloc[limit::skips]"
   ]
  },
  {
   "cell_type": "code",
   "execution_count": 4,
   "id": "19c907a1-00a2-46da-a5b3-8ddb4f72204b",
   "metadata": {},
   "outputs": [],
   "source": [
    "from sklearn.preprocessing import MinMaxScaler\n",
    "scaler = MinMaxScaler()"
   ]
  },
  {
   "cell_type": "code",
   "execution_count": 5,
   "id": "cfc70b68-7400-4023-943c-84ebfa249940",
   "metadata": {},
   "outputs": [],
   "source": [
    "scaler.fit(train_data)\n",
    "scaled_train = scaler.transform(train_data)\n",
    "scaled_test = scaler.transform(validation_data)"
   ]
  },
  {
   "cell_type": "code",
   "execution_count": 6,
   "id": "46b360bd-f40b-484c-b486-eb08f1d529c3",
   "metadata": {},
   "outputs": [],
   "source": [
    "from keras.preprocessing.sequence import TimeseriesGenerator"
   ]
  },
  {
   "cell_type": "code",
   "execution_count": 7,
   "id": "d0f8c7d9-c1f9-4767-b179-73c76a68df3c",
   "metadata": {},
   "outputs": [],
   "source": [
    "# define generator\n",
    "n_input = 11 * 12 # 11 years \n",
    "n_features = 1 # we are only using 1 timeseries to make our predictions\n",
    "generator = TimeseriesGenerator(scaled_train, scaled_train, length=n_input, batch_size=1)"
   ]
  },
  {
   "cell_type": "code",
   "execution_count": 8,
   "id": "304f2642-1efd-4ffe-ac4d-a0a461eb3d28",
   "metadata": {},
   "outputs": [
    {
     "name": "stdout",
     "output_type": "stream",
     "text": [
      "Given the Array: \n",
      "[0.1263682  0.12394294 0.12151768 0.11909242 0.11666716 0.1142419\n",
      " 0.11181664 0.10939138 0.10696612 0.10454086 0.1021156  0.09969034\n",
      " 0.09726508 0.09483982 0.09241456 0.0899893  0.08756405 0.08513879\n",
      " 0.08271353 0.08028827 0.07786301 0.07543775 0.07301249 0.07058723\n",
      " 0.06816197 0.06573671 0.06331145 0.06201998 0.060503   0.06106645\n",
      " 0.05982108 0.05698361 0.05190677 0.04829202 0.04698308 0.04441722\n",
      " 0.04254772 0.03949642 0.03890696 0.03753446 0.0356534  0.03475477\n",
      " 0.03442826 0.03293728 0.0313914  0.02761195 0.02417635 0.02171451\n",
      " 0.01897816 0.0175941  0.01513803 0.01284667 0.01183246 0.01105518\n",
      " 0.00859912 0.00783051 0.00666605 0.00502193 0.00388925 0.00271612\n",
      " 0.00228847 0.         0.00187817 0.00339804 0.00306864 0.00230581\n",
      " 0.00194174 0.00373033 0.00564895 0.00566051 0.00605059 0.00783051\n",
      " 0.01033281 0.0134419  0.01606267 0.0174294  0.01689195 0.01697286\n",
      " 0.01930756 0.0208361  0.02274316 0.02533504 0.0269127  0.02994088\n",
      " 0.03311932 0.03818459 0.04405314 0.04904329 0.05130287 0.05792558\n",
      " 0.061549   0.06650447 0.07124323 0.0745777  0.08281852 0.08828255\n",
      " 0.09551205 0.10029704 0.10890772 0.11436018 0.12078929 0.12759115\n",
      " 0.13439012 0.13900463 0.14249802 0.14573714 0.15166926 0.15843355\n",
      " 0.16379933 0.17316127 0.18276882 0.19517051 0.20216307 0.21303911\n",
      " 0.21850313 0.22150242 0.22689998 0.23099728 0.23325686 0.23512347\n",
      " 0.23764021 0.24819262 0.25942696 0.26435642 0.27268104 0.27954647\n",
      " 0.2852272  0.28919158 0.2941615  0.29910541 0.30374015 0.30397709]\n",
      "Predict this y: \n",
      " [[0.30774499]]\n"
     ]
    },
    {
     "data": {
      "text/plain": [
       "(1, 132, 1)"
      ]
     },
     "execution_count": 8,
     "metadata": {},
     "output_type": "execute_result"
    }
   ],
   "source": [
    "X,y = generator[0]\n",
    "print(f'Given the Array: \\n{X.flatten()}')\n",
    "print(f'Predict this y: \\n {y}')\n",
    "\n",
    "X.shape"
   ]
  },
  {
   "cell_type": "code",
   "execution_count": 9,
   "id": "3fec8f90-8c99-4347-98aa-e9213d8af1cb",
   "metadata": {},
   "outputs": [],
   "source": [
    "from keras.models import Sequential\n",
    "from keras.layers import Dense\n",
    "from keras.layers import LSTM"
   ]
  },
  {
   "cell_type": "code",
   "execution_count": 10,
   "id": "c01a358a-bea8-4a9b-8f29-697433c8072c",
   "metadata": {},
   "outputs": [
    {
     "name": "stdout",
     "output_type": "stream",
     "text": [
      "Model: \"sequential\"\n",
      "_________________________________________________________________\n",
      " Layer (type)                Output Shape              Param #   \n",
      "=================================================================\n",
      " lstm (LSTM)                 (None, 100)               40800     \n",
      "                                                                 \n",
      " dense (Dense)               (None, 1)                 101       \n",
      "                                                                 \n",
      "=================================================================\n",
      "Total params: 40,901\n",
      "Trainable params: 40,901\n",
      "Non-trainable params: 0\n",
      "_________________________________________________________________\n"
     ]
    },
    {
     "name": "stderr",
     "output_type": "stream",
     "text": [
      "2023-02-11 17:01:39.541270: I tensorflow/core/platform/cpu_feature_guard.cc:193] This TensorFlow binary is optimized with oneAPI Deep Neural Network Library (oneDNN) to use the following CPU instructions in performance-critical operations:  SSE4.1 SSE4.2\n",
      "To enable them in other operations, rebuild TensorFlow with the appropriate compiler flags.\n"
     ]
    }
   ],
   "source": [
    "# define model\n",
    "model = Sequential() # adds layers in a sequence\n",
    "model.add(LSTM(100, activation='relu', input_shape=(n_input, n_features))) # maybe try elu?\n",
    "# 100 neurons\n",
    "model.add(Dense(1))\n",
    "# 1 layer\n",
    "model.compile(optimizer='adam', loss='mse')\n",
    "model.summary()"
   ]
  },
  {
   "cell_type": "code",
   "execution_count": 12,
   "id": "48d6394a-eaa0-4232-a9a9-d4e93c3bf307",
   "metadata": {},
   "outputs": [
    {
     "name": "stdout",
     "output_type": "stream",
     "text": [
      "Epoch 1/11\n",
      "2367/2368 [============================>.] - ETA: 0s - loss: 0.0011WARNING:tensorflow:Model was constructed with shape (None, 132, 1) for input KerasTensor(type_spec=TensorSpec(shape=(None, 132, 1), dtype=tf.float32, name='lstm_input'), name='lstm_input', description=\"created by layer 'lstm_input'\"), but it was called on an input with incompatible shape (1, 1, 1).\n",
      "2368/2368 [==============================] - 59s 25ms/step - loss: 0.0011 - val_loss: 0.0289\n",
      "Epoch 2/11\n",
      "2368/2368 [==============================] - 58s 25ms/step - loss: 1.8654e-04 - val_loss: 0.0243\n",
      "Epoch 3/11\n",
      "2368/2368 [==============================] - 58s 25ms/step - loss: 1.2520e-04 - val_loss: 0.0192\n",
      "Epoch 4/11\n",
      "2368/2368 [==============================] - 61s 26ms/step - loss: 1.0297e-04 - val_loss: 0.0148\n",
      "Epoch 5/11\n",
      "2368/2368 [==============================] - 58s 25ms/step - loss: 7.3711e-05 - val_loss: 0.0113\n",
      "Epoch 6/11\n",
      "2368/2368 [==============================] - 58s 25ms/step - loss: 6.4062e-05 - val_loss: 0.0080\n",
      "Epoch 7/11\n",
      "2368/2368 [==============================] - 60s 25ms/step - loss: 4.9890e-05 - val_loss: 0.0054\n",
      "Epoch 8/11\n",
      "2368/2368 [==============================] - 60s 25ms/step - loss: 4.3325e-05 - val_loss: 0.0027\n",
      "Epoch 9/11\n",
      "2368/2368 [==============================] - 58s 24ms/step - loss: 3.4316e-05 - val_loss: 8.0902e-04\n",
      "Epoch 10/11\n",
      "2368/2368 [==============================] - 62s 26ms/step - loss: 3.0995e-05 - val_loss: 3.5154e-04\n",
      "Epoch 11/11\n",
      "2368/2368 [==============================] - 62s 26ms/step - loss: 3.1486e-05 - val_loss: 8.6775e-05\n"
     ]
    }
   ],
   "source": [
    "# fit model\n",
    "epochs = 11\n",
    "\n",
    "# Define a ModelCheckpoint callback to save the model weights based on validation loss\n",
    "checkpoint = ModelCheckpoint('best_weights.h5', monitor='val_loss', save_best_only=True, save_weights_only=True)\n",
    "\n",
    "# Fit the model to the data, using the ModelCheckpoint callback\n",
    "history = model.fit(generator, epochs=epochs, batch_size=1, validation_data=(scaled_test,scaled_test), callbacks=[checkpoint])"
   ]
  },
  {
   "cell_type": "code",
   "execution_count": 13,
   "id": "de699997-b427-4a5c-8508-4a4262bf2226",
   "metadata": {},
   "outputs": [
    {
     "data": {
      "text/plain": [
       "[<matplotlib.lines.Line2D at 0x7fb6263d27c0>]"
      ]
     },
     "execution_count": 13,
     "metadata": {},
     "output_type": "execute_result"
    },
    {
     "data": {
      "image/png": "[encoded data removed]",
      "text/plain": [
       "<Figure size 640x480 with 1 Axes>"
      ]
     },
     "metadata": {},
     "output_type": "display_data"
    }
   ],
   "source": [
    "loss_per_epoch = model.history.history['loss']\n",
    "val_loss_per_epoch = model.history.history['val_loss']\n",
    "plt.plot(range(len(loss_per_epoch)),loss_per_epoch)\n",
    "plt.plot(range(len(val_loss_per_epoch)), val_loss_per_epoch)"
   ]
  },
  {
   "cell_type": "code",
   "execution_count": 14,
   "id": "027cad75-5bc7-4aed-9b61-e253e7ac61c9",
   "metadata": {},
   "outputs": [],
   "source": [
    "last_train_batch = scaled_train[-n_input:] \n",
    "# take the last n_input month of values, to make \n",
    "# predictions on the 1st test set"
   ]
  },
  {
   "cell_type": "code",
   "execution_count": 15,
   "id": "99c36497-2d27-49ee-99d0-5f17aeb01b91",
   "metadata": {},
   "outputs": [],
   "source": [
    "last_train_batch = last_train_batch.reshape((1, n_input, n_features))"
   ]
  },
  {
   "cell_type": "code",
   "execution_count": 16,
   "id": "2827ecc5-7f07-4bce-9367-9e7300026262",
   "metadata": {},
   "outputs": [
    {
     "name": "stdout",
     "output_type": "stream",
     "text": [
      "1/1 [==============================] - 0s 215ms/step\n"
     ]
    },
    {
     "data": {
      "text/plain": [
       "array([[0.06086917]], dtype=float32)"
      ]
     },
     "execution_count": 16,
     "metadata": {},
     "output_type": "execute_result"
    }
   ],
   "source": [
    "model.predict(last_train_batch)"
   ]
  },
  {
   "cell_type": "code",
   "execution_count": 17,
   "id": "21a534f6-9e5e-44f1-af70-7b379daee63b",
   "metadata": {},
   "outputs": [
    {
     "name": "stdout",
     "output_type": "stream",
     "text": [
      "1/1 [==============================] - 0s 24ms/step\n",
      "1/1 [==============================] - 0s 25ms/step\n",
      "1/1 [==============================] - 0s 25ms/step\n",
      "1/1 [==============================] - 0s 24ms/step\n",
      "1/1 [==============================] - 0s 24ms/step\n",
      "1/1 [==============================] - 0s 24ms/step\n",
      "1/1 [==============================] - 0s 24ms/step\n",
      "1/1 [==============================] - 0s 24ms/step\n",
      "1/1 [==============================] - 0s 24ms/step\n",
      "1/1 [==============================] - 0s 24ms/step\n",
      "1/1 [==============================] - 0s 24ms/step\n",
      "1/1 [==============================] - 0s 25ms/step\n",
      "1/1 [==============================] - 0s 24ms/step\n",
      "1/1 [==============================] - 0s 24ms/step\n",
      "1/1 [==============================] - 0s 24ms/step\n",
      "1/1 [==============================] - 0s 24ms/step\n",
      "1/1 [==============================] - 0s 24ms/step\n",
      "1/1 [==============================] - 0s 24ms/step\n",
      "1/1 [==============================] - 0s 24ms/step\n",
      "1/1 [==============================] - 0s 24ms/step\n",
      "1/1 [==============================] - 0s 25ms/step\n",
      "1/1 [==============================] - 0s 25ms/step\n",
      "1/1 [==============================] - 0s 25ms/step\n",
      "1/1 [==============================] - 0s 25ms/step\n",
      "1/1 [==============================] - 0s 24ms/step\n",
      "1/1 [==============================] - 0s 24ms/step\n",
      "1/1 [==============================] - 0s 24ms/step\n",
      "1/1 [==============================] - 0s 24ms/step\n",
      "1/1 [==============================] - 0s 24ms/step\n",
      "1/1 [==============================] - 0s 25ms/step\n",
      "1/1 [==============================] - 0s 24ms/step\n",
      "1/1 [==============================] - 0s 24ms/step\n",
      "1/1 [==============================] - 0s 24ms/step\n",
      "1/1 [==============================] - 0s 24ms/step\n",
      "1/1 [==============================] - 0s 25ms/step\n",
      "1/1 [==============================] - 0s 24ms/step\n",
      "1/1 [==============================] - 0s 24ms/step\n",
      "1/1 [==============================] - 0s 24ms/step\n",
      "1/1 [==============================] - 0s 24ms/step\n",
      "1/1 [==============================] - 0s 25ms/step\n",
      "1/1 [==============================] - 0s 25ms/step\n",
      "1/1 [==============================] - 0s 24ms/step\n",
      "1/1 [==============================] - 0s 24ms/step\n",
      "1/1 [==============================] - 0s 25ms/step\n",
      "1/1 [==============================] - 0s 25ms/step\n",
      "1/1 [==============================] - 0s 25ms/step\n",
      "1/1 [==============================] - 0s 25ms/step\n",
      "1/1 [==============================] - 0s 24ms/step\n",
      "1/1 [==============================] - 0s 25ms/step\n",
      "1/1 [==============================] - 0s 25ms/step\n",
      "1/1 [==============================] - 0s 25ms/step\n",
      "1/1 [==============================] - 0s 26ms/step\n",
      "1/1 [==============================] - 0s 25ms/step\n",
      "1/1 [==============================] - 0s 24ms/step\n",
      "1/1 [==============================] - 0s 25ms/step\n",
      "1/1 [==============================] - 0s 25ms/step\n",
      "1/1 [==============================] - 0s 25ms/step\n",
      "1/1 [==============================] - 0s 25ms/step\n",
      "1/1 [==============================] - 0s 25ms/step\n",
      "1/1 [==============================] - 0s 26ms/step\n",
      "1/1 [==============================] - 0s 25ms/step\n",
      "1/1 [==============================] - 0s 25ms/step\n",
      "1/1 [==============================] - 0s 24ms/step\n",
      "1/1 [==============================] - 0s 24ms/step\n",
      "1/1 [==============================] - 0s 25ms/step\n",
      "1/1 [==============================] - 0s 24ms/step\n",
      "1/1 [==============================] - 0s 24ms/step\n",
      "1/1 [==============================] - 0s 24ms/step\n",
      "1/1 [==============================] - 0s 25ms/step\n",
      "1/1 [==============================] - 0s 26ms/step\n",
      "1/1 [==============================] - 0s 25ms/step\n",
      "1/1 [==============================] - 0s 25ms/step\n",
      "1/1 [==============================] - 0s 24ms/step\n",
      "1/1 [==============================] - 0s 25ms/step\n",
      "1/1 [==============================] - 0s 24ms/step\n",
      "1/1 [==============================] - 0s 24ms/step\n",
      "1/1 [==============================] - 0s 24ms/step\n",
      "1/1 [==============================] - 0s 24ms/step\n",
      "1/1 [==============================] - 0s 25ms/step\n",
      "1/1 [==============================] - 0s 26ms/step\n",
      "1/1 [==============================] - 0s 26ms/step\n",
      "1/1 [==============================] - 0s 27ms/step\n",
      "1/1 [==============================] - 0s 25ms/step\n",
      "1/1 [==============================] - 0s 24ms/step\n",
      "1/1 [==============================] - 0s 24ms/step\n",
      "1/1 [==============================] - 0s 24ms/step\n",
      "1/1 [==============================] - 0s 24ms/step\n",
      "1/1 [==============================] - 0s 25ms/step\n",
      "1/1 [==============================] - 0s 25ms/step\n",
      "1/1 [==============================] - 0s 26ms/step\n",
      "1/1 [==============================] - 0s 25ms/step\n",
      "1/1 [==============================] - 0s 24ms/step\n",
      "1/1 [==============================] - 0s 24ms/step\n",
      "1/1 [==============================] - 0s 24ms/step\n",
      "1/1 [==============================] - 0s 24ms/step\n",
      "1/1 [==============================] - 0s 24ms/step\n",
      "1/1 [==============================] - 0s 24ms/step\n",
      "1/1 [==============================] - 0s 25ms/step\n",
      "1/1 [==============================] - 0s 25ms/step\n",
      "1/1 [==============================] - 0s 25ms/step\n",
      "1/1 [==============================] - 0s 25ms/step\n",
      "1/1 [==============================] - 0s 24ms/step\n",
      "1/1 [==============================] - 0s 24ms/step\n",
      "1/1 [==============================] - 0s 24ms/step\n",
      "1/1 [==============================] - 0s 24ms/step\n",
      "1/1 [==============================] - 0s 24ms/step\n",
      "1/1 [==============================] - 0s 25ms/step\n",
      "1/1 [==============================] - 0s 25ms/step\n",
      "1/1 [==============================] - 0s 26ms/step\n",
      "1/1 [==============================] - 0s 25ms/step\n",
      "1/1 [==============================] - 0s 25ms/step\n",
      "1/1 [==============================] - 0s 25ms/step\n",
      "1/1 [==============================] - 0s 25ms/step\n",
      "1/1 [==============================] - 0s 24ms/step\n",
      "1/1 [==============================] - 0s 25ms/step\n",
      "1/1 [==============================] - 0s 24ms/step\n",
      "1/1 [==============================] - 0s 25ms/step\n",
      "1/1 [==============================] - 0s 26ms/step\n",
      "1/1 [==============================] - 0s 25ms/step\n",
      "1/1 [==============================] - 0s 24ms/step\n",
      "1/1 [==============================] - 0s 24ms/step\n",
      "1/1 [==============================] - 0s 24ms/step\n",
      "1/1 [==============================] - 0s 24ms/step\n",
      "1/1 [==============================] - 0s 24ms/step\n",
      "1/1 [==============================] - 0s 24ms/step\n",
      "1/1 [==============================] - 0s 24ms/step\n",
      "1/1 [==============================] - 0s 25ms/step\n",
      "1/1 [==============================] - 0s 25ms/step\n",
      "1/1 [==============================] - 0s 25ms/step\n",
      "1/1 [==============================] - 0s 24ms/step\n",
      "1/1 [==============================] - 0s 24ms/step\n",
      "1/1 [==============================] - 0s 24ms/step\n",
      "1/1 [==============================] - 0s 24ms/step\n",
      "1/1 [==============================] - 0s 24ms/step\n",
      "1/1 [==============================] - 0s 24ms/step\n",
      "1/1 [==============================] - 0s 24ms/step\n",
      "1/1 [==============================] - 0s 25ms/step\n",
      "1/1 [==============================] - 0s 25ms/step\n",
      "1/1 [==============================] - 0s 25ms/step\n",
      "1/1 [==============================] - 0s 24ms/step\n",
      "1/1 [==============================] - 0s 24ms/step\n",
      "1/1 [==============================] - 0s 24ms/step\n",
      "1/1 [==============================] - 0s 24ms/step\n",
      "1/1 [==============================] - 0s 24ms/step\n",
      "1/1 [==============================] - 0s 24ms/step\n",
      "1/1 [==============================] - 0s 25ms/step\n",
      "1/1 [==============================] - 0s 26ms/step\n",
      "1/1 [==============================] - 0s 27ms/step\n",
      "1/1 [==============================] - 0s 27ms/step\n",
      "1/1 [==============================] - 0s 25ms/step\n",
      "1/1 [==============================] - 0s 24ms/step\n",
      "1/1 [==============================] - 0s 24ms/step\n",
      "1/1 [==============================] - 0s 24ms/step\n",
      "1/1 [==============================] - 0s 24ms/step\n",
      "1/1 [==============================] - 0s 24ms/step\n",
      "1/1 [==============================] - 0s 25ms/step\n",
      "1/1 [==============================] - 0s 26ms/step\n",
      "1/1 [==============================] - 0s 25ms/step\n",
      "1/1 [==============================] - 0s 25ms/step\n",
      "1/1 [==============================] - 0s 24ms/step\n",
      "1/1 [==============================] - 0s 24ms/step\n",
      "1/1 [==============================] - 0s 24ms/step\n",
      "1/1 [==============================] - 0s 24ms/step\n",
      "1/1 [==============================] - 0s 24ms/step\n",
      "1/1 [==============================] - 0s 24ms/step\n",
      "1/1 [==============================] - 0s 26ms/step\n",
      "1/1 [==============================] - 0s 27ms/step\n",
      "1/1 [==============================] - 0s 26ms/step\n",
      "1/1 [==============================] - 0s 25ms/step\n",
      "1/1 [==============================] - 0s 25ms/step\n",
      "1/1 [==============================] - 0s 24ms/step\n"
     ]
    }
   ],
   "source": [
    "validation_predictions = []\n",
    "\n",
    "first_eval_batch = scaled_train[-n_input:]\n",
    "current_batch = first_eval_batch.reshape((1, n_input, n_features))\n",
    "\n",
    "for i in range(len(validation_data)):\n",
    "    \n",
    "    # get the prediction value for the first batch\n",
    "    current_pred = model.predict(current_batch)[0]\n",
    "    \n",
    "    # append the prediction into the array\n",
    "    validation_predictions.append(current_pred) \n",
    "    \n",
    "    # use the prediction to update the batch and remove the first value\n",
    "    current_batch = np.append(current_batch[:,1:,:],[[current_pred]],axis=1)"
   ]
  },
  {
   "cell_type": "code",
   "execution_count": 18,
   "id": "787881a8-d5ab-42b6-8403-302b605fe40a",
   "metadata": {},
   "outputs": [
    {
     "data": {
      "text/plain": [
       "[array([0.06086917], dtype=float32),\n",
       " array([0.06708497], dtype=float32),\n",
       " array([0.07412128], dtype=float32),\n",
       " array([0.08173239], dtype=float32),\n",
       " array([0.08990726], dtype=float32),\n",
       " array([0.09864779], dtype=float32),\n",
       " array([0.10797548], dtype=float32),\n",
       " array([0.11797407], dtype=float32),\n",
       " array([0.12864892], dtype=float32),\n",
       " array([0.1400048], dtype=float32),\n",
       " array([0.15205604], dtype=float32),\n",
       " array([0.16482343], dtype=float32),\n",
       " array([0.17833352], dtype=float32),\n",
       " array([0.19274731], dtype=float32),\n",
       " array([0.2080611], dtype=float32),\n",
       " array([0.22428687], dtype=float32),\n",
       " array([0.24144624], dtype=float32),\n",
       " array([0.2595143], dtype=float32),\n",
       " array([0.27797535], dtype=float32),\n",
       " array([0.29678926], dtype=float32),\n",
       " array([0.31594366], dtype=float32),\n",
       " array([0.33542562], dtype=float32),\n",
       " array([0.35521328], dtype=float32),\n",
       " array([0.37527496], dtype=float32),\n",
       " array([0.39556918], dtype=float32),\n",
       " array([0.41604567], dtype=float32),\n",
       " array([0.4366474], dtype=float32),\n",
       " array([0.45731217], dtype=float32),\n",
       " array([0.47797427], dtype=float32),\n",
       " array([0.49856532], dtype=float32),\n",
       " array([0.51901567], dtype=float32),\n",
       " array([0.5392548], dtype=float32),\n",
       " array([0.559212], dtype=float32),\n",
       " array([0.5788176], dtype=float32),\n",
       " array([0.5980027], dtype=float32),\n",
       " array([0.6167004], dtype=float32),\n",
       " array([0.6348462], dtype=float32),\n",
       " array([0.6523786], dtype=float32),\n",
       " array([0.66923946], dtype=float32),\n",
       " array([0.6853748], dtype=float32),\n",
       " array([0.7007351], dtype=float32),\n",
       " array([0.7152758], dtype=float32),\n",
       " array([0.7289576], dtype=float32),\n",
       " array([0.7417466], dtype=float32),\n",
       " array([0.7536147], dtype=float32),\n",
       " array([0.76453996], dtype=float32),\n",
       " array([0.77450585], dtype=float32),\n",
       " array([0.78350174], dtype=float32),\n",
       " array([0.79152304], dtype=float32),\n",
       " array([0.79857045], dtype=float32),\n",
       " array([0.80465], dtype=float32),\n",
       " array([0.8097727], dtype=float32),\n",
       " array([0.81395406], dtype=float32),\n",
       " array([0.81721413], dtype=float32),\n",
       " array([0.81957644], dtype=float32),\n",
       " array([0.821068], dtype=float32),\n",
       " array([0.8217189], dtype=float32),\n",
       " array([0.8215615], dtype=float32),\n",
       " array([0.82063067], dtype=float32),\n",
       " array([0.81896263], dtype=float32),\n",
       " array([0.8165951], dtype=float32),\n",
       " array([0.8135666], dtype=float32),\n",
       " array([0.80991644], dtype=float32),\n",
       " array([0.805684], dtype=float32),\n",
       " array([0.8009088], dtype=float32),\n",
       " array([0.7956302], dtype=float32),\n",
       " array([0.789887], dtype=float32),\n",
       " array([0.7837174], dtype=float32),\n",
       " array([0.7771585], dtype=float32),\n",
       " array([0.7702469], dtype=float32),\n",
       " array([0.763018], dtype=float32),\n",
       " array([0.75550604], dtype=float32),\n",
       " array([0.7477441], dtype=float32),\n",
       " array([0.7397638], dtype=float32),\n",
       " array([0.7315958], dtype=float32),\n",
       " array([0.72326916], dtype=float32),\n",
       " array([0.7148117], dtype=float32),\n",
       " array([0.70625], dtype=float32),\n",
       " array([0.69760925], dtype=float32),\n",
       " array([0.6889134], dtype=float32),\n",
       " array([0.6801851], dtype=float32),\n",
       " array([0.67144567], dtype=float32),\n",
       " array([0.6627154], dtype=float32),\n",
       " array([0.65401334], dtype=float32),\n",
       " array([0.64535743], dtype=float32),\n",
       " array([0.6367646], dtype=float32),\n",
       " array([0.62825054], dtype=float32),\n",
       " array([0.6198302], dtype=float32),\n",
       " array([0.61151725], dtype=float32),\n",
       " array([0.6033249], dtype=float32),\n",
       " array([0.5952651], dtype=float32),\n",
       " array([0.5873491], dtype=float32),\n",
       " array([0.5795874], dtype=float32),\n",
       " array([0.57198954], dtype=float32),\n",
       " array([0.5645645], dtype=float32),\n",
       " array([0.5573206], dtype=float32),\n",
       " array([0.55026543], dtype=float32),\n",
       " array([0.5434059], dtype=float32),\n",
       " array([0.5367484], dtype=float32),\n",
       " array([0.5302987], dtype=float32),\n",
       " array([0.524062], dtype=float32),\n",
       " array([0.518043], dtype=float32),\n",
       " array([0.51224583], dtype=float32),\n",
       " array([0.5066743], dtype=float32),\n",
       " array([0.50133145], dtype=float32),\n",
       " array([0.49622017], dtype=float32),\n",
       " array([0.49134272], dtype=float32),\n",
       " array([0.48670107], dtype=float32),\n",
       " array([0.4822967], dtype=float32),\n",
       " array([0.47813076], dtype=float32),\n",
       " array([0.4742039], dtype=float32),\n",
       " array([0.47051668], dtype=float32),\n",
       " array([0.4670689], dtype=float32),\n",
       " array([0.46386033], dtype=float32),\n",
       " array([0.46089017], dtype=float32),\n",
       " array([0.4581576], dtype=float32),\n",
       " array([0.45566106], dtype=float32),\n",
       " array([0.45339903], dtype=float32),\n",
       " array([0.45136946], dtype=float32),\n",
       " array([0.4495701], dtype=float32),\n",
       " array([0.44799837], dtype=float32),\n",
       " array([0.44665146], dtype=float32),\n",
       " array([0.44552615], dtype=float32),\n",
       " array([0.44461915], dtype=float32),\n",
       " array([0.44392663], dtype=float32),\n",
       " array([0.4434446], dtype=float32),\n",
       " array([0.44316894], dtype=float32),\n",
       " array([0.443095], dtype=float32),\n",
       " array([0.44321808], dtype=float32),\n",
       " array([0.44353324], dtype=float32),\n",
       " array([0.4440353], dtype=float32),\n",
       " array([0.44471866], dtype=float32),\n",
       " array([0.44557768], dtype=float32),\n",
       " array([0.44660652], dtype=float32),\n",
       " array([0.44779903], dtype=float32),\n",
       " array([0.449149], dtype=float32),\n",
       " array([0.45064986], dtype=float32),\n",
       " array([0.45229495], dtype=float32),\n",
       " array([0.45407742], dtype=float32),\n",
       " array([0.45599025], dtype=float32),\n",
       " array([0.4580264], dtype=float32),\n",
       " array([0.46017852], dtype=float32),\n",
       " array([0.4624393], dtype=float32),\n",
       " array([0.46480125], dtype=float32),\n",
       " array([0.46725672], dtype=float32),\n",
       " array([0.46979818], dtype=float32),\n",
       " array([0.47241786], dtype=float32),\n",
       " array([0.4751081], dtype=float32),\n",
       " array([0.47786102], dtype=float32),\n",
       " array([0.480669], dtype=float32),\n",
       " array([0.48352417], dtype=float32),\n",
       " array([0.48641887], dtype=float32),\n",
       " array([0.48934534], dtype=float32),\n",
       " array([0.49229604], dtype=float32),\n",
       " array([0.4952634], dtype=float32),\n",
       " array([0.49823993], dtype=float32),\n",
       " array([0.50121844], dtype=float32),\n",
       " array([0.5041916], dtype=float32),\n",
       " array([0.5071524], dtype=float32),\n",
       " array([0.510094], dtype=float32),\n",
       " array([0.51300985], dtype=float32),\n",
       " array([0.5158933], dtype=float32),\n",
       " array([0.51873827], dtype=float32),\n",
       " array([0.52153856], dtype=float32),\n",
       " array([0.5242885], dtype=float32),\n",
       " array([0.52698255], dtype=float32),\n",
       " array([0.52961546], dtype=float32),\n",
       " array([0.5321822], dtype=float32),\n",
       " array([0.53467816], dtype=float32),\n",
       " array([0.53709894], dtype=float32),\n",
       " array([0.5394406], dtype=float32)]"
      ]
     },
     "execution_count": 18,
     "metadata": {},
     "output_type": "execute_result"
    }
   ],
   "source": [
    "validation_predictions\n",
    "# NOTE: these predictions are in the range 0-1\n",
    "# we need to convert it back "
   ]
  },
  {
   "cell_type": "code",
   "execution_count": 19,
   "id": "65c1f186-6cc9-4993-83df-16cae238fc41",
   "metadata": {},
   "outputs": [],
   "source": [
    "true_predictions = scaler.inverse_transform(validation_predictions)"
   ]
  },
  {
   "cell_type": "code",
   "execution_count": 20,
   "id": "9ee137c3-91f5-454e-a4cf-fb9e73275afe",
   "metadata": {},
   "outputs": [
    {
     "name": "stderr",
     "output_type": "stream",
     "text": [
      "/var/folders/42/2w7j46nn3j75crpy2kc1y7vw0000gn/T/ipykernel_1644/2311742674.py:1: SettingWithCopyWarning: \n",
      "A value is trying to be set on a copy of a slice from a DataFrame.\n",
      "Try using .loc[row_indexer,col_indexer] = value instead\n",
      "\n",
      "See the caveats in the documentation: https://pandas.pydata.org/pandas-docs/stable/user_guide/indexing.html#returning-a-view-versus-a-copy\n",
      "  validation_data['Predictions'] = true_predictions\n"
     ]
    }
   ],
   "source": [
    "validation_data['Predictions'] = true_predictions"
   ]
  },
  {
   "cell_type": "code",
   "execution_count": 21,
   "id": "070f1e22-3adb-426a-82e3-f45ce5e004a1",
   "metadata": {},
   "outputs": [
    {
     "data": {
      "image/png": "[encoded data removed]",
      "text/plain": [
       "<Figure size 1400x500 with 1 Axes>"
      ]
     },
     "metadata": {},
     "output_type": "display_data"
    }
   ],
   "source": [
    "validation_data.plot(figsize=(14,5));"
   ]
  },
  {
   "cell_type": "markdown",
   "id": "cb01a206-0ccc-419c-bb67-ba52320f2a53",
   "metadata": {},
   "source": [
    "### Comment on plot:\n",
    "Initially started using an RNN with a ReLu activation function, which produced some form of results, but they didn't fit well to the data.\n",
    "\n",
    "I have attempted to use a Sigmoid function instead, which again seems to produce some form of results, but it predicts the sunspot number to be much higher than it was, and doesn't seem to come back down to a minimum of zero. One positive note is th"
   ]
  }
 ],
 "metadata": {
  "kernelspec": {
   "display_name": "Python 3 (ipykernel)",
   "language": "python",
   "name": "python3"
  },
  "language_info": {
   "codemirror_mode": {
    "name": "ipython",
    "version": 3
   },
   "file_extension": ".py",
   "mimetype": "text/x-python",
   "name": "python",
   "nbconvert_exporter": "python",
   "pygments_lexer": "ipython3",
   "version": "3.8.16"
  }
 },
 "nbformat": 4,
 "nbformat_minor": 5
}
