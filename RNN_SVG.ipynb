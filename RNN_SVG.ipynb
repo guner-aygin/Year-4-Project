{
 "cells": [
  {
   "cell_type": "markdown",
   "id": "ec39fb3f-0be8-45db-85a3-b1212b10f18d",
   "metadata": {},
   "source": [
    "# RNN for Smoothed Sunspot Data"
   ]
  },
  {
   "cell_type": "code",
   "execution_count": 1,
   "id": "1e262a69-e869-463a-8a39-d05a937e127c",
   "metadata": {},
   "outputs": [
    {
     "name": "stderr",
     "output_type": "stream",
     "text": [
      "2023-02-13 17:59:03.135258: I tensorflow/core/platform/cpu_feature_guard.cc:193] This TensorFlow binary is optimized with oneAPI Deep Neural Network Library (oneDNN) to use the following CPU instructions in performance-critical operations:  AVX2 FMA\n",
      "To enable them in other operations, rebuild TensorFlow with the appropriate compiler flags.\n"
     ]
    }
   ],
   "source": [
    "import pandas as pd\n",
    "import numpy as np\n",
    "import matplotlib.pyplot as plt\n",
    "from tensorflow import keras\n",
    "from keras.callbacks import ModelCheckpoint"
   ]
  },
  {
   "cell_type": "code",
   "execution_count": 2,
   "id": "82445405-11db-4268-890e-ade5526d5fbc",
   "metadata": {},
   "outputs": [],
   "source": [
    "df = pd.read_csv('Data/SVG_poly1.csv') # importing data for SVG polyorder = 1\n",
    "X = ((df.Year).values).reshape(-1,1)\n",
    "y = (df.Sunspot_Number).values\n",
    "yerr = np.zeros(len(X))\n",
    "\n",
    "df.drop(columns=['Unnamed: 0'], inplace=True) \n",
    "# removes the unnecessary column\n",
    "df.set_index(\"Year\", inplace=True)\n",
    "\n",
    "\n",
    "#df.head(), df.tail()"
   ]
  },
  {
   "cell_type": "markdown",
   "id": "788363be-7f60-4c6c-8099-79a2e9a7ee8c",
   "metadata": {},
   "source": [
    "## Data Preprocessing"
   ]
  },
  {
   "cell_type": "code",
   "execution_count": 3,
   "id": "201ade13-5a48-4c1b-bf5f-7d6b57ae90f9",
   "metadata": {},
   "outputs": [],
   "source": [
    "limit = 70000\n",
    "skips = 28 # 1 data point per luna cycle\n",
    "train_data = df.iloc[:limit:skips]\n",
    "validation_data = df.iloc[limit::skips]"
   ]
  },
  {
   "cell_type": "code",
   "execution_count": 4,
   "id": "19c907a1-00a2-46da-a5b3-8ddb4f72204b",
   "metadata": {},
   "outputs": [],
   "source": [
    "from sklearn.preprocessing import MinMaxScaler\n",
    "scaler = MinMaxScaler()"
   ]
  },
  {
   "cell_type": "code",
   "execution_count": 5,
   "id": "cfc70b68-7400-4023-943c-84ebfa249940",
   "metadata": {},
   "outputs": [],
   "source": [
    "scaler.fit(train_data)\n",
    "scaled_train = scaler.transform(train_data)\n",
    "scaled_test = scaler.transform(validation_data)"
   ]
  },
  {
   "cell_type": "code",
   "execution_count": 6,
   "id": "46b360bd-f40b-484c-b486-eb08f1d529c3",
   "metadata": {},
   "outputs": [],
   "source": [
    "from keras.preprocessing.sequence import TimeseriesGenerator"
   ]
  },
  {
   "cell_type": "code",
   "execution_count": 7,
   "id": "d0f8c7d9-c1f9-4767-b179-73c76a68df3c",
   "metadata": {},
   "outputs": [],
   "source": [
    "# define generator\n",
    "n_input = 11 * 12 # 11 years \n",
    "n_features = 1 # we are only using 1 timeseries to make our predictions\n",
    "generator = TimeseriesGenerator(scaled_train, scaled_train, length=n_input, batch_size=1)"
   ]
  },
  {
   "cell_type": "code",
   "execution_count": 8,
   "id": "304f2642-1efd-4ffe-ac4d-a0a461eb3d28",
   "metadata": {},
   "outputs": [
    {
     "name": "stdout",
     "output_type": "stream",
     "text": [
      "Given the Array: \n",
      "[0.1263682  0.12394294 0.12151768 0.11909242 0.11666716 0.1142419\n",
      " 0.11181664 0.10939138 0.10696612 0.10454086 0.1021156  0.09969034\n",
      " 0.09726508 0.09483982 0.09241456 0.0899893  0.08756405 0.08513879\n",
      " 0.08271353 0.08028827 0.07786301 0.07543775 0.07301249 0.07058723\n",
      " 0.06816197 0.06573671 0.06331145 0.06201998 0.060503   0.06106645\n",
      " 0.05982108 0.05698361 0.05190677 0.04829202 0.04698308 0.04441722\n",
      " 0.04254772 0.03949642 0.03890696 0.03753446 0.0356534  0.03475477\n",
      " 0.03442826 0.03293728 0.0313914  0.02761195 0.02417635 0.02171451\n",
      " 0.01897816 0.0175941  0.01513803 0.01284667 0.01183246 0.01105518\n",
      " 0.00859912 0.00783051 0.00666605 0.00502193 0.00388925 0.00271612\n",
      " 0.00228847 0.         0.00187817 0.00339804 0.00306864 0.00230581\n",
      " 0.00194174 0.00373033 0.00564895 0.00566051 0.00605059 0.00783051\n",
      " 0.01033281 0.0134419  0.01606267 0.0174294  0.01689195 0.01697286\n",
      " 0.01930756 0.0208361  0.02274316 0.02533504 0.0269127  0.02994088\n",
      " 0.03311932 0.03818459 0.04405314 0.04904329 0.05130287 0.05792558\n",
      " 0.061549   0.06650447 0.07124323 0.0745777  0.08281852 0.08828255\n",
      " 0.09551205 0.10029704 0.10890772 0.11436018 0.12078929 0.12759115\n",
      " 0.13439012 0.13900463 0.14249802 0.14573714 0.15166926 0.15843355\n",
      " 0.16379933 0.17316127 0.18276882 0.19517051 0.20216307 0.21303911\n",
      " 0.21850313 0.22150242 0.22689998 0.23099728 0.23325686 0.23512347\n",
      " 0.23764021 0.24819262 0.25942696 0.26435642 0.27268104 0.27954647\n",
      " 0.2852272  0.28919158 0.2941615  0.29910541 0.30374015 0.30397709]\n",
      "Predict this y: \n",
      " [[0.30774499]]\n"
     ]
    },
    {
     "data": {
      "text/plain": [
       "(1, 132, 1)"
      ]
     },
     "execution_count": 8,
     "metadata": {},
     "output_type": "execute_result"
    }
   ],
   "source": [
    "X,y = generator[0]\n",
    "print(f'Given the Array: \\n{X.flatten()}')\n",
    "print(f'Predict this y: \\n {y}')\n",
    "\n",
    "X.shape"
   ]
  },
  {
   "cell_type": "code",
   "execution_count": 9,
   "id": "3fec8f90-8c99-4347-98aa-e9213d8af1cb",
   "metadata": {},
   "outputs": [],
   "source": [
    "from keras.models import Sequential\n",
    "from keras.layers import Dense\n",
    "from keras.layers import LSTM"
   ]
  },
  {
   "cell_type": "code",
   "execution_count": 10,
   "id": "c01a358a-bea8-4a9b-8f29-697433c8072c",
   "metadata": {},
   "outputs": [
    {
     "name": "stdout",
     "output_type": "stream",
     "text": [
      "Model: \"sequential\"\n",
      "_________________________________________________________________\n",
      " Layer (type)                Output Shape              Param #   \n",
      "=================================================================\n",
      " lstm (LSTM)                 (None, 100)               40800     \n",
      "                                                                 \n",
      " dense (Dense)               (None, 1)                 101       \n",
      "                                                                 \n",
      "=================================================================\n",
      "Total params: 40,901\n",
      "Trainable params: 40,901\n",
      "Non-trainable params: 0\n",
      "_________________________________________________________________\n"
     ]
    },
    {
     "name": "stderr",
     "output_type": "stream",
     "text": [
      "2023-02-13 17:59:07.529810: I tensorflow/core/platform/cpu_feature_guard.cc:193] This TensorFlow binary is optimized with oneAPI Deep Neural Network Library (oneDNN) to use the following CPU instructions in performance-critical operations:  AVX2 FMA\n",
      "To enable them in other operations, rebuild TensorFlow with the appropriate compiler flags.\n"
     ]
    }
   ],
   "source": [
    "# define model\n",
    "model = Sequential() # adds layers in a sequence\n",
    "model.add(LSTM(100, activation='relu', input_shape=(n_input, n_features))) # maybe try elu?\n",
    "# 100 neurons\n",
    "model.add(Dense(1))\n",
    "# 1 layer\n",
    "model.compile(optimizer='adam', loss='mse')\n",
    "model.summary()"
   ]
  },
  {
   "cell_type": "code",
   "execution_count": 11,
   "id": "48d6394a-eaa0-4232-a9a9-d4e93c3bf307",
   "metadata": {},
   "outputs": [
    {
     "name": "stdout",
     "output_type": "stream",
     "text": [
      "Epoch 1/15\n",
      "2368/2368 [==============================] - ETA: 0s - loss: 0.0010WARNING:tensorflow:Model was constructed with shape (None, 132, 1) for input KerasTensor(type_spec=TensorSpec(shape=(None, 132, 1), dtype=tf.float32, name='lstm_input'), name='lstm_input', description=\"created by layer 'lstm_input'\"), but it was called on an input with incompatible shape (1, 1, 1).\n",
      "2368/2368 [==============================] - 54s 22ms/step - loss: 0.0010 - val_loss: 0.0282\n",
      "Epoch 2/15\n",
      "2368/2368 [==============================] - 66s 28ms/step - loss: 1.3399e-04 - val_loss: 0.0238\n",
      "Epoch 3/15\n",
      "2368/2368 [==============================] - 73s 31ms/step - loss: 1.2221e-04 - val_loss: 0.0180\n",
      "Epoch 4/15\n",
      "2368/2368 [==============================] - 56s 23ms/step - loss: 7.9910e-05 - val_loss: 0.0139\n",
      "Epoch 5/15\n",
      "2368/2368 [==============================] - 66s 28ms/step - loss: 7.4576e-05 - val_loss: 0.0106\n",
      "Epoch 6/15\n",
      "2368/2368 [==============================] - 79s 33ms/step - loss: 5.2442e-05 - val_loss: 0.0062\n",
      "Epoch 7/15\n",
      "2368/2368 [==============================] - 80s 34ms/step - loss: 4.0885e-05 - val_loss: 0.0037\n",
      "Epoch 8/15\n",
      "2368/2368 [==============================] - 73s 31ms/step - loss: 3.5636e-05 - val_loss: 0.0028\n",
      "Epoch 9/15\n",
      "2368/2368 [==============================] - 76s 32ms/step - loss: 3.8178e-05 - val_loss: 0.0011\n",
      "Epoch 10/15\n",
      "2368/2368 [==============================] - 73s 31ms/step - loss: 3.6112e-05 - val_loss: 3.2743e-04\n",
      "Epoch 11/15\n",
      "2368/2368 [==============================] - 98s 41ms/step - loss: 3.0293e-05 - val_loss: 3.8616e-05\n",
      "Epoch 12/15\n",
      "2368/2368 [==============================] - 68s 29ms/step - loss: 2.7970e-05 - val_loss: 8.2817e-05\n",
      "Epoch 13/15\n",
      "2368/2368 [==============================] - 69s 29ms/step - loss: 2.5763e-05 - val_loss: 5.6716e-04\n",
      "Epoch 14/15\n",
      "2368/2368 [==============================] - 73s 31ms/step - loss: 2.5580e-05 - val_loss: 9.7956e-04\n",
      "Epoch 15/15\n",
      "2368/2368 [==============================] - 80s 34ms/step - loss: 2.2605e-05 - val_loss: 0.0012\n"
     ]
    }
   ],
   "source": [
    "# fit model\n",
    "epochs = 15\n",
    "\n",
    "# Define a ModelCheckpoint callback to save the model weights based on validation loss\n",
    "checkpoint = ModelCheckpoint('best_weights.h5', monitor='val_loss', save_best_only=True, save_weights_only=True)\n",
    "\n",
    "# Fit the model to the data, using the ModelCheckpoint callback\n",
    "history = model.fit(generator, epochs=epochs, batch_size=1, validation_data=(scaled_test,scaled_test), callbacks=[checkpoint])"
   ]
  },
  {
   "cell_type": "code",
   "execution_count": 12,
   "id": "de699997-b427-4a5c-8508-4a4262bf2226",
   "metadata": {},
   "outputs": [
    {
     "data": {
      "text/plain": [
       "[<matplotlib.lines.Line2D at 0x7fa13002f4c0>]"
      ]
     },
     "execution_count": 12,
     "metadata": {},
     "output_type": "execute_result"
    },
    {
     "data": {
      "image/png": "[encoded data removed]",
      "text/plain": [
       "<Figure size 640x480 with 1 Axes>"
      ]
     },
     "metadata": {},
     "output_type": "display_data"
    }
   ],
   "source": [
    "loss_per_epoch = model.history.history['loss']\n",
    "val_loss_per_epoch = model.history.history['val_loss']\n",
    "plt.plot(range(len(loss_per_epoch)),loss_per_epoch)\n",
    "plt.plot(range(len(val_loss_per_epoch)), val_loss_per_epoch)"
   ]
  },
  {
   "cell_type": "code",
   "execution_count": 13,
   "id": "027cad75-5bc7-4aed-9b61-e253e7ac61c9",
   "metadata": {},
   "outputs": [],
   "source": [
    "last_train_batch = scaled_train[-n_input:] \n",
    "# take the last n_input month of values, to make \n",
    "# predictions on the 1st test set"
   ]
  },
  {
   "cell_type": "code",
   "execution_count": 14,
   "id": "99c36497-2d27-49ee-99d0-5f17aeb01b91",
   "metadata": {},
   "outputs": [],
   "source": [
    "last_train_batch = last_train_batch.reshape((1, n_input, n_features))"
   ]
  },
  {
   "cell_type": "code",
   "execution_count": 15,
   "id": "2827ecc5-7f07-4bce-9367-9e7300026262",
   "metadata": {},
   "outputs": [
    {
     "name": "stdout",
     "output_type": "stream",
     "text": [
      "1/1 [==============================] - 0s 167ms/step\n"
     ]
    },
    {
     "data": {
      "text/plain": [
       "array([[0.05888473]], dtype=float32)"
      ]
     },
     "execution_count": 15,
     "metadata": {},
     "output_type": "execute_result"
    }
   ],
   "source": [
    "model.predict(last_train_batch)"
   ]
  },
  {
   "cell_type": "code",
   "execution_count": 16,
   "id": "21a534f6-9e5e-44f1-af70-7b379daee63b",
   "metadata": {},
   "outputs": [
    {
     "name": "stdout",
     "output_type": "stream",
     "text": [
      "1/1 [==============================] - 0s 22ms/step\n",
      "1/1 [==============================] - 0s 22ms/step\n",
      "1/1 [==============================] - 0s 19ms/step\n",
      "1/1 [==============================] - 0s 22ms/step\n",
      "1/1 [==============================] - 0s 19ms/step\n",
      "1/1 [==============================] - 0s 21ms/step\n",
      "1/1 [==============================] - 0s 19ms/step\n",
      "1/1 [==============================] - 0s 21ms/step\n",
      "1/1 [==============================] - 0s 22ms/step\n",
      "1/1 [==============================] - 0s 22ms/step\n",
      "1/1 [==============================] - 0s 29ms/step\n",
      "1/1 [==============================] - 0s 26ms/step\n",
      "1/1 [==============================] - 0s 26ms/step\n",
      "1/1 [==============================] - 0s 20ms/step\n",
      "1/1 [==============================] - 0s 25ms/step\n",
      "1/1 [==============================] - 0s 25ms/step\n",
      "1/1 [==============================] - 0s 22ms/step\n",
      "1/1 [==============================] - 0s 22ms/step\n",
      "1/1 [==============================] - 0s 40ms/step\n",
      "1/1 [==============================] - 0s 66ms/step\n",
      "1/1 [==============================] - 0s 66ms/step\n",
      "1/1 [==============================] - 0s 32ms/step\n",
      "1/1 [==============================] - 0s 21ms/step\n",
      "1/1 [==============================] - 0s 20ms/step\n",
      "1/1 [==============================] - 0s 20ms/step\n",
      "1/1 [==============================] - 0s 19ms/step\n",
      "1/1 [==============================] - 0s 20ms/step\n",
      "1/1 [==============================] - 0s 20ms/step\n",
      "1/1 [==============================] - 0s 17ms/step\n",
      "1/1 [==============================] - 0s 44ms/step\n",
      "1/1 [==============================] - 0s 66ms/step\n",
      "1/1 [==============================] - 0s 45ms/step\n",
      "1/1 [==============================] - 0s 22ms/step\n",
      "1/1 [==============================] - 0s 20ms/step\n",
      "1/1 [==============================] - 0s 21ms/step\n",
      "1/1 [==============================] - 0s 19ms/step\n",
      "1/1 [==============================] - 0s 17ms/step\n",
      "1/1 [==============================] - 0s 20ms/step\n",
      "1/1 [==============================] - 0s 21ms/step\n",
      "1/1 [==============================] - 0s 19ms/step\n",
      "1/1 [==============================] - 0s 19ms/step\n",
      "1/1 [==============================] - 0s 20ms/step\n",
      "1/1 [==============================] - 0s 20ms/step\n",
      "1/1 [==============================] - 0s 21ms/step\n",
      "1/1 [==============================] - 0s 20ms/step\n",
      "1/1 [==============================] - 0s 18ms/step\n",
      "1/1 [==============================] - 0s 19ms/step\n",
      "1/1 [==============================] - 0s 17ms/step\n",
      "1/1 [==============================] - 0s 19ms/step\n",
      "1/1 [==============================] - 0s 18ms/step\n",
      "1/1 [==============================] - 0s 17ms/step\n",
      "1/1 [==============================] - 0s 18ms/step\n",
      "1/1 [==============================] - 0s 19ms/step\n",
      "1/1 [==============================] - 0s 20ms/step\n",
      "1/1 [==============================] - 0s 19ms/step\n",
      "1/1 [==============================] - 0s 22ms/step\n",
      "1/1 [==============================] - 0s 21ms/step\n",
      "1/1 [==============================] - 0s 22ms/step\n",
      "1/1 [==============================] - 0s 18ms/step\n",
      "1/1 [==============================] - 0s 18ms/step\n",
      "1/1 [==============================] - 0s 22ms/step\n",
      "1/1 [==============================] - 0s 19ms/step\n",
      "1/1 [==============================] - 0s 20ms/step\n",
      "1/1 [==============================] - 0s 18ms/step\n",
      "1/1 [==============================] - 0s 19ms/step\n",
      "1/1 [==============================] - 0s 19ms/step\n",
      "1/1 [==============================] - 0s 18ms/step\n",
      "1/1 [==============================] - 0s 16ms/step\n",
      "1/1 [==============================] - 0s 16ms/step\n",
      "1/1 [==============================] - 0s 19ms/step\n",
      "1/1 [==============================] - 0s 19ms/step\n",
      "1/1 [==============================] - 0s 17ms/step\n",
      "1/1 [==============================] - 0s 20ms/step\n",
      "1/1 [==============================] - 0s 19ms/step\n",
      "1/1 [==============================] - 0s 19ms/step\n",
      "1/1 [==============================] - 0s 17ms/step\n",
      "1/1 [==============================] - 0s 17ms/step\n",
      "1/1 [==============================] - 0s 18ms/step\n",
      "1/1 [==============================] - 0s 20ms/step\n",
      "1/1 [==============================] - 0s 20ms/step\n",
      "1/1 [==============================] - 0s 19ms/step\n",
      "1/1 [==============================] - 0s 23ms/step\n",
      "1/1 [==============================] - 0s 21ms/step\n",
      "1/1 [==============================] - 0s 23ms/step\n",
      "1/1 [==============================] - 0s 20ms/step\n",
      "1/1 [==============================] - 0s 20ms/step\n",
      "1/1 [==============================] - 0s 22ms/step\n",
      "1/1 [==============================] - 0s 24ms/step\n",
      "1/1 [==============================] - 0s 21ms/step\n",
      "1/1 [==============================] - 0s 21ms/step\n",
      "1/1 [==============================] - 0s 22ms/step\n",
      "1/1 [==============================] - 0s 22ms/step\n",
      "1/1 [==============================] - 0s 22ms/step\n",
      "1/1 [==============================] - 0s 26ms/step\n",
      "1/1 [==============================] - 0s 24ms/step\n",
      "1/1 [==============================] - 0s 21ms/step\n",
      "1/1 [==============================] - 0s 22ms/step\n",
      "1/1 [==============================] - 0s 24ms/step\n",
      "1/1 [==============================] - 0s 23ms/step\n",
      "1/1 [==============================] - 0s 25ms/step\n",
      "1/1 [==============================] - 0s 27ms/step\n",
      "1/1 [==============================] - 0s 25ms/step\n",
      "1/1 [==============================] - 0s 23ms/step\n",
      "1/1 [==============================] - 0s 20ms/step\n",
      "1/1 [==============================] - 0s 20ms/step\n",
      "1/1 [==============================] - 0s 20ms/step\n",
      "1/1 [==============================] - 0s 17ms/step\n",
      "1/1 [==============================] - 0s 18ms/step\n",
      "1/1 [==============================] - 0s 17ms/step\n",
      "1/1 [==============================] - 0s 19ms/step\n",
      "1/1 [==============================] - 0s 18ms/step\n",
      "1/1 [==============================] - 0s 18ms/step\n",
      "1/1 [==============================] - 0s 19ms/step\n",
      "1/1 [==============================] - 0s 18ms/step\n",
      "1/1 [==============================] - 0s 18ms/step\n",
      "1/1 [==============================] - 0s 17ms/step\n",
      "1/1 [==============================] - 0s 20ms/step\n",
      "1/1 [==============================] - 0s 18ms/step\n",
      "1/1 [==============================] - 0s 16ms/step\n",
      "1/1 [==============================] - 0s 21ms/step\n",
      "1/1 [==============================] - 0s 18ms/step\n",
      "1/1 [==============================] - 0s 19ms/step\n",
      "1/1 [==============================] - 0s 18ms/step\n",
      "1/1 [==============================] - 0s 21ms/step\n",
      "1/1 [==============================] - 0s 19ms/step\n",
      "1/1 [==============================] - 0s 16ms/step\n",
      "1/1 [==============================] - 0s 18ms/step\n",
      "1/1 [==============================] - 0s 23ms/step\n",
      "1/1 [==============================] - 0s 21ms/step\n",
      "1/1 [==============================] - 0s 22ms/step\n",
      "1/1 [==============================] - 0s 22ms/step\n",
      "1/1 [==============================] - 0s 20ms/step\n",
      "1/1 [==============================] - 0s 22ms/step\n",
      "1/1 [==============================] - 0s 20ms/step\n",
      "1/1 [==============================] - 0s 21ms/step\n",
      "1/1 [==============================] - 0s 22ms/step\n",
      "1/1 [==============================] - 0s 22ms/step\n",
      "1/1 [==============================] - 0s 23ms/step\n",
      "1/1 [==============================] - 0s 26ms/step\n",
      "1/1 [==============================] - 0s 29ms/step\n",
      "1/1 [==============================] - 0s 22ms/step\n",
      "1/1 [==============================] - 0s 23ms/step\n",
      "1/1 [==============================] - 0s 22ms/step\n",
      "1/1 [==============================] - 0s 26ms/step\n",
      "1/1 [==============================] - 0s 24ms/step\n",
      "1/1 [==============================] - 0s 43ms/step\n",
      "1/1 [==============================] - 0s 25ms/step\n",
      "1/1 [==============================] - 0s 19ms/step\n",
      "1/1 [==============================] - 0s 19ms/step\n",
      "1/1 [==============================] - 0s 23ms/step\n",
      "1/1 [==============================] - 0s 59ms/step\n",
      "1/1 [==============================] - 0s 67ms/step\n",
      "1/1 [==============================] - 0s 29ms/step\n",
      "1/1 [==============================] - 0s 21ms/step\n",
      "1/1 [==============================] - 0s 38ms/step\n",
      "1/1 [==============================] - 0s 43ms/step\n",
      "1/1 [==============================] - 0s 30ms/step\n",
      "1/1 [==============================] - 0s 23ms/step\n",
      "1/1 [==============================] - 0s 26ms/step\n",
      "1/1 [==============================] - 0s 24ms/step\n",
      "1/1 [==============================] - 0s 21ms/step\n",
      "1/1 [==============================] - 0s 22ms/step\n",
      "1/1 [==============================] - 0s 24ms/step\n",
      "1/1 [==============================] - 0s 23ms/step\n",
      "1/1 [==============================] - 0s 22ms/step\n",
      "1/1 [==============================] - 0s 21ms/step\n",
      "1/1 [==============================] - 0s 21ms/step\n",
      "1/1 [==============================] - 0s 22ms/step\n",
      "1/1 [==============================] - 0s 25ms/step\n",
      "1/1 [==============================] - 0s 21ms/step\n",
      "1/1 [==============================] - 0s 20ms/step\n"
     ]
    }
   ],
   "source": [
    "validation_predictions = []\n",
    "\n",
    "first_eval_batch = scaled_train[-n_input:]\n",
    "current_batch = first_eval_batch.reshape((1, n_input, n_features))\n",
    "\n",
    "for i in range(len(validation_data)):\n",
    "    \n",
    "    # get the prediction value for the first batch\n",
    "    current_pred = model.predict(current_batch)[0]\n",
    "    \n",
    "    # append the prediction into the array\n",
    "    validation_predictions.append(current_pred) \n",
    "    \n",
    "    # use the prediction to update the batch and remove the first value\n",
    "    current_batch = np.append(current_batch[:,1:,:],[[current_pred]],axis=1)"
   ]
  },
  {
   "cell_type": "code",
   "execution_count": 17,
   "id": "787881a8-d5ab-42b6-8403-302b605fe40a",
   "metadata": {},
   "outputs": [
    {
     "data": {
      "text/plain": [
       "[array([0.05888473], dtype=float32),\n",
       " array([0.06312378], dtype=float32),\n",
       " array([0.06755872], dtype=float32),\n",
       " array([0.07212307], dtype=float32),\n",
       " array([0.07669071], dtype=float32),\n",
       " array([0.08124772], dtype=float32),\n",
       " array([0.08572067], dtype=float32),\n",
       " array([0.09008916], dtype=float32),\n",
       " array([0.0943555], dtype=float32),\n",
       " array([0.09852922], dtype=float32),\n",
       " array([0.10262015], dtype=float32),\n",
       " array([0.10663596], dtype=float32),\n",
       " array([0.11058161], dtype=float32),\n",
       " array([0.11445971], dtype=float32),\n",
       " array([0.11827101], dtype=float32),\n",
       " array([0.12201494], dtype=float32),\n",
       " array([0.12569006], dtype=float32),\n",
       " array([0.1293276], dtype=float32),\n",
       " array([0.13299048], dtype=float32),\n",
       " array([0.13668811], dtype=float32),\n",
       " array([0.14042413], dtype=float32),\n",
       " array([0.14419873], dtype=float32),\n",
       " array([0.14803004], dtype=float32),\n",
       " array([0.15192671], dtype=float32),\n",
       " array([0.1558879], dtype=float32),\n",
       " array([0.15991363], dtype=float32),\n",
       " array([0.16389754], dtype=float32),\n",
       " array([0.16769208], dtype=float32),\n",
       " array([0.17136581], dtype=float32),\n",
       " array([0.17496589], dtype=float32),\n",
       " array([0.1785233], dtype=float32),\n",
       " array([0.18205804], dtype=float32),\n",
       " array([0.1855819], dtype=float32),\n",
       " array([0.18910068], dtype=float32),\n",
       " array([0.19261572], dtype=float32),\n",
       " array([0.19612506], dtype=float32),\n",
       " array([0.19962466], dtype=float32),\n",
       " array([0.20310894], dtype=float32),\n",
       " array([0.20657152], dtype=float32),\n",
       " array([0.21000555], dtype=float32),\n",
       " array([0.21340403], dtype=float32),\n",
       " array([0.21676001], dtype=float32),\n",
       " array([0.22006673], dtype=float32),\n",
       " array([0.22331762], dtype=float32),\n",
       " array([0.22650644], dtype=float32),\n",
       " array([0.22962725], dtype=float32),\n",
       " array([0.23267445], dtype=float32),\n",
       " array([0.23564273], dtype=float32),\n",
       " array([0.23852715], dtype=float32),\n",
       " array([0.24132308], dtype=float32),\n",
       " array([0.24402627], dtype=float32),\n",
       " array([0.2466327], dtype=float32),\n",
       " array([0.24913868], dtype=float32),\n",
       " array([0.25154093], dtype=float32),\n",
       " array([0.25383636], dtype=float32),\n",
       " array([0.25602227], dtype=float32),\n",
       " array([0.25809622], dtype=float32),\n",
       " array([0.2600561], dtype=float32),\n",
       " array([0.2619001], dtype=float32),\n",
       " array([0.26362664], dtype=float32),\n",
       " array([0.2652345], dtype=float32),\n",
       " array([0.2667227], dtype=float32),\n",
       " array([0.26809055], dtype=float32),\n",
       " array([0.2693376], dtype=float32),\n",
       " array([0.27046365], dtype=float32),\n",
       " array([0.27146882], dtype=float32),\n",
       " array([0.27235347], dtype=float32),\n",
       " array([0.27311808], dtype=float32),\n",
       " array([0.27376354], dtype=float32),\n",
       " array([0.27429083], dtype=float32),\n",
       " array([0.27470115], dtype=float32),\n",
       " array([0.27499595], dtype=float32),\n",
       " array([0.27517688], dtype=float32),\n",
       " array([0.27524573], dtype=float32),\n",
       " array([0.27520448], dtype=float32),\n",
       " array([0.27505535], dtype=float32),\n",
       " array([0.27480063], dtype=float32),\n",
       " array([0.2744428], dtype=float32),\n",
       " array([0.27398446], dtype=float32),\n",
       " array([0.2734284], dtype=float32),\n",
       " array([0.2727775], dtype=float32),\n",
       " array([0.27203473], dtype=float32),\n",
       " array([0.27120322], dtype=float32),\n",
       " array([0.2702862], dtype=float32),\n",
       " array([0.26928696], dtype=float32),\n",
       " array([0.2682089], dtype=float32),\n",
       " array([0.26705548], dtype=float32),\n",
       " array([0.26583028], dtype=float32),\n",
       " array([0.26453686], dtype=float32),\n",
       " array([0.2631789], dtype=float32),\n",
       " array([0.26176012], dtype=float32),\n",
       " array([0.26028425], dtype=float32),\n",
       " array([0.25875506], dtype=float32),\n",
       " array([0.2571764], dtype=float32),\n",
       " array([0.25555208], dtype=float32),\n",
       " array([0.25388595], dtype=float32),\n",
       " array([0.25218183], dtype=float32),\n",
       " array([0.25044364], dtype=float32),\n",
       " array([0.24867517], dtype=float32),\n",
       " array([0.24688026], dtype=float32),\n",
       " array([0.24506277], dtype=float32),\n",
       " array([0.24322644], dtype=float32),\n",
       " array([0.24137506], dtype=float32),\n",
       " array([0.23951238], dtype=float32),\n",
       " array([0.23764205], dtype=float32),\n",
       " array([0.23576772], dtype=float32),\n",
       " array([0.23389298], dtype=float32),\n",
       " array([0.23202136], dtype=float32),\n",
       " array([0.23015636], dtype=float32),\n",
       " array([0.22830138], dtype=float32),\n",
       " array([0.22645974], dtype=float32),\n",
       " array([0.2246347], dtype=float32),\n",
       " array([0.22282946], dtype=float32),\n",
       " array([0.2210471], dtype=float32),\n",
       " array([0.21929064], dtype=float32),\n",
       " array([0.21756297], dtype=float32),\n",
       " array([0.21586692], dtype=float32),\n",
       " array([0.21420518], dtype=float32),\n",
       " array([0.21258038], dtype=float32),\n",
       " array([0.21099505], dtype=float32),\n",
       " array([0.20945153], dtype=float32),\n",
       " array([0.20795211], dtype=float32),\n",
       " array([0.20649898], dtype=float32),\n",
       " array([0.20509419], dtype=float32),\n",
       " array([0.20373964], dtype=float32),\n",
       " array([0.20243713], dtype=float32),\n",
       " array([0.20118836], dtype=float32),\n",
       " array([0.19999483], dtype=float32),\n",
       " array([0.198858], dtype=float32),\n",
       " array([0.19777912], dtype=float32),\n",
       " array([0.19675937], dtype=float32),\n",
       " array([0.19579977], dtype=float32),\n",
       " array([0.19490123], dtype=float32),\n",
       " array([0.19406447], dtype=float32),\n",
       " array([0.19329014], dtype=float32),\n",
       " array([0.19257876], dtype=float32),\n",
       " array([0.19193068], dtype=float32),\n",
       " array([0.19134611], dtype=float32),\n",
       " array([0.1908252], dtype=float32),\n",
       " array([0.19036788], dtype=float32),\n",
       " array([0.18997401], dtype=float32),\n",
       " array([0.18964335], dtype=float32),\n",
       " array([0.18937549], dtype=float32),\n",
       " array([0.18916988], dtype=float32),\n",
       " array([0.18902591], dtype=float32),\n",
       " array([0.18894282], dtype=float32),\n",
       " array([0.18891975], dtype=float32),\n",
       " array([0.18895572], dtype=float32),\n",
       " array([0.18904966], dtype=float32),\n",
       " array([0.18920037], dtype=float32),\n",
       " array([0.18940657], dtype=float32),\n",
       " array([0.1896669], dtype=float32),\n",
       " array([0.18997991], dtype=float32),\n",
       " array([0.19034404], dtype=float32),\n",
       " array([0.19075766], dtype=float32),\n",
       " array([0.19121906], dtype=float32),\n",
       " array([0.19172645], dtype=float32),\n",
       " array([0.192278], dtype=float32),\n",
       " array([0.19287181], dtype=float32),\n",
       " array([0.19350591], dtype=float32),\n",
       " array([0.19417831], dtype=float32),\n",
       " array([0.19488692], dtype=float32),\n",
       " array([0.19562963], dtype=float32),\n",
       " array([0.19640434], dtype=float32),\n",
       " array([0.19720885], dtype=float32),\n",
       " array([0.19804099], dtype=float32),\n",
       " array([0.19889852], dtype=float32),\n",
       " array([0.19977924], dtype=float32),\n",
       " array([0.20068088], dtype=float32),\n",
       " array([0.2016012], dtype=float32),\n",
       " array([0.20253798], dtype=float32)]"
      ]
     },
     "execution_count": 17,
     "metadata": {},
     "output_type": "execute_result"
    }
   ],
   "source": [
    "validation_predictions\n",
    "# NOTE: these predictions are in the range 0-1\n",
    "# we need to convert it back "
   ]
  },
  {
   "cell_type": "code",
   "execution_count": 18,
   "id": "65c1f186-6cc9-4993-83df-16cae238fc41",
   "metadata": {},
   "outputs": [],
   "source": [
    "true_predictions = scaler.inverse_transform(validation_predictions)"
   ]
  },
  {
   "cell_type": "code",
   "execution_count": 19,
   "id": "9ee137c3-91f5-454e-a4cf-fb9e73275afe",
   "metadata": {},
   "outputs": [
    {
     "name": "stderr",
     "output_type": "stream",
     "text": [
      "/var/folders/f6/ysbvf32j6ks_1h83gmlfzghw0000gn/T/ipykernel_41994/2311742674.py:1: SettingWithCopyWarning: \n",
      "A value is trying to be set on a copy of a slice from a DataFrame.\n",
      "Try using .loc[row_indexer,col_indexer] = value instead\n",
      "\n",
      "See the caveats in the documentation: https://pandas.pydata.org/pandas-docs/stable/user_guide/indexing.html#returning-a-view-versus-a-copy\n",
      "  validation_data['Predictions'] = true_predictions\n"
     ]
    }
   ],
   "source": [
    "validation_data['Predictions'] = true_predictions"
   ]
  },
  {
   "cell_type": "code",
   "execution_count": 20,
   "id": "070f1e22-3adb-426a-82e3-f45ce5e004a1",
   "metadata": {},
   "outputs": [
    {
     "data": {
      "image/png": "[encoded data removed]",
      "text/plain": [
       "<Figure size 1400x500 with 1 Axes>"
      ]
     },
     "metadata": {},
     "output_type": "display_data"
    }
   ],
   "source": [
    "validation_data.plot(figsize=(14,5));"
   ]
  },
  {
   "cell_type": "markdown",
   "id": "cb01a206-0ccc-419c-bb67-ba52320f2a53",
   "metadata": {},
   "source": [
    "### Comment on plot:\n",
    "Initially started using an RNN with a ReLu activation function, which produced some form of results, but they didn't fit well to the data.\n",
    "\n",
    "I have attempted to use a Sigmoid function instead, which again seems to produce some form of results, but it predicts the sunspot number to be much higher than it was, and doesn't seem to come back down to a minimum of zero. One positive note is th"
   ]
  }
 ],
 "metadata": {
  "kernelspec": {
   "display_name": "Python 3 (ipykernel)",
   "language": "python",
   "name": "python3"
  },
  "language_info": {
   "codemirror_mode": {
    "name": "ipython",
    "version": 3
   },
   "file_extension": ".py",
   "mimetype": "text/x-python",
   "name": "python",
   "nbconvert_exporter": "python",
   "pygments_lexer": "ipython3",
   "version": "3.9.13"
  }
 },
 "nbformat": 4,
 "nbformat_minor": 5
}
