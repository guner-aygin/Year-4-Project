{
 "cells": [
  {
   "cell_type": "markdown",
   "id": "ec39fb3f-0be8-45db-85a3-b1212b10f18d",
   "metadata": {},
   "source": [
    "# RNN for Smoothed Sunspot Data"
   ]
  },
  {
   "cell_type": "code",
   "execution_count": 1,
   "id": "1e262a69-e869-463a-8a39-d05a937e127c",
   "metadata": {},
   "outputs": [
    {
     "name": "stderr",
     "output_type": "stream",
     "text": [
      "2023-02-10 12:40:25.231641: I tensorflow/core/platform/cpu_feature_guard.cc:193] This TensorFlow binary is optimized with oneAPI Deep Neural Network Library (oneDNN) to use the following CPU instructions in performance-critical operations:  SSE4.1 SSE4.2\n",
      "To enable them in other operations, rebuild TensorFlow with the appropriate compiler flags.\n"
     ]
    }
   ],
   "source": [
    "import pandas as pd\n",
    "import numpy as np\n",
    "import matplotlib.pyplot as plt\n",
    "from tensorflow import keras"
   ]
  },
  {
   "cell_type": "code",
   "execution_count": 2,
   "id": "82445405-11db-4268-890e-ade5526d5fbc",
   "metadata": {},
   "outputs": [],
   "source": [
    "df = pd.read_csv('Data/SVG_poly1.csv') # importing data for SVG polyorder = 1\n",
    "X = ((df.Year).values).reshape(-1,1)\n",
    "y = (df.Sunspot_Number).values\n",
    "yerr = np.zeros(len(X))\n",
    "\n",
    "df.drop(columns=['Unnamed: 0'], inplace=True) \n",
    "# removes the unnecessary column\n",
    "df.set_index(\"Year\", inplace=True)\n",
    "\n",
    "\n",
    "#df.head(), df.tail()"
   ]
  },
  {
   "cell_type": "markdown",
   "id": "788363be-7f60-4c6c-8099-79a2e9a7ee8c",
   "metadata": {},
   "source": [
    "## Data Preprocessing"
   ]
  },
  {
   "cell_type": "code",
   "execution_count": 3,
   "id": "201ade13-5a48-4c1b-bf5f-7d6b57ae90f9",
   "metadata": {},
   "outputs": [],
   "source": [
    "limit = 70000\n",
    "skips = 28 # 1 data point per luna cycle\n",
    "train_data = df.iloc[:limit:skips]\n",
    "validation_data = df.iloc[limit::skips]"
   ]
  },
  {
   "cell_type": "code",
   "execution_count": 4,
   "id": "19c907a1-00a2-46da-a5b3-8ddb4f72204b",
   "metadata": {},
   "outputs": [],
   "source": [
    "from sklearn.preprocessing import MinMaxScaler\n",
    "scaler = MinMaxScaler()"
   ]
  },
  {
   "cell_type": "code",
   "execution_count": 5,
   "id": "cfc70b68-7400-4023-943c-84ebfa249940",
   "metadata": {},
   "outputs": [],
   "source": [
    "scaler.fit(train_data)\n",
    "scaled_train = scaler.transform(train_data)\n",
    "scaled_test = scaler.transform(validation_data)"
   ]
  },
  {
   "cell_type": "code",
   "execution_count": 6,
   "id": "46b360bd-f40b-484c-b486-eb08f1d529c3",
   "metadata": {},
   "outputs": [],
   "source": [
    "from keras.preprocessing.sequence import TimeseriesGenerator"
   ]
  },
  {
   "cell_type": "code",
   "execution_count": 7,
   "id": "d0f8c7d9-c1f9-4767-b179-73c76a68df3c",
   "metadata": {},
   "outputs": [],
   "source": [
    "# define generator\n",
    "n_input = 11 * 12 # 11 years \n",
    "n_features = 1 # we are only using 1 timeseries to make our predictions\n",
    "generator = TimeseriesGenerator(scaled_train, scaled_train, length=n_input, batch_size=1)"
   ]
  },
  {
   "cell_type": "code",
   "execution_count": 8,
   "id": "304f2642-1efd-4ffe-ac4d-a0a461eb3d28",
   "metadata": {},
   "outputs": [
    {
     "name": "stdout",
     "output_type": "stream",
     "text": [
      "Given the Array: \n",
      "[0.1263682  0.12394294 0.12151768 0.11909242 0.11666716 0.1142419\n",
      " 0.11181664 0.10939138 0.10696612 0.10454086 0.1021156  0.09969034\n",
      " 0.09726508 0.09483982 0.09241456 0.0899893  0.08756405 0.08513879\n",
      " 0.08271353 0.08028827 0.07786301 0.07543775 0.07301249 0.07058723\n",
      " 0.06816197 0.06573671 0.06331145 0.06201998 0.060503   0.06106645\n",
      " 0.05982108 0.05698361 0.05190677 0.04829202 0.04698308 0.04441722\n",
      " 0.04254772 0.03949642 0.03890696 0.03753446 0.0356534  0.03475477\n",
      " 0.03442826 0.03293728 0.0313914  0.02761195 0.02417635 0.02171451\n",
      " 0.01897816 0.0175941  0.01513803 0.01284667 0.01183246 0.01105518\n",
      " 0.00859912 0.00783051 0.00666605 0.00502193 0.00388925 0.00271612\n",
      " 0.00228847 0.         0.00187817 0.00339804 0.00306864 0.00230581\n",
      " 0.00194174 0.00373033 0.00564895 0.00566051 0.00605059 0.00783051\n",
      " 0.01033281 0.0134419  0.01606267 0.0174294  0.01689195 0.01697286\n",
      " 0.01930756 0.0208361  0.02274316 0.02533504 0.0269127  0.02994088\n",
      " 0.03311932 0.03818459 0.04405314 0.04904329 0.05130287 0.05792558\n",
      " 0.061549   0.06650447 0.07124323 0.0745777  0.08281852 0.08828255\n",
      " 0.09551205 0.10029704 0.10890772 0.11436018 0.12078929 0.12759115\n",
      " 0.13439012 0.13900463 0.14249802 0.14573714 0.15166926 0.15843355\n",
      " 0.16379933 0.17316127 0.18276882 0.19517051 0.20216307 0.21303911\n",
      " 0.21850313 0.22150242 0.22689998 0.23099728 0.23325686 0.23512347\n",
      " 0.23764021 0.24819262 0.25942696 0.26435642 0.27268104 0.27954647\n",
      " 0.2852272  0.28919158 0.2941615  0.29910541 0.30374015 0.30397709]\n",
      "Predict this y: \n",
      " [[0.30774499]]\n"
     ]
    },
    {
     "data": {
      "text/plain": [
       "(1, 132, 1)"
      ]
     },
     "execution_count": 8,
     "metadata": {},
     "output_type": "execute_result"
    }
   ],
   "source": [
    "X,y = generator[0]\n",
    "print(f'Given the Array: \\n{X.flatten()}')\n",
    "print(f'Predict this y: \\n {y}')\n",
    "\n",
    "X.shape"
   ]
  },
  {
   "cell_type": "code",
   "execution_count": 9,
   "id": "3fec8f90-8c99-4347-98aa-e9213d8af1cb",
   "metadata": {},
   "outputs": [],
   "source": [
    "from keras.models import Sequential\n",
    "from keras.layers import Dense\n",
    "from keras.layers import LSTM"
   ]
  },
  {
   "cell_type": "code",
   "execution_count": 10,
   "id": "c01a358a-bea8-4a9b-8f29-697433c8072c",
   "metadata": {},
   "outputs": [
    {
     "name": "stdout",
     "output_type": "stream",
     "text": [
      "Model: \"sequential\"\n",
      "_________________________________________________________________\n",
      " Layer (type)                Output Shape              Param #   \n",
      "=================================================================\n",
      " lstm (LSTM)                 (None, 100)               40800     \n",
      "                                                                 \n",
      " dense (Dense)               (None, 1)                 101       \n",
      "                                                                 \n",
      "=================================================================\n",
      "Total params: 40,901\n",
      "Trainable params: 40,901\n",
      "Non-trainable params: 0\n",
      "_________________________________________________________________\n"
     ]
    },
    {
     "name": "stderr",
     "output_type": "stream",
     "text": [
      "2023-02-10 12:40:29.388793: I tensorflow/core/platform/cpu_feature_guard.cc:193] This TensorFlow binary is optimized with oneAPI Deep Neural Network Library (oneDNN) to use the following CPU instructions in performance-critical operations:  SSE4.1 SSE4.2\n",
      "To enable them in other operations, rebuild TensorFlow with the appropriate compiler flags.\n"
     ]
    }
   ],
   "source": [
    "# define model\n",
    "model = Sequential() # adds layers in a sequence\n",
    "model.add(LSTM(100, activation='sigmoid', input_shape=(n_input, n_features))) # maybe try elu?\n",
    "# 100 neurons\n",
    "model.add(Dense(1))\n",
    "# 1 layer\n",
    "model.compile(optimizer='adam', loss='mse')\n",
    "model.summary()"
   ]
  },
  {
   "cell_type": "code",
   "execution_count": 11,
   "id": "48d6394a-eaa0-4232-a9a9-d4e93c3bf307",
   "metadata": {},
   "outputs": [
    {
     "name": "stdout",
     "output_type": "stream",
     "text": [
      "Epoch 1/50\n",
      "2368/2368 [==============================] - 60s 25ms/step - loss: 0.0102\n",
      "Epoch 2/50\n",
      "2368/2368 [==============================] - 58s 25ms/step - loss: 7.8069e-04\n",
      "Epoch 3/50\n",
      "2368/2368 [==============================] - 58s 25ms/step - loss: 4.9479e-04\n",
      "Epoch 4/50\n",
      "2368/2368 [==============================] - 62s 26ms/step - loss: 4.0876e-04\n",
      "Epoch 5/50\n",
      "2368/2368 [==============================] - 64s 27ms/step - loss: 2.9493e-04\n",
      "Epoch 6/50\n",
      "2368/2368 [==============================] - 64s 27ms/step - loss: 2.5028e-04\n",
      "Epoch 7/50\n",
      "2368/2368 [==============================] - 65s 27ms/step - loss: 2.3448e-04\n",
      "Epoch 8/50\n",
      "2368/2368 [==============================] - 65s 27ms/step - loss: 1.8228e-04\n",
      "Epoch 9/50\n",
      "2368/2368 [==============================] - 63s 26ms/step - loss: 1.0440e-04\n",
      "Epoch 10/50\n",
      "2368/2368 [==============================] - 59s 25ms/step - loss: 6.6467e-05\n",
      "Epoch 11/50\n",
      "2368/2368 [==============================] - 63s 27ms/step - loss: 7.4598e-05\n",
      "Epoch 12/50\n",
      "2368/2368 [==============================] - 65s 27ms/step - loss: 6.1724e-05\n",
      "Epoch 13/50\n",
      "2368/2368 [==============================] - 65s 27ms/step - loss: 5.7752e-05\n",
      "Epoch 14/50\n",
      "2368/2368 [==============================] - 66s 28ms/step - loss: 5.6791e-05\n",
      "Epoch 15/50\n",
      "2368/2368 [==============================] - 67s 28ms/step - loss: 5.6213e-05\n",
      "Epoch 16/50\n",
      "2368/2368 [==============================] - 65s 27ms/step - loss: 5.1804e-05\n",
      "Epoch 17/50\n",
      "2368/2368 [==============================] - 62s 26ms/step - loss: 4.9708e-05\n",
      "Epoch 18/50\n",
      "2368/2368 [==============================] - 58s 25ms/step - loss: 4.7844e-05\n",
      "Epoch 19/50\n",
      "2368/2368 [==============================] - 58s 24ms/step - loss: 4.2030e-05\n",
      "Epoch 20/50\n",
      "2368/2368 [==============================] - 58s 24ms/step - loss: 4.2979e-05\n",
      "Epoch 21/50\n",
      "2368/2368 [==============================] - 58s 25ms/step - loss: 4.0841e-05\n",
      "Epoch 22/50\n",
      "2368/2368 [==============================] - 60s 25ms/step - loss: 3.7866e-05\n",
      "Epoch 23/50\n",
      "2368/2368 [==============================] - 61s 26ms/step - loss: 4.0821e-05\n",
      "Epoch 24/50\n",
      "2368/2368 [==============================] - 59s 25ms/step - loss: 3.7138e-05\n",
      "Epoch 25/50\n",
      "2368/2368 [==============================] - 59s 25ms/step - loss: 3.8716e-05\n",
      "Epoch 26/50\n",
      "2368/2368 [==============================] - 58s 25ms/step - loss: 3.8585e-05\n",
      "Epoch 27/50\n",
      "2368/2368 [==============================] - 59s 25ms/step - loss: 3.9110e-05\n",
      "Epoch 28/50\n",
      "2368/2368 [==============================] - 59s 25ms/step - loss: 3.0154e-05\n",
      "Epoch 29/50\n",
      "2368/2368 [==============================] - 58s 25ms/step - loss: 3.5491e-05\n",
      "Epoch 30/50\n",
      "2368/2368 [==============================] - 59s 25ms/step - loss: 3.5483e-05\n",
      "Epoch 31/50\n",
      "2368/2368 [==============================] - 58s 25ms/step - loss: 3.6148e-05\n",
      "Epoch 32/50\n",
      "2368/2368 [==============================] - 58s 25ms/step - loss: 3.1910e-05\n",
      "Epoch 33/50\n",
      "2368/2368 [==============================] - 106s 45ms/step - loss: 3.4603e-05\n",
      "Epoch 34/50\n",
      "2368/2368 [==============================] - 277s 117ms/step - loss: 2.9498e-05\n",
      "Epoch 35/50\n",
      "2368/2368 [==============================] - 89s 38ms/step - loss: 3.1434e-05\n",
      "Epoch 36/50\n",
      "2368/2368 [==============================] - 70s 29ms/step - loss: 3.3403e-05\n",
      "Epoch 37/50\n",
      "2368/2368 [==============================] - 66s 28ms/step - loss: 2.8933e-05\n",
      "Epoch 38/50\n",
      "2368/2368 [==============================] - 70s 29ms/step - loss: 2.7514e-05\n",
      "Epoch 39/50\n",
      "2368/2368 [==============================] - 71s 30ms/step - loss: 2.9099e-05\n",
      "Epoch 40/50\n",
      "2368/2368 [==============================] - 70s 29ms/step - loss: 2.8902e-05\n",
      "Epoch 41/50\n",
      "2368/2368 [==============================] - 67s 28ms/step - loss: 2.9138e-05\n",
      "Epoch 42/50\n",
      "2368/2368 [==============================] - 70s 30ms/step - loss: 3.0743e-05\n",
      "Epoch 43/50\n",
      "2368/2368 [==============================] - 67s 28ms/step - loss: 2.8947e-05\n",
      "Epoch 44/50\n",
      "2368/2368 [==============================] - 67s 28ms/step - loss: 2.6164e-05\n",
      "Epoch 45/50\n",
      "2368/2368 [==============================] - 71s 30ms/step - loss: 2.8714e-05\n",
      "Epoch 46/50\n",
      "2368/2368 [==============================] - 71s 30ms/step - loss: 2.4401e-05\n",
      "Epoch 47/50\n",
      "2368/2368 [==============================] - 71s 30ms/step - loss: 2.7801e-05\n",
      "Epoch 48/50\n",
      "2368/2368 [==============================] - 71s 30ms/step - loss: 2.7907e-05\n",
      "Epoch 49/50\n",
      "2368/2368 [==============================] - 66s 28ms/step - loss: 2.6072e-05\n",
      "Epoch 50/50\n",
      "2368/2368 [==============================] - 68s 29ms/step - loss: 2.6895e-05\n"
     ]
    },
    {
     "data": {
      "text/plain": [
       "<keras.callbacks.History at 0x7fe1339f4340>"
      ]
     },
     "execution_count": 11,
     "metadata": {},
     "output_type": "execute_result"
    }
   ],
   "source": [
    "# fit model\n",
    "epochs = 50\n",
    "model.fit(generator, epochs=epochs)"
   ]
  },
  {
   "cell_type": "code",
   "execution_count": 12,
   "id": "590c6a21-b095-4189-a820-9635186a9285",
   "metadata": {},
   "outputs": [
    {
     "data": {
      "text/plain": [
       "'\\npath_checkpoint = \"LSTM_model_checkpoint.h5\"\\nes_callback = keras.callbacks.EarlyStopping(monitor=\"val_loss\", min_delta=0.0, patience=5)\\n\\nmodelckpt_callback = keras.callbacks.ModelCheckpoint(\\n    monitor=\"val_loss\",\\n    filepath=path_checkpoint,\\n    verbose=1,\\n    save_weights_only=True,\\n    save_best_only=True,\\n)\\n\\nhistory = model.fit(\\n    train_data,\\n    epochs=epochs,\\n    validation_data=validation_data,\\n    callbacks=[es_callback, modelckpt_callback],\\n)\\n'"
      ]
     },
     "execution_count": 12,
     "metadata": {},
     "output_type": "execute_result"
    }
   ],
   "source": [
    "'''\n",
    "path_checkpoint = \"LSTM_model_checkpoint.h5\"\n",
    "es_callback = keras.callbacks.EarlyStopping(monitor=\"val_loss\", min_delta=0.0, patience=5)\n",
    "\n",
    "modelckpt_callback = keras.callbacks.ModelCheckpoint(\n",
    "    monitor=\"val_loss\",\n",
    "    filepath=path_checkpoint,\n",
    "    verbose=1,\n",
    "    save_weights_only=True,\n",
    "    save_best_only=True,\n",
    ")\n",
    "\n",
    "history = model.fit(\n",
    "    train_data,\n",
    "    epochs=epochs,\n",
    "    validation_data=validation_data,\n",
    "    callbacks=[es_callback, modelckpt_callback],\n",
    ")\n",
    "'''"
   ]
  },
  {
   "cell_type": "code",
   "execution_count": 13,
   "id": "de699997-b427-4a5c-8508-4a4262bf2226",
   "metadata": {},
   "outputs": [
    {
     "data": {
      "text/plain": [
       "[<matplotlib.lines.Line2D at 0x7fe0c0067be0>]"
      ]
     },
     "execution_count": 13,
     "metadata": {},
     "output_type": "execute_result"
    },
    {
     "data": {
      "image/png": "[encoded data removed]",
      "text/plain": [
       "<Figure size 640x480 with 1 Axes>"
      ]
     },
     "metadata": {},
     "output_type": "display_data"
    }
   ],
   "source": [
    "loss_per_epoch = model.history.history['loss']\n",
    "#val_loss_per_epoch = model.history.history['val_loss']\n",
    "plt.plot(range(len(loss_per_epoch)),loss_per_epoch)"
   ]
  },
  {
   "cell_type": "code",
   "execution_count": 14,
   "id": "027cad75-5bc7-4aed-9b61-e253e7ac61c9",
   "metadata": {},
   "outputs": [],
   "source": [
    "last_train_batch = scaled_train[-n_input:] \n",
    "# take the last n_input month of values, to make \n",
    "# predictions on the 1st test set"
   ]
  },
  {
   "cell_type": "code",
   "execution_count": 15,
   "id": "99c36497-2d27-49ee-99d0-5f17aeb01b91",
   "metadata": {},
   "outputs": [],
   "source": [
    "last_train_batch = last_train_batch.reshape((1, n_input, n_features))"
   ]
  },
  {
   "cell_type": "code",
   "execution_count": 16,
   "id": "2827ecc5-7f07-4bce-9367-9e7300026262",
   "metadata": {},
   "outputs": [
    {
     "name": "stdout",
     "output_type": "stream",
     "text": [
      "1/1 [==============================] - 0s 246ms/step\n"
     ]
    },
    {
     "data": {
      "text/plain": [
       "array([[0.06259687]], dtype=float32)"
      ]
     },
     "execution_count": 16,
     "metadata": {},
     "output_type": "execute_result"
    }
   ],
   "source": [
    "model.predict(last_train_batch)"
   ]
  },
  {
   "cell_type": "code",
   "execution_count": 17,
   "id": "21a534f6-9e5e-44f1-af70-7b379daee63b",
   "metadata": {},
   "outputs": [
    {
     "name": "stdout",
     "output_type": "stream",
     "text": [
      "1/1 [==============================] - 0s 25ms/step\n",
      "1/1 [==============================] - 0s 25ms/step\n",
      "1/1 [==============================] - 0s 25ms/step\n",
      "1/1 [==============================] - 0s 25ms/step\n",
      "1/1 [==============================] - 0s 26ms/step\n",
      "1/1 [==============================] - 0s 25ms/step\n",
      "1/1 [==============================] - 0s 25ms/step\n",
      "1/1 [==============================] - 0s 25ms/step\n",
      "1/1 [==============================] - 0s 25ms/step\n",
      "1/1 [==============================] - 0s 25ms/step\n",
      "1/1 [==============================] - 0s 26ms/step\n",
      "1/1 [==============================] - 0s 25ms/step\n",
      "1/1 [==============================] - 0s 26ms/step\n",
      "1/1 [==============================] - 0s 26ms/step\n",
      "1/1 [==============================] - 0s 25ms/step\n",
      "1/1 [==============================] - 0s 24ms/step\n",
      "1/1 [==============================] - 0s 25ms/step\n",
      "1/1 [==============================] - 0s 25ms/step\n",
      "1/1 [==============================] - 0s 25ms/step\n",
      "1/1 [==============================] - 0s 30ms/step\n",
      "1/1 [==============================] - 0s 25ms/step\n",
      "1/1 [==============================] - 0s 26ms/step\n",
      "1/1 [==============================] - 0s 27ms/step\n",
      "1/1 [==============================] - 0s 26ms/step\n",
      "1/1 [==============================] - 0s 26ms/step\n",
      "1/1 [==============================] - 0s 26ms/step\n",
      "1/1 [==============================] - 0s 25ms/step\n",
      "1/1 [==============================] - 0s 28ms/step\n",
      "1/1 [==============================] - 0s 26ms/step\n",
      "1/1 [==============================] - 0s 25ms/step\n",
      "1/1 [==============================] - 0s 26ms/step\n",
      "1/1 [==============================] - 0s 26ms/step\n",
      "1/1 [==============================] - 0s 28ms/step\n",
      "1/1 [==============================] - 0s 26ms/step\n",
      "1/1 [==============================] - 0s 25ms/step\n",
      "1/1 [==============================] - 0s 25ms/step\n",
      "1/1 [==============================] - 0s 25ms/step\n",
      "1/1 [==============================] - 0s 28ms/step\n",
      "1/1 [==============================] - 0s 26ms/step\n",
      "1/1 [==============================] - 0s 26ms/step\n",
      "1/1 [==============================] - 0s 27ms/step\n",
      "1/1 [==============================] - 0s 25ms/step\n",
      "1/1 [==============================] - 0s 26ms/step\n",
      "1/1 [==============================] - 0s 25ms/step\n",
      "1/1 [==============================] - 0s 25ms/step\n",
      "1/1 [==============================] - 0s 26ms/step\n",
      "1/1 [==============================] - 0s 26ms/step\n",
      "1/1 [==============================] - 0s 28ms/step\n",
      "1/1 [==============================] - 0s 28ms/step\n",
      "1/1 [==============================] - 0s 27ms/step\n",
      "1/1 [==============================] - 0s 30ms/step\n",
      "1/1 [==============================] - 0s 31ms/step\n",
      "1/1 [==============================] - 0s 31ms/step\n",
      "1/1 [==============================] - 0s 27ms/step\n",
      "1/1 [==============================] - 0s 29ms/step\n",
      "1/1 [==============================] - 0s 32ms/step\n",
      "1/1 [==============================] - 0s 28ms/step\n",
      "1/1 [==============================] - 0s 27ms/step\n",
      "1/1 [==============================] - 0s 31ms/step\n",
      "1/1 [==============================] - 0s 43ms/step\n",
      "1/1 [==============================] - 0s 32ms/step\n",
      "1/1 [==============================] - 0s 30ms/step\n",
      "1/1 [==============================] - 0s 29ms/step\n",
      "1/1 [==============================] - 0s 35ms/step\n",
      "1/1 [==============================] - 0s 32ms/step\n",
      "1/1 [==============================] - 0s 28ms/step\n",
      "1/1 [==============================] - 0s 25ms/step\n",
      "1/1 [==============================] - 0s 25ms/step\n",
      "1/1 [==============================] - 0s 27ms/step\n",
      "1/1 [==============================] - 0s 28ms/step\n",
      "1/1 [==============================] - 0s 27ms/step\n",
      "1/1 [==============================] - 0s 28ms/step\n",
      "1/1 [==============================] - 0s 28ms/step\n",
      "1/1 [==============================] - 0s 26ms/step\n",
      "1/1 [==============================] - 0s 25ms/step\n",
      "1/1 [==============================] - 0s 27ms/step\n",
      "1/1 [==============================] - 0s 26ms/step\n",
      "1/1 [==============================] - 0s 26ms/step\n",
      "1/1 [==============================] - 0s 27ms/step\n",
      "1/1 [==============================] - 0s 25ms/step\n",
      "1/1 [==============================] - 0s 26ms/step\n",
      "1/1 [==============================] - 0s 27ms/step\n",
      "1/1 [==============================] - 0s 26ms/step\n",
      "1/1 [==============================] - 0s 26ms/step\n",
      "1/1 [==============================] - 0s 25ms/step\n",
      "1/1 [==============================] - 0s 25ms/step\n",
      "1/1 [==============================] - 0s 27ms/step\n",
      "1/1 [==============================] - 0s 26ms/step\n",
      "1/1 [==============================] - 0s 26ms/step\n",
      "1/1 [==============================] - 0s 26ms/step\n",
      "1/1 [==============================] - 0s 26ms/step\n",
      "1/1 [==============================] - 0s 28ms/step\n",
      "1/1 [==============================] - 0s 27ms/step\n",
      "1/1 [==============================] - 0s 25ms/step\n",
      "1/1 [==============================] - 0s 26ms/step\n",
      "1/1 [==============================] - 0s 25ms/step\n",
      "1/1 [==============================] - 0s 29ms/step\n",
      "1/1 [==============================] - 0s 27ms/step\n",
      "1/1 [==============================] - 0s 27ms/step\n",
      "1/1 [==============================] - 0s 27ms/step\n",
      "1/1 [==============================] - 0s 26ms/step\n",
      "1/1 [==============================] - 0s 26ms/step\n",
      "1/1 [==============================] - 0s 24ms/step\n",
      "1/1 [==============================] - 0s 26ms/step\n",
      "1/1 [==============================] - 0s 26ms/step\n",
      "1/1 [==============================] - 0s 25ms/step\n",
      "1/1 [==============================] - 0s 25ms/step\n",
      "1/1 [==============================] - 0s 26ms/step\n",
      "1/1 [==============================] - 0s 26ms/step\n",
      "1/1 [==============================] - 0s 26ms/step\n",
      "1/1 [==============================] - 0s 25ms/step\n",
      "1/1 [==============================] - 0s 25ms/step\n",
      "1/1 [==============================] - 0s 26ms/step\n",
      "1/1 [==============================] - 0s 25ms/step\n",
      "1/1 [==============================] - 0s 26ms/step\n",
      "1/1 [==============================] - 0s 26ms/step\n",
      "1/1 [==============================] - 0s 26ms/step\n",
      "1/1 [==============================] - 0s 27ms/step\n",
      "1/1 [==============================] - 0s 25ms/step\n",
      "1/1 [==============================] - 0s 25ms/step\n",
      "1/1 [==============================] - 0s 27ms/step\n",
      "1/1 [==============================] - 0s 25ms/step\n",
      "1/1 [==============================] - 0s 24ms/step\n",
      "1/1 [==============================] - 0s 25ms/step\n",
      "1/1 [==============================] - 0s 27ms/step\n",
      "1/1 [==============================] - 0s 26ms/step\n",
      "1/1 [==============================] - 0s 26ms/step\n",
      "1/1 [==============================] - 0s 29ms/step\n",
      "1/1 [==============================] - 0s 26ms/step\n",
      "1/1 [==============================] - 0s 25ms/step\n",
      "1/1 [==============================] - 0s 28ms/step\n",
      "1/1 [==============================] - 0s 25ms/step\n",
      "1/1 [==============================] - 0s 25ms/step\n",
      "1/1 [==============================] - 0s 25ms/step\n",
      "1/1 [==============================] - 0s 26ms/step\n",
      "1/1 [==============================] - 0s 27ms/step\n",
      "1/1 [==============================] - 0s 26ms/step\n",
      "1/1 [==============================] - 0s 28ms/step\n",
      "1/1 [==============================] - 0s 27ms/step\n",
      "1/1 [==============================] - 0s 24ms/step\n",
      "1/1 [==============================] - 0s 37ms/step\n",
      "1/1 [==============================] - 0s 26ms/step\n",
      "1/1 [==============================] - 0s 25ms/step\n",
      "1/1 [==============================] - 0s 26ms/step\n",
      "1/1 [==============================] - 0s 25ms/step\n",
      "1/1 [==============================] - 0s 26ms/step\n",
      "1/1 [==============================] - 0s 27ms/step\n",
      "1/1 [==============================] - 0s 27ms/step\n",
      "1/1 [==============================] - 0s 25ms/step\n",
      "1/1 [==============================] - 0s 27ms/step\n",
      "1/1 [==============================] - 0s 26ms/step\n",
      "1/1 [==============================] - 0s 25ms/step\n",
      "1/1 [==============================] - 0s 25ms/step\n",
      "1/1 [==============================] - 0s 26ms/step\n",
      "1/1 [==============================] - 0s 26ms/step\n",
      "1/1 [==============================] - 0s 25ms/step\n",
      "1/1 [==============================] - 0s 25ms/step\n",
      "1/1 [==============================] - 0s 25ms/step\n",
      "1/1 [==============================] - 0s 24ms/step\n",
      "1/1 [==============================] - 0s 26ms/step\n",
      "1/1 [==============================] - 0s 25ms/step\n",
      "1/1 [==============================] - 0s 25ms/step\n",
      "1/1 [==============================] - 0s 24ms/step\n",
      "1/1 [==============================] - 0s 26ms/step\n",
      "1/1 [==============================] - 0s 25ms/step\n",
      "1/1 [==============================] - 0s 26ms/step\n",
      "1/1 [==============================] - 0s 27ms/step\n",
      "1/1 [==============================] - 0s 24ms/step\n",
      "1/1 [==============================] - 0s 25ms/step\n",
      "1/1 [==============================] - 0s 28ms/step\n",
      "1/1 [==============================] - 0s 24ms/step\n"
     ]
    }
   ],
   "source": [
    "validation_predictions = []\n",
    "\n",
    "first_eval_batch = scaled_train[-n_input:]\n",
    "current_batch = first_eval_batch.reshape((1, n_input, n_features))\n",
    "\n",
    "for i in range(len(validation_data)):\n",
    "    \n",
    "    # get the prediction value for the first batch\n",
    "    current_pred = model.predict(current_batch)[0]\n",
    "    \n",
    "    # append the prediction into the array\n",
    "    validation_predictions.append(current_pred) \n",
    "    \n",
    "    # use the prediction to update the batch and remove the first value\n",
    "    current_batch = np.append(current_batch[:,1:,:],[[current_pred]],axis=1)"
   ]
  },
  {
   "cell_type": "code",
   "execution_count": 18,
   "id": "787881a8-d5ab-42b6-8403-302b605fe40a",
   "metadata": {},
   "outputs": [
    {
     "data": {
      "text/plain": [
       "[array([0.06259687], dtype=float32),\n",
       " array([0.07195607], dtype=float32),\n",
       " array([0.08227453], dtype=float32),\n",
       " array([0.09344578], dtype=float32),\n",
       " array([0.10530476], dtype=float32),\n",
       " array([0.11795086], dtype=float32),\n",
       " array([0.13124482], dtype=float32),\n",
       " array([0.14531994], dtype=float32),\n",
       " array([0.16002177], dtype=float32),\n",
       " array([0.1755048], dtype=float32),\n",
       " array([0.19159079], dtype=float32),\n",
       " array([0.20844981], dtype=float32),\n",
       " array([0.22587316], dtype=float32),\n",
       " array([0.2440406], dtype=float32),\n",
       " array([0.2627082], dtype=float32),\n",
       " array([0.2820607], dtype=float32),\n",
       " array([0.30181742], dtype=float32),\n",
       " array([0.32216516], dtype=float32),\n",
       " array([0.34278998], dtype=float32),\n",
       " array([0.36388126], dtype=float32),\n",
       " array([0.38510084], dtype=float32),\n",
       " array([0.40664214], dtype=float32),\n",
       " array([0.42815343], dtype=float32),\n",
       " array([0.44983226], dtype=float32),\n",
       " array([0.47132233], dtype=float32),\n",
       " array([0.49282098], dtype=float32),\n",
       " array([0.5139745], dtype=float32),\n",
       " array([0.53497636], dtype=float32),\n",
       " array([0.55548316], dtype=float32),\n",
       " array([0.5756786], dtype=float32),\n",
       " array([0.5952365], dtype=float32),\n",
       " array([0.6143291], dtype=float32),\n",
       " array([0.63265663], dtype=float32),\n",
       " array([0.6503803], dtype=float32),\n",
       " array([0.66723263], dtype=float32),\n",
       " array([0.68336356], dtype=float32),\n",
       " array([0.6985438], dtype=float32),\n",
       " array([0.7129139], dtype=float32),\n",
       " array([0.7262854], dtype=float32),\n",
       " array([0.7387894], dtype=float32),\n",
       " array([0.7502769], dtype=float32),\n",
       " array([0.7608703], dtype=float32),\n",
       " array([0.770458], dtype=float32),\n",
       " array([0.7791519], dtype=float32),\n",
       " array([0.78687245], dtype=float32),\n",
       " array([0.7937214], dtype=float32),\n",
       " array([0.7996461], dtype=float32),\n",
       " array([0.8047389], dtype=float32),\n",
       " array([0.8089681], dtype=float32),\n",
       " array([0.8124165], dtype=float32),\n",
       " array([0.8150682], dtype=float32),\n",
       " array([0.8169983], dtype=float32),\n",
       " array([0.81820285], dtype=float32),\n",
       " array([0.8187474], dtype=float32),\n",
       " array([0.81863785], dtype=float32),\n",
       " array([0.81793094], dtype=float32),\n",
       " array([0.81663954], dtype=float32),\n",
       " array([0.8148145], dtype=float32),\n",
       " array([0.81247455], dtype=float32),\n",
       " array([0.809662], dtype=float32),\n",
       " array([0.8063988], dtype=float32),\n",
       " array([0.80272156], dtype=float32),\n",
       " array([0.79865426], dtype=float32),\n",
       " array([0.79422694], dtype=float32),\n",
       " array([0.78946567], dtype=float32),\n",
       " array([0.7843954], dtype=float32),\n",
       " array([0.77904314], dtype=float32),\n",
       " array([0.77342904], dtype=float32),\n",
       " array([0.7675804], dtype=float32),\n",
       " array([0.7615153], dtype=float32),\n",
       " array([0.7552603], dtype=float32),\n",
       " array([0.74883103], dtype=float32),\n",
       " array([0.7422522], dtype=float32),\n",
       " array([0.73553795], dtype=float32),\n",
       " array([0.7287122], dtype=float32),\n",
       " array([0.7217872], dtype=float32),\n",
       " array([0.71478623], dtype=float32),\n",
       " array([0.7077206], dtype=float32),\n",
       " array([0.7006127], dtype=float32),\n",
       " array([0.6934731], dtype=float32),\n",
       " array([0.6863242], dtype=float32),\n",
       " array([0.6791756], dtype=float32),\n",
       " array([0.67204887], dtype=float32),\n",
       " array([0.6649531], dtype=float32),\n",
       " array([0.6579085], dtype=float32),\n",
       " array([0.650924], dtype=float32),\n",
       " array([0.6440189], dtype=float32),\n",
       " array([0.6372015], dtype=float32),\n",
       " array([0.63049006], dtype=float32),\n",
       " array([0.62389255], dtype=float32),\n",
       " array([0.617426], dtype=float32),\n",
       " array([0.61109763], dtype=float32),\n",
       " array([0.60492384], dtype=float32),\n",
       " array([0.59891105], dtype=float32),\n",
       " array([0.5930744], dtype=float32),\n",
       " array([0.58741975], dtype=float32),\n",
       " array([0.58196056], dtype=float32),\n",
       " array([0.576702], dtype=float32),\n",
       " array([0.5716563], dtype=float32),\n",
       " array([0.56682765], dtype=float32),\n",
       " array([0.5622267], dtype=float32),\n",
       " array([0.5578571], dtype=float32),\n",
       " array([0.5537277], dtype=float32),\n",
       " array([0.54984164], dtype=float32),\n",
       " array([0.5462066], dtype=float32),\n",
       " array([0.54282445], dtype=float32),\n",
       " array([0.53970164], dtype=float32),\n",
       " array([0.5368393], dtype=float32),\n",
       " array([0.53424245], dtype=float32),\n",
       " array([0.5319116], dtype=float32),\n",
       " array([0.52985024], dtype=float32),\n",
       " array([0.52805823], dtype=float32),\n",
       " array([0.526538], dtype=float32),\n",
       " array([0.52528834], dtype=float32),\n",
       " array([0.524311], dtype=float32),\n",
       " array([0.52360433], dtype=float32),\n",
       " array([0.5231683], dtype=float32),\n",
       " array([0.52300096], dtype=float32),\n",
       " array([0.5231018], dtype=float32),\n",
       " array([0.5234681], dtype=float32),\n",
       " array([0.5240983], dtype=float32),\n",
       " array([0.5249891], dtype=float32),\n",
       " array([0.52613837], dtype=float32),\n",
       " array([0.5275422], dtype=float32),\n",
       " array([0.52919745], dtype=float32),\n",
       " array([0.5311], dtype=float32),\n",
       " array([0.53324604], dtype=float32),\n",
       " array([0.5356306], dtype=float32),\n",
       " array([0.5382491], dtype=float32),\n",
       " array([0.54109627], dtype=float32),\n",
       " array([0.54416704], dtype=float32),\n",
       " array([0.5474555], dtype=float32),\n",
       " array([0.5509558], dtype=float32),\n",
       " array([0.55466163], dtype=float32),\n",
       " array([0.55856663], dtype=float32),\n",
       " array([0.5626638], dtype=float32),\n",
       " array([0.5669462], dtype=float32),\n",
       " array([0.5714063], dtype=float32),\n",
       " array([0.5760366], dtype=float32),\n",
       " array([0.5808292], dtype=float32),\n",
       " array([0.58577627], dtype=float32),\n",
       " array([0.5908693], dtype=float32),\n",
       " array([0.5960998], dtype=float32),\n",
       " array([0.6014591], dtype=float32),\n",
       " array([0.6069386], dtype=float32),\n",
       " array([0.612529], dtype=float32),\n",
       " array([0.6182215], dtype=float32),\n",
       " array([0.6240069], dtype=float32),\n",
       " array([0.6298757], dtype=float32),\n",
       " array([0.6358188], dtype=float32),\n",
       " array([0.64182687], dtype=float32),\n",
       " array([0.64789057], dtype=float32),\n",
       " array([0.6540006], dtype=float32),\n",
       " array([0.66014785], dtype=float32),\n",
       " array([0.666323], dtype=float32),\n",
       " array([0.6725169], dtype=float32),\n",
       " array([0.6787211], dtype=float32),\n",
       " array([0.6849264], dtype=float32),\n",
       " array([0.6911245], dtype=float32),\n",
       " array([0.6973069], dtype=float32),\n",
       " array([0.7034656], dtype=float32),\n",
       " array([0.7095929], dtype=float32),\n",
       " array([0.7156811], dtype=float32),\n",
       " array([0.72172284], dtype=float32),\n",
       " array([0.7277113], dtype=float32),\n",
       " array([0.7336398], dtype=float32),\n",
       " array([0.73950213], dtype=float32),\n",
       " array([0.7452924], dtype=float32),\n",
       " array([0.7510048], dtype=float32),\n",
       " array([0.7566344], dtype=float32),\n",
       " array([0.76217604], dtype=float32)]"
      ]
     },
     "execution_count": 18,
     "metadata": {},
     "output_type": "execute_result"
    }
   ],
   "source": [
    "validation_predictions\n",
    "# NOTE: these predictions are in the range 0-1\n",
    "# we need to convert it back "
   ]
  },
  {
   "cell_type": "code",
   "execution_count": 19,
   "id": "65c1f186-6cc9-4993-83df-16cae238fc41",
   "metadata": {},
   "outputs": [],
   "source": [
    "true_predictions = scaler.inverse_transform(validation_predictions)"
   ]
  },
  {
   "cell_type": "code",
   "execution_count": 20,
   "id": "9ee137c3-91f5-454e-a4cf-fb9e73275afe",
   "metadata": {},
   "outputs": [
    {
     "name": "stderr",
     "output_type": "stream",
     "text": [
      "/var/folders/42/2w7j46nn3j75crpy2kc1y7vw0000gn/T/ipykernel_14691/2311742674.py:1: SettingWithCopyWarning: \n",
      "A value is trying to be set on a copy of a slice from a DataFrame.\n",
      "Try using .loc[row_indexer,col_indexer] = value instead\n",
      "\n",
      "See the caveats in the documentation: https://pandas.pydata.org/pandas-docs/stable/user_guide/indexing.html#returning-a-view-versus-a-copy\n",
      "  validation_data['Predictions'] = true_predictions\n"
     ]
    }
   ],
   "source": [
    "validation_data['Predictions'] = true_predictions"
   ]
  },
  {
   "cell_type": "code",
   "execution_count": 21,
   "id": "070f1e22-3adb-426a-82e3-f45ce5e004a1",
   "metadata": {},
   "outputs": [
    {
     "data": {
      "image/png": "[encoded data removed]",
      "text/plain": [
       "<Figure size 1400x500 with 1 Axes>"
      ]
     },
     "metadata": {},
     "output_type": "display_data"
    }
   ],
   "source": [
    "validation_data.plot(figsize=(14,5));"
   ]
  },
  {
   "cell_type": "markdown",
   "id": "cb01a206-0ccc-419c-bb67-ba52320f2a53",
   "metadata": {},
   "source": [
    "### Comment on plot:\n",
    "Initially started using an RNN with a ReLu activation function, which produced some form of results, but they didn't fit well to the data.\n",
    "\n",
    "I have attempted to use a Sigmoid function instead, which again seems to produce some form of results, but it predicts the sunspot number to be much higher than it was, and doesn't seem to come back down to a minimum of zero. One positive note is th"
   ]
  }
 ],
 "metadata": {
  "kernelspec": {
   "display_name": "Python 3 (ipykernel)",
   "language": "python",
   "name": "python3"
  },
  "language_info": {
   "codemirror_mode": {
    "name": "ipython",
    "version": 3
   },
   "file_extension": ".py",
   "mimetype": "text/x-python",
   "name": "python",
   "nbconvert_exporter": "python",
   "pygments_lexer": "ipython3",
   "version": "3.8.16"
  }
 },
 "nbformat": 4,
 "nbformat_minor": 5
}
