{
 "cells": [
  {
   "cell_type": "markdown",
   "id": "2b919d3e-38f4-4d53-8747-a4e79819b78b",
   "metadata": {},
   "source": [
    "# Fitting SVG signal\n",
    "\n",
    "In this notebook I will take a random sample of points from the SVG smoothed signal (created in Sunspot Data Plotting) and see if the Gaussian process can (essentially) fill in the rest of the points.\n",
    "\n",
    "For this I will be using the ***qusi-periodic kernel function***, given by:\n",
    "\n",
    "$$ k_{i,j} = A^2 \\exp{\\left[-\\frac{(x_i-x_j)^2}{2 l_1^2} - \\frac{\\sin^2}{l^2_2}{\\left(\\frac{\\pi (x_i - x_j)}{P} \\right)} \\right]} + \\sigma^2 \\delta_{ij}$$\n",
    "\n",
    "A list of kernel functions for PyMC3 can be found at https://docs.pymc.io/en/v3/api/gp/cov.html"
   ]
  },
  {
   "cell_type": "code",
   "execution_count": 1,
   "id": "9c0df86a-1bcd-41b9-9ca5-4a38cf3a42e5",
   "metadata": {},
   "outputs": [],
   "source": [
    "import numpy as np\n",
    "import matplotlib.pyplot as plt\n",
    "import pandas as pd\n",
    "import pymc3 as pm\n",
    "import scipy as sp\n",
    "import arviz as az\n",
    "import theano.tensor as tt"
   ]
  },
  {
   "cell_type": "code",
   "execution_count": 2,
   "id": "c5f17940-b1a7-4ab6-b332-a443bd46a375",
   "metadata": {},
   "outputs": [],
   "source": [
    "df = pd.read_csv('../../Data/Savitzky-Golay Data/SVG_poly1.csv') # importing data for SVG polyorder = 1\n",
    "X = ((df.Year).values).reshape(-1,1)\n",
    "y = (df.Sunspot_Number).values"
   ]
  },
  {
   "cell_type": "code",
   "execution_count": 3,
   "id": "b1d48447-919c-4a5f-90d3-a9038e59c357",
   "metadata": {},
   "outputs": [
    {
     "data": {
      "text/html": [
       "<div>\n",
       "<style scoped>\n",
       "    .dataframe tbody tr th:only-of-type {\n",
       "        vertical-align: middle;\n",
       "    }\n",
       "\n",
       "    .dataframe tbody tr th {\n",
       "        vertical-align: top;\n",
       "    }\n",
       "\n",
       "    .dataframe thead th {\n",
       "        text-align: right;\n",
       "    }\n",
       "</style>\n",
       "<table border=\"1\" class=\"dataframe\">\n",
       "  <thead>\n",
       "    <tr style=\"text-align: right;\">\n",
       "      <th></th>\n",
       "      <th>Unnamed: 0</th>\n",
       "      <th>Year</th>\n",
       "      <th>Sunspot_Number</th>\n",
       "    </tr>\n",
       "  </thead>\n",
       "  <tbody>\n",
       "    <tr>\n",
       "      <th>0</th>\n",
       "      <td>0</td>\n",
       "      <td>1818.001</td>\n",
       "      <td>34.566570</td>\n",
       "    </tr>\n",
       "    <tr>\n",
       "      <th>1</th>\n",
       "      <td>1</td>\n",
       "      <td>1818.004</td>\n",
       "      <td>34.546053</td>\n",
       "    </tr>\n",
       "    <tr>\n",
       "      <th>2</th>\n",
       "      <td>2</td>\n",
       "      <td>1818.007</td>\n",
       "      <td>34.525535</td>\n",
       "    </tr>\n",
       "    <tr>\n",
       "      <th>3</th>\n",
       "      <td>3</td>\n",
       "      <td>1818.010</td>\n",
       "      <td>34.505017</td>\n",
       "    </tr>\n",
       "    <tr>\n",
       "      <th>4</th>\n",
       "      <td>4</td>\n",
       "      <td>1818.012</td>\n",
       "      <td>34.484499</td>\n",
       "    </tr>\n",
       "  </tbody>\n",
       "</table>\n",
       "</div>"
      ],
      "text/plain": [
       "   Unnamed: 0      Year  Sunspot_Number\n",
       "0           0  1818.001       34.566570\n",
       "1           1  1818.004       34.546053\n",
       "2           2  1818.007       34.525535\n",
       "3           3  1818.010       34.505017\n",
       "4           4  1818.012       34.484499"
      ]
     },
     "execution_count": 3,
     "metadata": {},
     "output_type": "execute_result"
    }
   ],
   "source": [
    "df.head()"
   ]
  },
  {
   "cell_type": "code",
   "execution_count": null,
   "id": "45b93047-7249-40b1-9d2f-85bef804ffd7",
   "metadata": {},
   "outputs": [],
   "source": [
    "rng = np.random.RandomState(1) # random selection of points\n",
    "training_indices = rng.choice(np.arange(y.size), size=200, replace=False)"
   ]
  },
  {
   "cell_type": "code",
   "execution_count": null,
   "id": "18971489-1fd6-4c3e-82f8-867e41d72b88",
   "metadata": {},
   "outputs": [],
   "source": [
    "training_values = X[::600], y[::600]\n",
    "# Note: changed from using random values to using\n",
    "# every 600 values --> want to get the best fitting \n",
    "\n",
    "training_data = training_values[0], np.log(training_values[1])  \n",
    "# take logs to obtain positive definite values\n",
    "X_train = training_data[0]\n",
    "y_train = training_data[1]\n",
    "\n",
    "fig, ax = plt.subplots(2, dpi=125, figsize=[15,5])\n",
    "\n",
    "ax[0].scatter(training_values[0], training_values[1], label='Training Values', s=1)\n",
    "ax[0].set_ylabel(\"# Sunspot\")\n",
    "ax[1].scatter(training_data[0], training_data[1], label='Training Data', s=1, color='red')\n",
    "ax[1].set_ylabel(\"Log # Sunspot\")\n",
    "ax[1].set_xlabel('Year')\n",
    "fig.legend();"
   ]
  },
  {
   "cell_type": "markdown",
   "id": "f87af485-537a-4c8a-b12b-0cebe001ae2e",
   "metadata": {},
   "source": [
    "Here we are taking a sample of points from our data (which contains over 70,000 datapoints). The training data represents most of the shape of the distribution, so we will observe how well it can be modelled using a Gaussian process.\n",
    "\n",
    "PyMC3 doesn't contain the quasi-periodic kernel, but it *does* contain a **periodic kernel** as well as a **squared exponential kernel**, which we can multiply togehter to arrive at our desired kernel."
   ]
  },
  {
   "cell_type": "code",
   "execution_count": null,
   "id": "699047a5-672c-4af5-a034-e277c43fb7c8",
   "metadata": {},
   "outputs": [],
   "source": [
    "# Define Sinusoidal Mean Function\n",
    "class SinusoidalMean(pm.gp.mean.Mean):\n",
    "    def __init__(self, amplitude):\n",
    "        super().__init__()\n",
    "        self.amplitude = amplitude\n",
    "    \n",
    "    def __call__(self, x):\n",
    "        return tt.log(self.amplitude * tt.sin(x[:, 0] * np.pi / period + phase)**2 + offset)\n",
    "\n",
    "# Define the Gaussian Process\n",
    "with pm.Model() as model:\n",
    "    ''' Change the priors '''\n",
    "    # Define the phase of the sinusoidal mean\n",
    "    phase = pm.Beta('phase', 2, 2) \n",
    "    \n",
    "    # Define the amplitude of the sinusoidal mean\n",
    "    amplitude = pm.Normal('amplitude', 150, 100) \n",
    "     \n",
    "    # Define the offset of the sinusoidal mean\n",
    "    offset = pm.Gamma('offset', 7.5, 1) \n",
    "    \n",
    "    # Define the `Period' as a normal distribtion with mean = 11 years\n",
    "    period = pm.Normal('period', 11, 1)\n",
    "    \n",
    "    # Define the `length scale 1' of the periodic kernel as a normal distribution with mean = 1 year\n",
    "    length_scale1 = pm.Gamma('Length Scale 1', 7.5, 1)  \n",
    "    \n",
    "    # Define the `length_scale 2' of the squared-exponential kernel as a normal distribution with mean = 9 years\n",
    "    length_scale2 = pm.Gamma('Length Scale 2', 7.5, 1)\n",
    "    \n",
    "    # Define the `Standard deviation' as a beta function\n",
    "    sigma = pm.Beta('$\\sigma$', 2, 2)\n",
    "    \n",
    "    # Define the periodic kernel\n",
    "    cov_periodic = pm.gp.cov.Periodic(1, period=period, ls=length_scale1)\n",
    "    \n",
    "    # Define the squared-exponential kernel\n",
    "    cov_SE = pm.gp.cov.ExpQuad(1, ls=length_scale2)\n",
    "    \n",
    "    # Define the quasi-periodic kernel\n",
    "    cov_qp = cov_SE * cov_periodic \n",
    "    \n",
    "    sinusoidal_mean = SinusoidalMean(amplitude)\n",
    "    \n",
    "    gp = pm.gp.Marginal(cov_func=cov_qp, mean_func=sinusoidal_mean)  # implementation of the sum of a GP prior and noise\n",
    "\n",
    "    y_ = gp.marginal_likelihood(\"y\", X=X_train, y=y_train, noise=sigma)\n",
    "\n",
    "    tr = pm.sample(return_inferencedata=True) # finds local maximimum 'a posteriori point' given a model"
   ]
  },
  {
   "cell_type": "markdown",
   "id": "2a1183ce-77fc-4ad6-92f4-d4afcd9fa51a",
   "metadata": {},
   "source": [
    "The above code required a lot of trial and error to see at which points the priors converge to their optimal values, and continued readjustment of priors eventually lead to the values we have below.\n",
    "\n",
    "**Update:** I have created a custom mean function using *theano*. This mean function is sinusoidal, as opposed to the constant one which was being used previously. I have done this because I don't want my GP to tend to a constand value when it gets too far from the previous data point, as we expect the solar cycle to retain its general sinusoidal shape."
   ]
  },
  {
   "cell_type": "code",
   "execution_count": null,
   "id": "b0d38a15-3509-4094-80d1-9962124cba6e",
   "metadata": {},
   "outputs": [],
   "source": [
    "az.plot_posterior(tr, linewidth=2, c='tab:blue', figsize=(21,3.2), textsize=12);\n",
    "#plt.savefig('gp post.png'); "
   ]
  },
  {
   "cell_type": "markdown",
   "id": "afe73374-a9a3-4b1f-afed-77d5b05aec32",
   "metadata": {},
   "source": [
    "#### Comment on plot:\n",
    "\n",
    "For the latest run-through I have set a separate parameter for the period of the sinusoidal mean (as opposed to the 11 year period previously attempted). As we can see from the posteriors, this parameter has 'messed up' the smooth distributions we had before, and the value for period has many different peaks. \n",
    "\n",
    "I still believe that the correct period in the sinusoidal mean should be ~ 11 years, but for the posterior of *period1* shows something very different and needs exploring further."
   ]
  },
  {
   "cell_type": "code",
   "execution_count": null,
   "id": "9fcd13ef-7a15-4ac8-931c-8dbc9aa3e5d0",
   "metadata": {},
   "outputs": [],
   "source": [
    "X_new = np.linspace(1800, 2075, 500)[:, None]\n",
    "with model:\n",
    "    fnew = gp.conditional(\"f_new\", Xnew=X_new)\n",
    "\n",
    "with model:\n",
    "    ppc = pm.sample_posterior_predictive(tr, samples=1000, var_names=[\"f_new\"])#"
   ]
  },
  {
   "cell_type": "code",
   "execution_count": null,
   "id": "c79f53a3-247d-457b-befc-4215810f9a9c",
   "metadata": {},
   "outputs": [],
   "source": [
    "from pymc3.gp.util import plot_gp_dist\n",
    "\n",
    "# draw plot\n",
    "fig = plt.figure(figsize=(14, 5))\n",
    "ax = fig.gca()\n",
    "plot_gp_dist(ax, np.exp(ppc['f_new']), X_new, palette=\"Blues\")\n",
    "# np.exp() to return log value to normal value\n",
    "\n",
    "# plot original data and GP\n",
    "plt.plot(training_values[0], training_values[1], \"or\", ms=3, alpha=1.0, label=\"Training Data\")\n",
    "plt.plot(X, y, color=\"black\", label=\"All Data\")\n",
    "plt.xlabel(\"Year\")\n",
    "plt.ylabel('Number of Sunspots')\n",
    "plt.xlim(1800,2075)\n",
    "plt.ylim(0,300)\n",
    "plt.legend();\n",
    "#plt.savefig('GD prediction');"
   ]
  },
  {
   "cell_type": "markdown",
   "id": "a6500f72-8e80-4df4-9106-988fa2b0f5aa",
   "metadata": {},
   "source": [
    "#### Comment on plot:\n",
    "\n",
    "Here we have used a ***quasi-periodic kernel*** consisting of only 200 data points. The GP does a very good job of modelling the data given the sparsity of data, however there is a recurrent issue with our parameter *length_scale1*, which is far too small and refuses to converge on anything else. This results in new predictions which do not show the same periodic behaivour, as the knowledge of the model essentially dies after that time.\n",
    "\n",
    "**Edit**: Previously the GP was done using the 'training_values', but to ensure positive definiteness I have first taken the logarithm of the y-values, performed the GP, and then returned them back to standard sunspot number. As a result, the values for $A$, $\\mu$ and $\\sigma$ are all *logarithmic* values. This has improved the predictions made by the GP, as all predictions are plausible (as there are no negative sunspot numbers predicted).\n",
    "\n",
    "**Edit 2**: Sinusoidal mean allows the future predictions to look more in line with our expectations, but we must not ignore the fact that these future predictions are simply the mean function. Therefore, we could argue that the GP is unable to make any reasonable predictions.\n"
   ]
  },
  {
   "cell_type": "markdown",
   "id": "c55c0f12-7720-4ac4-939f-0ab3296ba0ae",
   "metadata": {},
   "source": [
    "# Predicting validation dataset"
   ]
  },
  {
   "cell_type": "markdown",
   "id": "3d22afa1-7263-4830-83fb-a549ef7586bf",
   "metadata": {},
   "source": [
    "## Data Preprocessing"
   ]
  },
  {
   "cell_type": "code",
   "execution_count": 4,
   "id": "bd457a70-b0fa-40fa-8fc1-cbc3ef8e59c2",
   "metadata": {},
   "outputs": [
    {
     "data": {
      "image/png": "[encoded data removed]",
      "text/plain": [
       "<Figure size 1875x625 with 2 Axes>"
      ]
     },
     "metadata": {},
     "output_type": "display_data"
    }
   ],
   "source": [
    "limit = 65000 # training with the first 70k datapoints\n",
    "skips = 140 # 1 data point per 5 luna cycle\n",
    "\n",
    "train_data = df.iloc[:limit:skips] \n",
    "validation_data = df.iloc[limit::skips]\n",
    "\n",
    "training_values = (train_data.Year.values).reshape(-1,1), train_data.Sunspot_Number.values\n",
    "validation_values = (validation_data.Year.values).reshape(-1,1), validation_data.Sunspot_Number.values\n",
    "\n",
    "training_data = training_values[0], np.log(training_values[1]) \n",
    "validation_data = validation_values[0], np.log(validation_values[1])\n",
    "\n",
    "# take logs to obtain positive definite values\n",
    "X_train = training_data[0]\n",
    "y_train = training_data[1]\n",
    "\n",
    "fig, ax = plt.subplots(2, dpi=125, figsize=[15,5])\n",
    "\n",
    "ax[0].scatter(training_values[0], training_values[1], label='Training Values', s=1)\n",
    "ax[0].scatter(validation_values[0], validation_values[1], label='Validation Values', s=1, color='tab:green')\n",
    "ax[0].set_ylabel(\"# Sunspot\")\n",
    "ax[1].scatter(training_data[0], training_data[1], label='Training Data', s=1, color='red')\n",
    "ax[1].scatter(validation_data[0], validation_data[1], label='Validation Data', s=1, color='tab:green')\n",
    "ax[1].set_ylabel(\"Log # Sunspot\")\n",
    "ax[1].set_xlabel('Year')\n",
    "fig.legend();"
   ]
  },
  {
   "cell_type": "markdown",
   "id": "a39e066c-4c6e-4e52-8b35-615acec13ccf",
   "metadata": {},
   "source": [
    "## GP Regression"
   ]
  },
  {
   "cell_type": "code",
   "execution_count": null,
   "id": "7b2b9e86-43c6-46d0-a4f5-e7a1a3905786",
   "metadata": {},
   "outputs": [
    {
     "name": "stderr",
     "output_type": "stream",
     "text": [
      "Auto-assigning NUTS sampler...\n",
      "Initializing NUTS using jitter+adapt_diag...\n",
      "Multiprocess sampling (4 chains in 4 jobs)\n",
      "NUTS: [Length Scale 2]\n"
     ]
    },
    {
     "data": {
      "text/html": [
       "\n",
       "    <div>\n",
       "        <style>\n",
       "            /* Turns off some styling */\n",
       "            progress {\n",
       "                /* gets rid of default border in Firefox and Opera. */\n",
       "                border: none;\n",
       "                /* Needs to be in here for Safari polyfill so background images work as expected. */\n",
       "                background-size: auto;\n",
       "            }\n",
       "            .progress-bar-interrupted, .progress-bar-interrupted::-webkit-progress-bar {\n",
       "                background: #F44336;\n",
       "            }\n",
       "        </style>\n",
       "      <progress value='816' class='' max='8000' style='width:300px; height:20px; vertical-align: middle;'></progress>\n",
       "      10.20% [816/8000 01:03<09:21 Sampling 4 chains, 0 divergences]\n",
       "    </div>\n",
       "    "
      ],
      "text/plain": [
       "<IPython.core.display.HTML object>"
      ]
     },
     "metadata": {},
     "output_type": "display_data"
    }
   ],
   "source": [
    "# Define Sinusoidal Mean Function\n",
    "class SinusoidalMean(pm.gp.mean.Mean):\n",
    "    def __init__(self, amplitude):\n",
    "        super().__init__()\n",
    "        self.amplitude = amplitude\n",
    "    \n",
    "    def __call__(self, x):\n",
    "        return tt.log(self.amplitude * tt.sin(x[:, 0] * np.pi / period + phase)**2 + offset)\n",
    "\n",
    "# Define the Gaussian Process\n",
    "with pm.Model() as model:\n",
    "    ''' Change the priors '''\n",
    "    # Define the phase of the sinusoidal mean\n",
    "    phase = .52 #pm.Beta('phase', 2, 2) \n",
    "    \n",
    "    # Define the amplitude of the sinusoidal mean\n",
    "    amplitude = 53 #pm.Normal('amplitude', 150, 100) \n",
    "     \n",
    "    # Define the offset of the sinusoidal mean\n",
    "    offset = 16 #pm.Gamma('offset', 7.5, 1) \n",
    "    \n",
    "    # Define the `Period' as a normal distribtion with mean = 11 years\n",
    "    period = 11 #pm.Normal('period', 11, 1)\n",
    "    \n",
    "    # Define the `length scale 1' of the periodic kernel as a normal distribution with mean = 1 year\n",
    "    length_scale1 = 0.59 #pm.Normal('Length Scale 1', 1, 1)  \n",
    "    \n",
    "    # Define the `length_scale 2' of the squared-exponential kernel as a normal distribution with mean = 9 years\n",
    "    length_scale2 = pm.Normal('Length Scale 2', 9.5, 0.01)\n",
    "\n",
    "    # Define the `Standard deviation' as a beta function\n",
    "    sigma = 0.026 #pm.Beta('$\\sigma$', 2, 2)\n",
    "    \n",
    "    # Define the periodic kernel\n",
    "    cov_periodic = pm.gp.cov.Periodic(1, period=period, ls=length_scale1)\n",
    "    \n",
    "    # Define the squared-exponential kernel\n",
    "    cov_SE = pm.gp.cov.ExpQuad(1, ls=length_scale2)\n",
    "    \n",
    "    # Define the quasi-periodic kernel\n",
    "    cov_qp = cov_SE * cov_periodic \n",
    "    \n",
    "    sinusoidal_mean = SinusoidalMean(amplitude)\n",
    "    \n",
    "    gp = pm.gp.Marginal(cov_func=cov_qp, mean_func=sinusoidal_mean)  # implementation of the sum of a GP prior and noise\n",
    "\n",
    "    y_ = gp.marginal_likelihood(\"y\", X=X_train, y=y_train, noise=sigma)\n",
    "\n",
    "    tr = pm.sample(return_inferencedata=True) # finds local maximimum 'a posteriori point' given a model"
   ]
  },
  {
   "cell_type": "code",
   "execution_count": null,
   "id": "93b821d2-96e6-467f-84c7-733cf6f8bb05",
   "metadata": {},
   "outputs": [],
   "source": [
    "az.plot_posterior(tr, linewidth=2, c='tab:blue', figsize=(21,3.2), textsize=12);\n",
    "#plt.savefig('gp post.png'); \n",
    "\n",
    "#print(mp)"
   ]
  },
  {
   "cell_type": "markdown",
   "id": "35713d14-8631-4216-baf5-b1345c5b248d",
   "metadata": {},
   "source": [
    "#### Comment on plot:\n",
    "\n",
    "Here we have set very large prior distributions (except for period), in the hope that the sampling will converge on an optimal value, rather than using a narrow one (such as a normal distribution with small $\\sigma$). This is why are priors are very wide, however the values are a much better fit, as we will see below."
   ]
  },
  {
   "cell_type": "code",
   "execution_count": null,
   "id": "f88056c0-0fad-4afc-844a-50fd8f1326ee",
   "metadata": {},
   "outputs": [],
   "source": [
    "X_new = np.linspace(1818, 2023, 1000)[:, None]\n",
    "with model:\n",
    "    fnew = gp.conditional(\"f_new\", Xnew=X_new)\n",
    "\n",
    "with model:\n",
    "    ppc = pm.sample_posterior_predictive(tr, samples=1000, var_names=[\"f_new\"]);\n",
    "\n",
    "'''\n",
    "# To use the MAP values, you can just replace the trace with a length-1 list with `mp`\n",
    "with model:\n",
    "    pred_samples = pm.sample_posterior_predictive([mp], var_names=['f_new1'], samples=1000)\n",
    "'''"
   ]
  },
  {
   "cell_type": "code",
   "execution_count": null,
   "id": "3718a133-c2c1-4708-a545-992396384996",
   "metadata": {},
   "outputs": [],
   "source": [
    "from pymc3.gp.util import plot_gp_dist\n",
    "\n",
    "'''\n",
    "mmu, var = np.exp(gp.predict(X_new, point=mp, diag=True))\n",
    "sd = np.sqrt(var)\n",
    "'''\n",
    "\n",
    "# draw plot\n",
    "fig = plt.figure(figsize=(14, 5))\n",
    "plt.style.use('dark_background')\n",
    "ax = fig.gca()\n",
    "plot_gp_dist(ax, np.exp(ppc['f_new']), X_new, palette=\"inferno\")\n",
    "# np.exp() to return log value to normal value\n",
    "\n",
    "# plot original data and GP\n",
    "plt.plot(training_values[0], training_values[1], \"or\", ms=3, alpha=1.0, label=\"Training Data\")\n",
    "plt.plot(X, y, color=\"w\", label=\"All Data\")\n",
    "\n",
    "#plt.plot(2009.635*np.ones(5), np.linspace(0,400,5), 'g--', label='End of training')\n",
    "plt.xlabel(\"Year\", size=12)\n",
    "plt.ylabel('Number of Sunspots', size=12)\n",
    "\n",
    "plt.xlim(1817,2023)\n",
    "plt.ylim(0,250)\n",
    "plt.legend();\n",
    "'''\n",
    "plt.savefig(f'../../Figures/GP_inferno_crop.png', \n",
    "            transparent = False,  \n",
    "            facecolor = 'black'\n",
    "           );\n",
    "'''\n",
    "# draw plot\n",
    "fig = plt.figure(figsize=(14, 5))\n",
    "mu = np.exp(np.mean(ppc['f_new'], axis=0))\n",
    "std = np.exp(np.std(ppc['f_new'], axis=0))\n",
    "\n",
    "plt.plot(X, y, color=\"w\", label=\"All Data\")\n",
    "plt.plot(training_values[0], training_values[1], \"or\", ms=3, alpha=1.0, label=\"Training Data\")\n",
    "plt.plot(X_new, mu, color='cyan', label='Mean Prediction')\n",
    "#plt.plot(X_new, mmu, color='tab:green', label='Mean Prediction MAP')\n",
    "plt.fill_between(X_new.flatten(), mu-1.96*std, mu+1.96*std, alpha=1, label='95% CI', color='r')\n",
    "plt.xlim(1817,2023)\n",
    "plt.ylim(0,250)\n",
    "#plt.fill_between(X_new.flatten(), mmu-1.96*sd, mmu+1.96*sd, alpha=1, label='95% CI', color='g')\n",
    "plt.legend();\n",
    "\n",
    "#print(std)"
   ]
  },
  {
   "cell_type": "markdown",
   "id": "455782d7-9af8-41c8-82a1-4f9e1e55dceb",
   "metadata": {},
   "source": [
    "### Comment on plot:\n",
    "\n",
    "Here we have performed the same GP as before, but now we have given the model 70,000 training values, and we ask it to predict the final few thousand points.\n",
    "\n",
    "As we can see from the blue GP after we have finished training, the GP is unable to correctly predict what the values would be for sunspot number, the mode is smaller than the actual sunspot number recoreded. This seems to come from the problem with the mean function, as the mean's amplitude is still far too small.\n",
    "\n",
    "**Edit**: For the latest run, I have used the parameters from the initial GP which takes all the data into account (**this is cheating**), just to see how well the GP performs. The figure above shows predictions which are generally closer to the actual values, however as we can see from the sampling there is still a huge uncertainty as to what the amplitude of the cycles are.\n",
    "\n",
    "**Edit 2**: I have revisited the mean function and optimised that, as well as changing the priors to encompass a much wider range, so that the sampling has a better chance of finding the ideal parameters. This is the *best* run so far, and seems to predict the minima of the cycles, which has been a challenge for previous kernels."
   ]
  },
  {
   "cell_type": "code",
   "execution_count": 9,
   "id": "351d58f5-73ef-44aa-9671-e93144c13e97",
   "metadata": {},
   "outputs": [],
   "source": [
    "''' Saving the Data '''\n",
    "# Samples Data\n",
    "X_df = pd.DataFrame(X_new, columns=['X_new'])\n",
    "y_df = pd.DataFrame(ppc['f_new'].T)\n",
    "df_samples = pd.concat([X_df, y_df], axis=1)    \n",
    "#df_samples.tail()\n",
    "\n",
    "#df_samples.to_csv('../Data/GP Modelling Data/GP_df2.csv', index=False)"
   ]
  },
  {
   "cell_type": "markdown",
   "id": "f1a57e1b-7d85-4f26-b628-6c2273707c1c",
   "metadata": {},
   "source": [
    "## Finding $\\sigma$ for Taylor Diagram"
   ]
  },
  {
   "cell_type": "code",
   "execution_count": 10,
   "id": "a476d40c-5c7b-4534-bdaa-358275698869",
   "metadata": {},
   "outputs": [
    {
     "name": "stderr",
     "output_type": "stream",
     "text": [
      "/Applications/anaconda3/lib/python3.9/site-packages/pymc3/sampling.py:1689: UserWarning: samples parameter is smaller than nchains times ndraws, some draws and/or chains may not be represented in the returned posterior predictive sample\n",
      "  warnings.warn(\n"
     ]
    },
    {
     "data": {
      "text/html": [
       "\n",
       "    <div>\n",
       "        <style>\n",
       "            /* Turns off some styling */\n",
       "            progress {\n",
       "                /* gets rid of default border in Firefox and Opera. */\n",
       "                border: none;\n",
       "                /* Needs to be in here for Safari polyfill so background images work as expected. */\n",
       "                background-size: auto;\n",
       "            }\n",
       "            .progress-bar-interrupted, .progress-bar-interrupted::-webkit-progress-bar {\n",
       "                background: #F44336;\n",
       "            }\n",
       "        </style>\n",
       "      <progress value='1000' class='' max='1000' style='width:300px; height:20px; vertical-align: middle;'></progress>\n",
       "      100.00% [1000/1000 00:29<00:00]\n",
       "    </div>\n",
       "    "
      ],
      "text/plain": [
       "<IPython.core.display.HTML object>"
      ]
     },
     "metadata": {},
     "output_type": "display_data"
    }
   ],
   "source": [
    "X_new = validation_data[0] # just looking at the validation set\n",
    "with model:\n",
    "    fnew = gp.conditional(\"f_taylor\", Xnew=X_new)\n",
    "\n",
    "with model:\n",
    "    ppc = pm.sample_posterior_predictive(tr, samples=1000, var_names=[\"f_taylor\"])\n",
    "\n",
    "# To use the MAP values, you can just replace the trace with a length-1 list with `mp`\n",
    "#with model:\n",
    "#    pred_samples = pm.sample_posterior_predictive([mp], var_names=['f_taylor'], samples=1000)"
   ]
  },
  {
   "cell_type": "code",
   "execution_count": 16,
   "id": "fc5ef9e8-7bd2-4a7d-aca5-43e7803f5302",
   "metadata": {},
   "outputs": [
    {
     "ename": "KeyError",
     "evalue": "'f_taylor'",
     "output_type": "error",
     "traceback": [
      "\u001b[0;31m---------------------------------------------------------------------------\u001b[0m",
      "\u001b[0;31mKeyError\u001b[0m                                  Traceback (most recent call last)",
      "\u001b[0;32m/var/folders/f6/ysbvf32j6ks_1h83gmlfzghw0000gn/T/ipykernel_34890/2278862869.py\u001b[0m in \u001b[0;36m<module>\u001b[0;34m\u001b[0m\n\u001b[1;32m      4\u001b[0m \u001b[0;34m\u001b[0m\u001b[0m\n\u001b[1;32m      5\u001b[0m \u001b[0;31m# Sampling predictions\u001b[0m\u001b[0;34m\u001b[0m\u001b[0;34m\u001b[0m\u001b[0m\n\u001b[0;32m----> 6\u001b[0;31m \u001b[0mmu\u001b[0m \u001b[0;34m=\u001b[0m \u001b[0mnp\u001b[0m\u001b[0;34m.\u001b[0m\u001b[0mexp\u001b[0m\u001b[0;34m(\u001b[0m\u001b[0mnp\u001b[0m\u001b[0;34m.\u001b[0m\u001b[0mmean\u001b[0m\u001b[0;34m(\u001b[0m\u001b[0mppc\u001b[0m\u001b[0;34m[\u001b[0m\u001b[0;34m'f_taylor'\u001b[0m\u001b[0;34m]\u001b[0m\u001b[0;34m,\u001b[0m \u001b[0maxis\u001b[0m\u001b[0;34m=\u001b[0m\u001b[0;36m0\u001b[0m\u001b[0;34m)\u001b[0m\u001b[0;34m)\u001b[0m\u001b[0;34m\u001b[0m\u001b[0;34m\u001b[0m\u001b[0m\n\u001b[0m\u001b[1;32m      7\u001b[0m \u001b[0mstd\u001b[0m \u001b[0;34m=\u001b[0m \u001b[0mnp\u001b[0m\u001b[0;34m.\u001b[0m\u001b[0mexp\u001b[0m\u001b[0;34m(\u001b[0m\u001b[0mnp\u001b[0m\u001b[0;34m.\u001b[0m\u001b[0mstd\u001b[0m\u001b[0;34m(\u001b[0m\u001b[0mppc\u001b[0m\u001b[0;34m[\u001b[0m\u001b[0;34m'f_taylor'\u001b[0m\u001b[0;34m]\u001b[0m\u001b[0;34m,\u001b[0m \u001b[0maxis\u001b[0m\u001b[0;34m=\u001b[0m\u001b[0;36m0\u001b[0m\u001b[0;34m)\u001b[0m\u001b[0;34m)\u001b[0m\u001b[0;34m\u001b[0m\u001b[0;34m\u001b[0m\u001b[0m\n",
      "\u001b[0;31mKeyError\u001b[0m: 'f_taylor'"
     ]
    }
   ],
   "source": [
    "# MAP predictions\n",
    "#map_mu, var = np.exp(gp.predict(X_new, point=mp, diag=True))\n",
    "#map_std = np.sqrt(var)\n",
    "\n",
    "# Sampling predictions\n",
    "mu = np.exp(np.mean(ppc['f_taylor'], axis=0))\n",
    "std = np.exp(np.std(ppc['f_taylor'], axis=0))"
   ]
  },
  {
   "cell_type": "code",
   "execution_count": 17,
   "id": "ba669cf6-320a-4736-8fc2-181ae42adcd9",
   "metadata": {},
   "outputs": [
    {
     "ename": "ValueError",
     "evalue": "all the input array dimensions for the concatenation axis must match exactly, but along dimension 1, the array at index 0 has size 70 and the array at index 1 has size 1000",
     "output_type": "error",
     "traceback": [
      "\u001b[0;31m---------------------------------------------------------------------------\u001b[0m",
      "\u001b[0;31mValueError\u001b[0m                                Traceback (most recent call last)",
      "\u001b[0;32m/var/folders/f6/ysbvf32j6ks_1h83gmlfzghw0000gn/T/ipykernel_34890/3783627122.py\u001b[0m in \u001b[0;36m<module>\u001b[0;34m\u001b[0m\n\u001b[1;32m     10\u001b[0m \u001b[0;34m\u001b[0m\u001b[0m\n\u001b[1;32m     11\u001b[0m \u001b[0;31m# Correlation\u001b[0m\u001b[0;34m\u001b[0m\u001b[0;34m\u001b[0m\u001b[0m\n\u001b[0;32m---> 12\u001b[0;31m \u001b[0mcorrelation\u001b[0m \u001b[0;34m=\u001b[0m \u001b[0mnp\u001b[0m\u001b[0;34m.\u001b[0m\u001b[0marray\u001b[0m\u001b[0;34m(\u001b[0m\u001b[0mnp\u001b[0m\u001b[0;34m.\u001b[0m\u001b[0mcorrcoef\u001b[0m\u001b[0;34m(\u001b[0m\u001b[0mobserved\u001b[0m\u001b[0;34m,\u001b[0m \u001b[0mmu\u001b[0m\u001b[0;34m)\u001b[0m\u001b[0;34m[\u001b[0m\u001b[0;36m0\u001b[0m\u001b[0;34m,\u001b[0m \u001b[0;36m1\u001b[0m\u001b[0;34m]\u001b[0m\u001b[0;34m)\u001b[0m\u001b[0;34m\u001b[0m\u001b[0;34m\u001b[0m\u001b[0m\n\u001b[0m\u001b[1;32m     13\u001b[0m \u001b[0;34m\u001b[0m\u001b[0m\n\u001b[1;32m     14\u001b[0m \u001b[0mprint\u001b[0m\u001b[0;34m(\u001b[0m\u001b[0;34mf'The normalised standard deviation of the data is {normalised_std_data:.3f}'\u001b[0m\u001b[0;34m)\u001b[0m\u001b[0;34m\u001b[0m\u001b[0;34m\u001b[0m\u001b[0m\n",
      "\u001b[0;32m<__array_function__ internals>\u001b[0m in \u001b[0;36mcorrcoef\u001b[0;34m(*args, **kwargs)\u001b[0m\n",
      "\u001b[0;32m/Applications/anaconda3/lib/python3.9/site-packages/numpy/lib/function_base.py\u001b[0m in \u001b[0;36mcorrcoef\u001b[0;34m(x, y, rowvar, bias, ddof, dtype)\u001b[0m\n\u001b[1;32m   2681\u001b[0m         warnings.warn('bias and ddof have no effect and are deprecated',\n\u001b[1;32m   2682\u001b[0m                       DeprecationWarning, stacklevel=3)\n\u001b[0;32m-> 2683\u001b[0;31m     \u001b[0mc\u001b[0m \u001b[0;34m=\u001b[0m \u001b[0mcov\u001b[0m\u001b[0;34m(\u001b[0m\u001b[0mx\u001b[0m\u001b[0;34m,\u001b[0m \u001b[0my\u001b[0m\u001b[0;34m,\u001b[0m \u001b[0mrowvar\u001b[0m\u001b[0;34m,\u001b[0m \u001b[0mdtype\u001b[0m\u001b[0;34m=\u001b[0m\u001b[0mdtype\u001b[0m\u001b[0;34m)\u001b[0m\u001b[0;34m\u001b[0m\u001b[0;34m\u001b[0m\u001b[0m\n\u001b[0m\u001b[1;32m   2684\u001b[0m     \u001b[0;32mtry\u001b[0m\u001b[0;34m:\u001b[0m\u001b[0;34m\u001b[0m\u001b[0;34m\u001b[0m\u001b[0m\n\u001b[1;32m   2685\u001b[0m         \u001b[0md\u001b[0m \u001b[0;34m=\u001b[0m \u001b[0mdiag\u001b[0m\u001b[0;34m(\u001b[0m\u001b[0mc\u001b[0m\u001b[0;34m)\u001b[0m\u001b[0;34m\u001b[0m\u001b[0;34m\u001b[0m\u001b[0m\n",
      "\u001b[0;32m<__array_function__ internals>\u001b[0m in \u001b[0;36mcov\u001b[0;34m(*args, **kwargs)\u001b[0m\n",
      "\u001b[0;32m/Applications/anaconda3/lib/python3.9/site-packages/numpy/lib/function_base.py\u001b[0m in \u001b[0;36mcov\u001b[0;34m(m, y, rowvar, bias, ddof, fweights, aweights, dtype)\u001b[0m\n\u001b[1;32m   2475\u001b[0m         \u001b[0;32mif\u001b[0m \u001b[0;32mnot\u001b[0m \u001b[0mrowvar\u001b[0m \u001b[0;32mand\u001b[0m \u001b[0my\u001b[0m\u001b[0;34m.\u001b[0m\u001b[0mshape\u001b[0m\u001b[0;34m[\u001b[0m\u001b[0;36m0\u001b[0m\u001b[0;34m]\u001b[0m \u001b[0;34m!=\u001b[0m \u001b[0;36m1\u001b[0m\u001b[0;34m:\u001b[0m\u001b[0;34m\u001b[0m\u001b[0;34m\u001b[0m\u001b[0m\n\u001b[1;32m   2476\u001b[0m             \u001b[0my\u001b[0m \u001b[0;34m=\u001b[0m \u001b[0my\u001b[0m\u001b[0;34m.\u001b[0m\u001b[0mT\u001b[0m\u001b[0;34m\u001b[0m\u001b[0;34m\u001b[0m\u001b[0m\n\u001b[0;32m-> 2477\u001b[0;31m         \u001b[0mX\u001b[0m \u001b[0;34m=\u001b[0m \u001b[0mnp\u001b[0m\u001b[0;34m.\u001b[0m\u001b[0mconcatenate\u001b[0m\u001b[0;34m(\u001b[0m\u001b[0;34m(\u001b[0m\u001b[0mX\u001b[0m\u001b[0;34m,\u001b[0m \u001b[0my\u001b[0m\u001b[0;34m)\u001b[0m\u001b[0;34m,\u001b[0m \u001b[0maxis\u001b[0m\u001b[0;34m=\u001b[0m\u001b[0;36m0\u001b[0m\u001b[0;34m)\u001b[0m\u001b[0;34m\u001b[0m\u001b[0;34m\u001b[0m\u001b[0m\n\u001b[0m\u001b[1;32m   2478\u001b[0m \u001b[0;34m\u001b[0m\u001b[0m\n\u001b[1;32m   2479\u001b[0m     \u001b[0;32mif\u001b[0m \u001b[0mddof\u001b[0m \u001b[0;32mis\u001b[0m \u001b[0;32mNone\u001b[0m\u001b[0;34m:\u001b[0m\u001b[0;34m\u001b[0m\u001b[0;34m\u001b[0m\u001b[0m\n",
      "\u001b[0;32m<__array_function__ internals>\u001b[0m in \u001b[0;36mconcatenate\u001b[0;34m(*args, **kwargs)\u001b[0m\n",
      "\u001b[0;31mValueError\u001b[0m: all the input array dimensions for the concatenation axis must match exactly, but along dimension 1, the array at index 0 has size 70 and the array at index 1 has size 1000"
     ]
    }
   ],
   "source": [
    "observed = np.exp(validation_data[1])\n",
    "\n",
    "# Standard Deviation of Data\n",
    "std_data = np.std(observed) # std\n",
    "normalised_std_data = np.array(std_data / np.mean(observed))\n",
    "\n",
    "# Standard Deviation of Prediction\n",
    "std_pred = np.std(mu) # std\n",
    "normalised_std_pred = np.array(std_pred / np.mean(mu))\n",
    "\n",
    "# Correlation\n",
    "correlation = np.array(np.corrcoef(observed, mu)[0, 1])\n",
    "\n",
    "print(f'The normalised standard deviation of the data is {normalised_std_data:.3f}')\n",
    "print(f'The normalised standard deviation of the forecast is {normalised_std_pred:.3f}, and the correlation is {correlation:.3f}.')"
   ]
  },
  {
   "cell_type": "code",
   "execution_count": null,
   "id": "1d856ed2-7d25-4840-a134-2b20ae37577a",
   "metadata": {},
   "outputs": [],
   "source": [
    "''' Saving the Data '''\n",
    "data = {\"Metric\": [\"Standard Deviation (Normalised)\", \"Correlation Coefficient\"], \"Value\": [normalised_std_pred, correlation]}\n",
    "df = pd.DataFrame(data)\n",
    "#df.to_csv(\"../Data/Taylor Diagram Data/GP_taylor.csv\", index=False)"
   ]
  },
  {
   "cell_type": "code",
   "execution_count": null,
   "id": "528d20d6-006b-4e54-aa2d-11a8a92758ed",
   "metadata": {},
   "outputs": [],
   "source": [
    "plt.plot(mu)"
   ]
  },
  {
   "cell_type": "markdown",
   "id": "6af1d742-3d4a-422e-8414-b5d71380af22",
   "metadata": {
    "tags": []
   },
   "source": [
    "## Covariance Visualisation"
   ]
  },
  {
   "cell_type": "code",
   "execution_count": null,
   "id": "12c67a8f-a428-42a4-9ae8-6f081633fd6e",
   "metadata": {},
   "outputs": [],
   "source": [
    "import theano\n",
    "import theano.tensor as tt\n",
    "import matplotlib.cm as cmap\n",
    "np.random.seed(206)"
   ]
  },
  {
   "cell_type": "code",
   "execution_count": null,
   "id": "82a971d1-0aaf-463c-8ae7-1c1c0c531685",
   "metadata": {},
   "outputs": [],
   "source": [
    "length = 500\n",
    "X_new = np.linspace(1818,2022,length)[:,None]\n",
    "\n",
    "# function to display covariance matrices\n",
    "def plot_cov(X, K, stationary=True):\n",
    "    K = K + 1e-8*np.eye(X.shape[0])\n",
    "    x = X.flatten()\n",
    "    fig = plt.figure(figsize=(14,5))\n",
    "    ax1 = fig.add_subplot(121)\n",
    "    m = ax1.imshow(K, cmap=\"inferno\",\n",
    "                   interpolation='none',\n",
    "                   extent=(np.min(X), np.max(X), np.max(X), np.min(X)));\n",
    "    plt.colorbar(m);\n",
    "    ax1.set_title(\"Covariance Matrix\")\n",
    "    ax1.set_xlabel(\"X\")\n",
    "    ax1.set_ylabel(\"X\")\n",
    "\n",
    "    ax2 = fig.add_subplot(122)\n",
    "    if not stationary:\n",
    "        ax2.plot(x, np.diag(K), \"w\", lw=2, alpha=0.8)\n",
    "        ax2.set_title(\"The Diagonal of K\")\n",
    "        ax2.set_ylabel(\"k(x,x)\")\n",
    "    else:\n",
    "        ax2.plot(x, K[:,0], \"w\", lw=2, alpha=0.8)\n",
    "        ax2.set_title(\"K as a function of x - x'\")\n",
    "        ax2.set_ylabel(\"k(x,x')\")\n",
    "    ax2.set_xlabel(\"X\")\n",
    "\n",
    "    fig = plt.figure(figsize=(14,4))\n",
    "    ax = fig.add_subplot(111)\n",
    "    samples = np.random.multivariate_normal(np.zeros(length), K, 7).T;\n",
    "    for i in range(samples.shape[1]):\n",
    "        ax.plot(x, samples[:,i], lw=2);\n",
    "    ax.set_title(\"Samples from GP Prior\")\n",
    "    ax.set_xlabel(\"X\")"
   ]
  },
  {
   "cell_type": "code",
   "execution_count": null,
   "id": "039cddd9-09da-4e86-b05a-5a0d996eeda0",
   "metadata": {},
   "outputs": [],
   "source": [
    "with pm.Model() as model:\n",
    "        \n",
    "    # Define the phase of the sinusoidal mean\n",
    "    phase = 0.55\n",
    "    \n",
    "    # Define the amplitude of the sinusoidal mean\n",
    "    amplitude = 53\n",
    "     \n",
    "    # Define the offset of the sinusoidal mean\n",
    "    offset = 16\n",
    "    \n",
    "    # Define the `Period' as a normal distribtion with mean = 11 years\n",
    "    period = 11\n",
    "    \n",
    "    # Define the `length scale 1' of the periodic kernel as a normal distribution with mean = 1 year\n",
    "    length_scale1 = .59\n",
    "    \n",
    "    # Define the `length_scale 2' of the squared-exponential kernel as a normal distribution with mean = 9 years\n",
    "    length_scale2 = 9.5\n",
    "    \n",
    "    # Define the `Standard deviation' as a beta function\n",
    "    sigma = 0.026\n",
    "    \n",
    "    # Define the periodic kernel\n",
    "    cov_periodic = pm.gp.cov.Periodic(1, period=period, ls=length_scale1)\n",
    "    \n",
    "    # Define the squared-exponential kernel\n",
    "    cov_SE = pm.gp.cov.ExpQuad(1, ls=length_scale2)\n",
    "    \n",
    "    # Define the quasi-periodic kernel\n",
    "    cov_qp = cov_SE * cov_periodic \n",
    "    \n",
    "K = theano.function([], cov_qp(X_new))()\n",
    "plot_cov(X_new, K)"
   ]
  }
 ],
 "metadata": {
  "kernelspec": {
   "display_name": "Python 3 (ipykernel)",
   "language": "python",
   "name": "python3"
  },
  "language_info": {
   "codemirror_mode": {
    "name": "ipython",
    "version": 3
   },
   "file_extension": ".py",
   "mimetype": "text/x-python",
   "name": "python",
   "nbconvert_exporter": "python",
   "pygments_lexer": "ipython3",
   "version": "3.9.13"
  }
 },
 "nbformat": 4,
 "nbformat_minor": 5
}
