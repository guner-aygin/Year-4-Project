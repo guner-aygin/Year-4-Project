{
 "cells": [
  {
   "cell_type": "markdown",
   "id": "f49f0098-a9e9-4163-b171-3d7e471422c5",
   "metadata": {},
   "source": [
    "# Modelling Sunspot Area\n",
    "\n",
    "http://solarcyclescience.com/activeregions.html"
   ]
  },
  {
   "cell_type": "code",
   "execution_count": null,
   "id": "d612240d-c85c-4965-a4af-f8070794bb40",
   "metadata": {},
   "outputs": [],
   "source": []
  }
 ],
 "metadata": {
  "kernelspec": {
   "display_name": "Python 3",
   "language": "python",
   "name": "python3"
  },
  "language_info": {
   "codemirror_mode": {
    "name": "ipython",
    "version": 3
   },
   "file_extension": ".py",
   "mimetype": "text/x-python",
   "name": "python",
   "nbconvert_exporter": "python",
   "pygments_lexer": "ipython3",
   "version": "3.8.16"
  }
 },
 "nbformat": 4,
 "nbformat_minor": 5
}
